{
 "cells": [
  {
   "cell_type": "code",
   "execution_count": null,
   "metadata": {
    "collapsed": true,
    "deletable": true,
    "editable": true
   },
   "outputs": [],
   "source": [
    "# Make new conda environment\n",
    "#!conda create -n srnn\n",
    "#!source activate srnn\n",
    "#!while read -r line; do conda install $line -y; done < requirements.txt"
   ]
  },
  {
   "cell_type": "markdown",
   "metadata": {
    "deletable": true,
    "editable": true
   },
   "source": [
    "# Sentiment Analysis with an RNN\n",
    "\n",
    "In this notebook, you'll implement a recurrent neural network that performs sentiment analysis. Using an RNN rather than a feedfoward network is more accurate since we can include information about the *sequence* of words. Here we'll use a dataset of movie reviews, accompanied by labels.\n",
    "\n",
    "The architecture for this network is shown below.\n",
    "\n",
    "<img src=\"assets/network_diagram.png\" width=400px>\n",
    "\n",
    "Here, we'll pass in words to an embedding layer. We need an embedding layer because we have tens of thousands of words, so we'll need a more efficient representation for our input data than one-hot encoded vectors. You should have seen this before from the word2vec lesson. You can actually train up an embedding with word2vec and use it here. But it's good enough to just have an embedding layer and let the network learn the embedding table on it's own.\n",
    "\n",
    "From the embedding layer, the new representations will be passed to LSTM cells. These will add recurrent connections to the network so we can include information about the sequence of words in the data. Finally, the LSTM cells will go to a sigmoid output layer here. We're using the sigmoid because we're trying to predict if this text has positive or negative sentiment. The output layer will just be a single unit then, with a sigmoid activation function.\n",
    "\n",
    "We don't care about the sigmoid outputs except for the very last one, we can ignore the rest. We'll calculate the cost from the output of the last step and the training label."
   ]
  },
  {
   "cell_type": "code",
   "execution_count": 1,
   "metadata": {
    "collapsed": false,
    "deletable": true,
    "editable": true
   },
   "outputs": [],
   "source": [
    "import numpy as np\n",
    "import tensorflow as tf"
   ]
  },
  {
   "cell_type": "code",
   "execution_count": 2,
   "metadata": {
    "collapsed": true,
    "deletable": true,
    "editable": true
   },
   "outputs": [],
   "source": [
    "with open('../sentiment-network/reviews.txt', 'r') as f:\n",
    "    reviews = f.read()\n",
    "with open('../sentiment-network/labels.txt', 'r') as f:\n",
    "    labels = f.read()"
   ]
  },
  {
   "cell_type": "markdown",
   "metadata": {
    "deletable": true,
    "editable": true
   },
   "source": [
    "## Data preprocessing\n",
    "\n",
    "The first step when building a neural network model is getting your data into the proper form to feed into the network. Since we're using embedding layers, we'll need to encode each word with an integer. We'll also want to clean it up a bit.\n",
    "\n",
    "You can see an example of the reviews data above. We'll want to get rid of those periods. Also, you might notice that the reviews are delimited with newlines `\\n`. To deal with those, I'm going to split the text into each review using `\\n` as the delimiter. Then I can combined all the reviews back together into one big string.\n",
    "\n",
    "First, let's remove all punctuation. Then get all the text without the newlines and split it into individual words."
   ]
  },
  {
   "cell_type": "code",
   "execution_count": 3,
   "metadata": {
    "collapsed": true,
    "deletable": true,
    "editable": true
   },
   "outputs": [],
   "source": [
    "# 1. Clean Up Punctuation\n",
    "from string import punctuation\n",
    "all_text = ''.join([c for c in reviews if c not in punctuation])\n",
    "\n",
    "# 2. Split all_text into separate reviews (separated by newline chars)\n",
    "reviews = all_text.split('\\n')\n",
    "\n",
    "# 3. Define text as explicit sequence of words\n",
    "words = ' '.join(reviews).split()"
   ]
  },
  {
   "cell_type": "markdown",
   "metadata": {
    "deletable": true,
    "editable": true
   },
   "source": [
    "### Encoding the words\n",
    "\n",
    "The embedding lookup requires that we pass in integers to our network. The easiest way to do this is to create dictionaries that map the words in the vocabulary to integers. Then we can convert each of our reviews into integers so they can be passed into the network.\n",
    "\n",
    "> **Exercise:** Now you're going to encode the words with integers. Build a dictionary that maps words to integers. Later we're going to pad our input vectors with zeros, so make sure the integers **start at 1, not 0**.\n",
    "> Also, convert the reviews to integers and store the reviews in a new list called `int_reviews`. "
   ]
  },
  {
   "cell_type": "code",
   "execution_count": 4,
   "metadata": {
    "collapsed": true,
    "deletable": true,
    "editable": true
   },
   "outputs": [],
   "source": [
    "# 4. Define your vocab\n",
    "vocab = set(words)\n",
    "\n",
    "# 5. Create your dictionary that maps vocab words to integers here\n",
    "vocab_to_int = {w: i+1 for i,w in enumerate(vocab)}\n",
    "\n",
    "# 6. Convert the reviews to integers, same shape as reviews list, but with integers\n",
    "#  -- make sure to filter out the last review with 0 length \n",
    "int_reviews = [[vocab_to_int[word] for word in rev.split()]\n",
    "                for rev in reviews if len(rev) > 0]"
   ]
  },
  {
   "cell_type": "markdown",
   "metadata": {
    "deletable": true,
    "editable": true
   },
   "source": [
    "### Encoding the labels\n",
    "\n",
    "Our labels are \"positive\" or \"negative\". To use these labels in our network, we need to convert them to 0 and 1.\n",
    "\n",
    "> **Exercise:** Convert labels from `positive` and `negative` to 1 and 0, respectively."
   ]
  },
  {
   "cell_type": "code",
   "execution_count": 5,
   "metadata": {
    "collapsed": true,
    "deletable": true,
    "editable": true
   },
   "outputs": [],
   "source": [
    "# Convert labels to 1s and 0s for 'positive' and 'negative'\n",
    "#  -- make sure to filter out the last label with 0 length \n",
    "labels = np.array([1 if lab=='positive' else 0 for lab in labels.split('\\n') if len(lab) > 0])"
   ]
  },
  {
   "cell_type": "markdown",
   "metadata": {
    "deletable": true,
    "editable": true
   },
   "source": [
    "If you built `labels` correctly, you should see the next output."
   ]
  },
  {
   "cell_type": "code",
   "execution_count": 6,
   "metadata": {
    "collapsed": false,
    "deletable": true,
    "editable": true
   },
   "outputs": [
    {
     "name": "stdout",
     "output_type": "stream",
     "text": [
      "Zero-length reviews: 0\n",
      "Maximum review length: 2514\n"
     ]
    }
   ],
   "source": [
    "from collections import Counter\n",
    "review_lens = Counter([len(x) for x in int_reviews])\n",
    "print(\"Zero-length reviews: {}\".format(review_lens[0]))\n",
    "print(\"Maximum review length: {}\".format(max(review_lens)))"
   ]
  },
  {
   "cell_type": "markdown",
   "metadata": {
    "deletable": true,
    "editable": true
   },
   "source": [
    "Okay, the maximum review length is way too many steps for our RNN. Let's truncate to 200 steps. For reviews shorter than 200, we'll pad with 0s. For reviews longer than 200, we can truncate them to the first 200 characters.\n",
    "\n",
    "> **Exercise:** Now, create an array `features` that contains the data we'll pass to the network. The data should come from `review_ints`, since we want to feed integers to the network. Each row should be 200 elements long. For reviews shorter than 200 words, left pad with 0s. That is, if the review is `['best', 'movie', 'ever']`, `[117, 18, 128]` as integers, the row will look like `[0, 0, 0, ..., 0, 117, 18, 128]`. For reviews longer than 200, use on the first 200 words as the feature vector.\n",
    "\n",
    "This isn't trivial and there are a bunch of ways to do this. But, if you're going to be building your own deep learning networks, you're going to have to get used to preparing your data.\n",
    "\n"
   ]
  },
  {
   "cell_type": "code",
   "execution_count": 7,
   "metadata": {
    "collapsed": false,
    "deletable": true,
    "editable": true
   },
   "outputs": [],
   "source": [
    "seq_len = 200\n",
    "features = np.array([rev[0:200] if len(rev) > seq_len else [0]*(seq_len-len(rev))+rev for rev in int_reviews ])"
   ]
  },
  {
   "cell_type": "code",
   "execution_count": 8,
   "metadata": {
    "collapsed": false,
    "deletable": true,
    "editable": true
   },
   "outputs": [
    {
     "data": {
      "text/plain": [
       "(25000, 200)"
      ]
     },
     "execution_count": 8,
     "metadata": {},
     "output_type": "execute_result"
    }
   ],
   "source": [
    "features.shape"
   ]
  },
  {
   "cell_type": "markdown",
   "metadata": {
    "deletable": true,
    "editable": true
   },
   "source": [
    "## Training, Validation, Test\n",
    "\n"
   ]
  },
  {
   "cell_type": "markdown",
   "metadata": {
    "deletable": true,
    "editable": true
   },
   "source": [
    "With our data in nice shape, we'll split it into training, validation, and test sets.\n",
    "\n",
    "> **Exercise:** Create the training, validation, and test sets here. You'll need to create sets for the features and the labels, `train_x` and `train_y` for example. Define a split fraction, `split_frac` as the fraction of data to keep in the training set. Usually this is set to 0.8 or 0.9. The rest of the data will be split in half to create the validation and testing data."
   ]
  },
  {
   "cell_type": "code",
   "execution_count": 53,
   "metadata": {
    "collapsed": false,
    "deletable": true,
    "editable": true
   },
   "outputs": [
    {
     "name": "stdout",
     "output_type": "stream",
     "text": [
      "\t\t\tFeature Shapes:\n",
      "Train set: \t\t(20000, 200) \n",
      "Validation set: \t(2500, 200) \n",
      "Test set: \t\t(2500, 200)\n"
     ]
    }
   ],
   "source": [
    "split_frac = 0.8\n",
    "n_data = int(features.shape[0])\n",
    "np.random.seed(42)  # Ensure permuation's reproducibility\n",
    "random_indices = np.random.permutation(n_data)\n",
    "\n",
    "trn_vt_bdry = int(np.ceil(split_frac * n_data))\n",
    "n_vt = n_data - trn_vt_bdry\n",
    "val_tst_bdry = int(trn_vt_bdry + np.ceil(0.5 * n_vt))\n",
    "\n",
    "trn_idx = random_indices[:trn_vt_bdry]\n",
    "val_idx = random_indices[trn_vt_bdry:val_tst_bdry]\n",
    "tst_idx = random_indices[val_tst_bdry:]\n",
    "\n",
    "trn_x, trn_y = features[trn_idx,:], np.reshape(labels[trn_idx], (len(labels[trn_idx]),1))\n",
    "val_x, val_y = features[val_idx,:], np.reshape(labels[val_idx], (len(labels[val_idx]),1))\n",
    "tst_x, tst_y = features[tst_idx,:], np.reshape(labels[tst_idx], (len(labels[tst_idx]),1))\n",
    "\n",
    "print(\"\\t\\t\\tFeature Shapes:\")\n",
    "print(\"Train set: \\t\\t{}\".format(trn_x.shape), \n",
    "      \"\\nValidation set: \\t{}\".format(val_x.shape),\n",
    "      \"\\nTest set: \\t\\t{}\".format(tst_x.shape))"
   ]
  },
  {
   "cell_type": "markdown",
   "metadata": {
    "deletable": true,
    "editable": true
   },
   "source": [
    "## Build the graph\n",
    "\n",
    "Here, we'll build the graph. First up, defining the hyperparameters.\n",
    "\n",
    "* `lstm_width`: Number of units in the hidden layers in the LSTM cells. Usually larger is better performance wise. Common values are 128, 256, 512, etc.\n",
    "    - If we use a 300-dim embedding space, then 128 would represent a further dimRedux and 512 would represent more of a nonlinear feature exploration...\n",
    "    - actually, I might be wrong:  it is the \"layer width,\" however LSTM cells have four internal layers (3 sigmoid layers and 1 tanh layer), and the Udacity instructor says that this number applies to each layer, i.e., 256 specifies the existence of 4*256=1024 units\n",
    "    - you can literally think of this as specifying how wide you want a regular hidden layer to be, though an LSTM cell is more complicated\n",
    "    - called lstm_size in original Udacity file\n",
    "* `lstm_depth`: Number of LSTM layers in the network. I'd start with 1, then add more if I'm underfitting.\n",
    "    - If we prescribes 256-unit hidden layers, then, e.g., 2 LSTM layers puts 512 nodes into the network\n",
    "    - Just watch out: one can easily have too many free parameters and overfit! A good approach is to start at 1 and tune up from there, while using hefty amount of regularization. \n",
    "    - called lstm_layers in original Udacity file\n",
    "* `num_reviews_per_batch`: The number of reviews to feed the network in one training pass. Typically this should be set as high as you can go without running out of memory.\n",
    "    - make this as large as possible w/out running out of memory; i.e., take advantage of the TF's optimized matrix operations and the parallel processing capacity of your CPU and/or GPU \n",
    "    - called batch_size in original Udacity file\n",
    "* `learning_rate`: Learning rate"
   ]
  },
  {
   "cell_type": "code",
   "execution_count": 54,
   "metadata": {
    "collapsed": true,
    "deletable": true,
    "editable": true
   },
   "outputs": [],
   "source": [
    "lstm_width = 256\n",
    "lstm_depth = 1\n",
    "num_reviews_per_batch = 500\n",
    "learning_rate = 0.001"
   ]
  },
  {
   "cell_type": "markdown",
   "metadata": {
    "deletable": true,
    "editable": true
   },
   "source": [
    "For the network itself, we'll be passing in our 200 element long review vectors. Each batch will include `num_reviews_per_batch` vectors. We'll also be using dropout on the LSTM layer, so we'll make a placeholder for the keep probability."
   ]
  },
  {
   "cell_type": "markdown",
   "metadata": {
    "deletable": true,
    "editable": true
   },
   "source": [
    "> **Exercise:** Create the `inputs_`, `labels_`, and drop out `keep_prob` placeholders using `tf.placeholder`. `labels_` needs to be two-dimensional to work with some functions later.  Since `keep_prob` is a scalar (a 0-dimensional tensor), you shouldn't provide a size to `tf.placeholder`."
   ]
  },
  {
   "cell_type": "code",
   "execution_count": 55,
   "metadata": {
    "collapsed": true,
    "deletable": true,
    "editable": true
   },
   "outputs": [],
   "source": [
    "# Create the graph object\n",
    "graph = tf.Graph()\n",
    "\n",
    "# Add nodes to the graph\n",
    "with graph.as_default(), tf.name_scope(\"model_inputs\"):\n",
    "    inputs_ = tf.placeholder(tf.int32, shape=[None, 200], name='inputs')\n",
    "    labels_ = tf.placeholder(tf.int32, shape=[None,1], name='labels')\n",
    "    keep_prob = tf.placeholder(tf.float32, name='keep_prob')"
   ]
  },
  {
   "cell_type": "markdown",
   "metadata": {
    "deletable": true,
    "editable": true
   },
   "source": [
    "### Embedding\n",
    "\n",
    "One-hot encoding is great, right? Not for extremely large vector spaces!\n",
    "\n",
    "There are 74000 words in our vocabulary, which means that it is massively inefficient  to one-hot encode our classes here. You should remember dealing with this problem from the word2vec lesson. Instead of one-hot encoding, we can have an embedding layer and use that layer as a lookup table. You could train an embedding layer using word2vec, then load it here. But, it's fine to just make a new layer and let the network learn the weights.\n",
    "\n",
    "> **Exercise:** Create the embedding lookup matrix as a `tf.Variable`. Use that embedding matrix to get the embedded vectors to pass to the LSTM cell with [`tf.nn.embedding_lookup`](https://www.tensorflow.org/api_docs/python/tf/nn/embedding_lookup). This function takes the embedding matrix and an input tensor, such as the review vectors. Then, it'll return another tensor with the embedded vectors. So, if the embedding layer has 200 units, the function will return a tensor with size [num_reviews_per_batch, 200].\n",
    "\n"
   ]
  },
  {
   "cell_type": "code",
   "execution_count": 56,
   "metadata": {
    "collapsed": false,
    "deletable": true,
    "editable": true
   },
   "outputs": [],
   "source": [
    "# Dim Reduction:  Vocab Vectors --> Embedding Vectors \n",
    "#   -- the embedding vector dimensionality is the number of \n",
    "#      units in the embedding layer\n",
    "embedding_size = 300 \n",
    "vocab_size = len(vocab)  # ~74k\n",
    "\n",
    "# We start with a number (num_reviews_per_batch) of reviews, each having 200 \n",
    "#   \"sequence dimensions\" (inputs_.shape: (None, 200)) where each dimension \n",
    "#    can range over the integers 1:74k.\n",
    "#\n",
    "# The integers in each dimension have been arbitrarily assigned to words.\n",
    "#   Thus, the integers themselves give the false impression that there\n",
    "#   is a logical ordering to the categorical values.  This is why we usually\n",
    "#   one-hot encode, where each word would be an orthogonal vector in a 74k-dimensional\n",
    "#   word space.  However, one-hot encoding would render each 200-element sequence \n",
    "#   into a 200x74k=14.8M-dimensional input vector.  14.8M features?  Nice try. \n",
    "#   To solve the \"categorical issue\" problem, we instead assume that words are not\n",
    "#   likely best represented as orthogonal vectors anyway.  Orthogonality implies\n",
    "#   a complete disimilarity, but many words hold similar meanings.  With this in\n",
    "#   mind, a better assumption might be to position words in a much lower-dimensional\n",
    "#   space where two words might be orthogonal, but more often are not.  In the one-hot\n",
    "#   space, a word's vector representation is all 0's except for the axis which \n",
    "#   represents the word.  In an embedding space, the components of the vector \n",
    "#   representation might take on any value, e.g., any number between 0 and 1. \n",
    "#   Words with similar meanings likely have a lot in common, so should likely lie\n",
    "#   near each other (i.e., their normalized dot product is close to 1).\n",
    "#\n",
    "# Anyway, the point is, instead of having a 200-element sequence of 74k-dimensional\n",
    "#   vectors, the embedding representation will allow us to use a 200-element sequence\n",
    "#   of, say, 300-dimensional vectors.  This reduces the feature dimensionality of a review\n",
    "#   from 14.8M to 60k (a reduction by more than 200x).\n",
    "#\n",
    "\n",
    "# vocab_size+1: Accounts for the 0-word we included for padding.\n",
    "with graph.as_default(), tf.name_scope(\"embedding\"):\n",
    "    embedding = tf.Variable(\n",
    "        tf.random_uniform([vocab_size+1, embedding_size], -1.0, 1.0),\n",
    "        name=\"W\")\n",
    "    embed = tf.nn.embedding_lookup(embedding, inputs_)"
   ]
  },
  {
   "cell_type": "markdown",
   "metadata": {
    "deletable": true,
    "editable": true
   },
   "source": [
    "### LSTM cell\n",
    "\n",
    "<img src=\"assets/network_diagram.png\" width=400px>\n",
    "\n",
    "Next, we'll create our LSTM cells to use in the recurrent network ([TensorFlow documentation](https://www.tensorflow.org/api_docs/python/tf/contrib/rnn)). Here we are just defining what the cells look like. This isn't actually building the graph, just defining the type of cells we want in our graph.\n",
    "\n",
    "To create a basic LSTM cell for the graph, you'll want to use `tf.contrib.rnn.BasicLSTMCell`. Looking at the function documentation:\n",
    "\n",
    "```\n",
    "tf.contrib.rnn.BasicLSTMCell(num_units, forget_bias=1.0, input_size=None, state_is_tuple=True, activation=<function tanh at 0x109f1ef28>)\n",
    "```\n",
    "\n",
    "you can see it takes a parameter called `num_units`, the number of units in the cell, called `lstm_width` in this code (called lstm_size in original Udacity file). So then, you can write something like \n",
    "\n",
    "```\n",
    "lstm = tf.contrib.rnn.BasicLSTMCell(num_units)\n",
    "```\n",
    "\n",
    "to create an LSTM cell with `num_units`. Next, you can add dropout to the cell with `tf.contrib.rnn.DropoutWrapper`. This just wraps the cell in another cell, but with dropout added to the inputs and/or outputs. It's a really convenient way to make your network better with almost no effort! So you'd do something like\n",
    "\n",
    "```\n",
    "drop = tf.contrib.rnn.DropoutWrapper(cell, output_keep_prob=keep_prob)\n",
    "```\n",
    "\n",
    "Most of the time, your network will have better performance with more layers. That's sort of the magic of deep learning, adding more layers allows the network to learn really complex relationships. Again, there is a simple way to create multiple layers of LSTM cells with `tf.contrib.rnn.MultiRNNCell`:\n",
    "\n",
    "```\n",
    "cell = tf.contrib.rnn.MultiRNNCell([drop] * lstm_depth)\n",
    "```\n",
    "\n",
    "Here, `[drop] * lstm_depth` creates a list of cells (`drop`) that is `lstm_depth` long. The `MultiRNNCell` wrapper builds this into multiple layers of RNN cells, one for each cell in the list.\n",
    "\n",
    "So the final cell you're using in the network is actually multiple (or just one) LSTM cells with dropout. But it all works the same from an achitectural viewpoint, just a more complicated graph in the cell.\n",
    "\n",
    "> **Exercise:** Below, use `tf.contrib.rnn.BasicLSTMCell` to create an LSTM cell. Then, add drop out to it with `tf.contrib.rnn.DropoutWrapper`. Finally, create multiple LSTM layers with `tf.contrib.rnn.MultiRNNCell`.\n",
    "\n",
    "Here is [a tutorial on building RNNs](https://www.tensorflow.org/tutorials/recurrent) that will help you out.\n"
   ]
  },
  {
   "cell_type": "code",
   "execution_count": 57,
   "metadata": {
    "collapsed": true,
    "deletable": true,
    "editable": true
   },
   "outputs": [],
   "source": [
    "with graph.as_default():\n",
    "    # Your basic LSTM cell\n",
    "    lstm = tf.contrib.rnn.BasicLSTMCell(lstm_width)\n",
    "    \n",
    "    # Add dropout to the cell\n",
    "    drop = tf.contrib.rnn.DropoutWrapper(lstm, output_keep_prob=keep_prob)\n",
    "    \n",
    "    # Stack up multiple LSTM layers, for deep learning\n",
    "    cell = tf.contrib.rnn.MultiRNNCell([drop]*lstm_depth)\n",
    "    \n",
    "    # Getting an initial state of all zeros\n",
    "    initial_state = cell.zero_state(num_reviews_per_batch, tf.float32)"
   ]
  },
  {
   "cell_type": "markdown",
   "metadata": {
    "deletable": true,
    "editable": true
   },
   "source": [
    "### RNN forward pass\n",
    "\n",
    "<img src=\"assets/network_diagram.png\" width=400px>\n",
    "\n",
    "Now we need to actually run the data through the RNN nodes. You can use [`tf.nn.dynamic_rnn`](https://www.tensorflow.org/api_docs/python/tf/nn/dynamic_rnn) to do this. You'd pass in the RNN cell you created (our multiple layered LSTM `cell` for instance), and the inputs to the network.\n",
    "\n",
    "```\n",
    "outputs, final_state = tf.nn.dynamic_rnn(cell, inputs, initial_state=initial_state)\n",
    "```\n",
    "\n",
    "Above I created an initial state, `initial_state`, to pass to the RNN. This is the cell state that is passed between the hidden layers in successive time steps. `tf.nn.dynamic_rnn` takes care of most of the work for us. We pass in our cell and the input to the cell, then it does the unrolling and everything else for us. It returns outputs for each time step and the final_state of the hidden layer.\n",
    "\n",
    "> **Exercise:** Use `tf.nn.dynamic_rnn` to add the forward pass through the RNN. Remember that we're actually passing in vectors from the embedding layer, `embed`.\n",
    "\n"
   ]
  },
  {
   "cell_type": "code",
   "execution_count": 59,
   "metadata": {
    "collapsed": false,
    "deletable": true,
    "editable": true
   },
   "outputs": [],
   "source": [
    "with graph.as_default():\n",
    "    # swap_memory: Transparently swap the tensors produced in forward inference\n",
    "    #    but needed for back prop from GPU to CPU.  This allows training RNNs\n",
    "    #    which would typically not fit on a single GPU, with very minimal (or no)\n",
    "    #    performance penalty.\n",
    "    # outputs:\n",
    "    #    -- see help for info on outputs and final_state\n",
    "    outputs, final_state = tf.nn.dynamic_rnn(\n",
    "        cell, \n",
    "        embed, \n",
    "        initial_state=initial_state,\n",
    "        swap_memory=True)"
   ]
  },
  {
   "cell_type": "markdown",
   "metadata": {
    "deletable": true,
    "editable": true
   },
   "source": [
    "### Output\n",
    "\n",
    "We only care about the final output, we'll be using that as our sentiment prediction. So we need to grab the last output with `outputs[:, -1]`, the calculate the cost from that and `labels_`.\n",
    "\n",
    "Why do we use all rows but only the last column in outputs?  The implementation of our RNN is unrolled (see figure above), and so each output column represents predictions that were made prior to finishing the seq_len-element sequence.  We only care about the final prediction/decision/output of the unrolled RNN."
   ]
  },
  {
   "cell_type": "code",
   "execution_count": 60,
   "metadata": {
    "collapsed": true,
    "deletable": true,
    "editable": true
   },
   "outputs": [],
   "source": [
    "with graph.as_default():\n",
    "    predictions = tf.contrib.layers.fully_connected(outputs[:, -1], 1, activation_fn=tf.sigmoid)\n",
    "    cost = tf.losses.mean_squared_error(labels_, predictions)\n",
    "    optimizer = tf.train.AdamOptimizer(learning_rate).minimize(cost)"
   ]
  },
  {
   "cell_type": "markdown",
   "metadata": {
    "deletable": true,
    "editable": true
   },
   "source": [
    "### Validation accuracy\n",
    "\n",
    "Here we can add a few nodes to calculate the accuracy which we'll use in the validation pass.\n",
    "\n",
    "Note that accuracy might be a good metric here only because for a collection many movies and many reviewer personality types one can assume fairly balanced positive and negative reviews.  This measure would be less important if, for example, 97% of the reviews were negative (0) and only 3% were positive.  In this case, a model could just guess negative for every review and maintain 97% accuracy."
   ]
  },
  {
   "cell_type": "code",
   "execution_count": 61,
   "metadata": {
    "collapsed": true,
    "deletable": true,
    "editable": true
   },
   "outputs": [],
   "source": [
    "with graph.as_default():\n",
    "    correct_pred = tf.equal(tf.cast(tf.round(predictions), tf.int32), labels_)\n",
    "    accuracy = tf.reduce_mean(tf.cast(correct_pred, tf.float32))"
   ]
  },
  {
   "cell_type": "markdown",
   "metadata": {
    "deletable": true,
    "editable": true
   },
   "source": [
    "### Batching\n",
    "\n",
    "This is a simple function for returning batches from our data. First it removes data such that we only have full batches. Then it iterates through the `x` and `y` arrays and returns slices out of those arrays with size `[num_reviews_per_batch]`."
   ]
  },
  {
   "cell_type": "code",
   "execution_count": 62,
   "metadata": {
    "collapsed": true,
    "deletable": true,
    "editable": true
   },
   "outputs": [],
   "source": [
    "def get_batches(x, y, batch_size=100):\n",
    "    \n",
    "    n_batches = len(x)//batch_size\n",
    "    x, y = x[:n_batches*batch_size], y[:n_batches*batch_size]\n",
    "    for ii in range(0, len(x), batch_size):\n",
    "        yield x[ii:ii+batch_size], y[ii:ii+batch_size]"
   ]
  },
  {
   "cell_type": "markdown",
   "metadata": {
    "deletable": true,
    "editable": true
   },
   "source": [
    "## Training\n",
    "\n",
    "Below is the typical training code. If you want to do this yourself, feel free to delete all this code and implement it yourself. Before you run this, make sure the `checkpoints` directory exists."
   ]
  },
  {
   "cell_type": "code",
   "execution_count": 63,
   "metadata": {
    "collapsed": false,
    "deletable": true,
    "editable": true
   },
   "outputs": [
    {
     "name": "stdout",
     "output_type": "stream",
     "text": [
      "Epoch: 0/10 Iteration: 5 Train loss: 0.249\n",
      "Epoch: 0/10 Iteration: 10 Train loss: 0.239\n",
      "Epoch: 0/10 Iteration: 15 Train loss: 0.238\n",
      "Epoch: 0/10 Iteration: 20 Train loss: 0.234\n",
      "Epoch: 0/10 Iteration: 25 Train loss: 0.228\n",
      "Val acc: 0.624\n",
      "Epoch: 0/10 Iteration: 30 Train loss: 0.239\n",
      "Epoch: 0/10 Iteration: 35 Train loss: 0.224\n",
      "Epoch: 0/10 Iteration: 40 Train loss: 0.184\n",
      "Epoch: 1/10 Iteration: 45 Train loss: 0.177\n",
      "Epoch: 1/10 Iteration: 50 Train loss: 0.181\n",
      "Val acc: 0.730\n",
      "Epoch: 1/10 Iteration: 55 Train loss: 0.184\n",
      "Epoch: 1/10 Iteration: 60 Train loss: 0.165\n",
      "Epoch: 1/10 Iteration: 65 Train loss: 0.162\n",
      "Epoch: 1/10 Iteration: 70 Train loss: 0.178\n",
      "Epoch: 1/10 Iteration: 75 Train loss: 0.147\n",
      "Val acc: 0.788\n",
      "Epoch: 1/10 Iteration: 80 Train loss: 0.139\n",
      "Epoch: 2/10 Iteration: 85 Train loss: 0.124\n",
      "Epoch: 2/10 Iteration: 90 Train loss: 0.134\n",
      "Epoch: 2/10 Iteration: 95 Train loss: 0.108\n",
      "Epoch: 2/10 Iteration: 100 Train loss: 0.123\n",
      "Val acc: 0.794\n",
      "Epoch: 2/10 Iteration: 105 Train loss: 0.113\n",
      "Epoch: 2/10 Iteration: 110 Train loss: 0.145\n",
      "Epoch: 2/10 Iteration: 115 Train loss: 0.108\n",
      "Epoch: 2/10 Iteration: 120 Train loss: 0.095\n",
      "Epoch: 3/10 Iteration: 125 Train loss: 0.093\n",
      "Val acc: 0.814\n",
      "Epoch: 3/10 Iteration: 130 Train loss: 0.113\n",
      "Epoch: 3/10 Iteration: 135 Train loss: 0.084\n",
      "Epoch: 3/10 Iteration: 140 Train loss: 0.091\n",
      "Epoch: 3/10 Iteration: 145 Train loss: 0.085\n",
      "Epoch: 3/10 Iteration: 150 Train loss: 0.111\n",
      "Val acc: 0.773\n",
      "Epoch: 3/10 Iteration: 155 Train loss: 0.121\n",
      "Epoch: 3/10 Iteration: 160 Train loss: 0.072\n",
      "Epoch: 4/10 Iteration: 165 Train loss: 0.091\n",
      "Epoch: 4/10 Iteration: 170 Train loss: 0.095\n",
      "Epoch: 4/10 Iteration: 175 Train loss: 0.078\n",
      "Val acc: 0.813\n",
      "Epoch: 4/10 Iteration: 180 Train loss: 0.061\n",
      "Epoch: 4/10 Iteration: 185 Train loss: 0.078\n",
      "Epoch: 4/10 Iteration: 190 Train loss: 0.090\n",
      "Epoch: 4/10 Iteration: 195 Train loss: 0.089\n",
      "Epoch: 4/10 Iteration: 200 Train loss: 0.087\n",
      "Val acc: 0.817\n",
      "Epoch: 5/10 Iteration: 205 Train loss: 0.073\n",
      "Epoch: 5/10 Iteration: 210 Train loss: 0.063\n",
      "Epoch: 5/10 Iteration: 215 Train loss: 0.046\n",
      "Epoch: 5/10 Iteration: 220 Train loss: 0.051\n",
      "Epoch: 5/10 Iteration: 225 Train loss: 0.055\n",
      "Val acc: 0.826\n",
      "Epoch: 5/10 Iteration: 230 Train loss: 0.094\n",
      "Epoch: 5/10 Iteration: 235 Train loss: 0.077\n",
      "Epoch: 5/10 Iteration: 240 Train loss: 0.069\n",
      "Epoch: 6/10 Iteration: 245 Train loss: 0.056\n",
      "Epoch: 6/10 Iteration: 250 Train loss: 0.052\n",
      "Val acc: 0.817\n",
      "Epoch: 6/10 Iteration: 255 Train loss: 0.054\n",
      "Epoch: 6/10 Iteration: 260 Train loss: 0.059\n",
      "Epoch: 6/10 Iteration: 265 Train loss: 0.045\n",
      "Epoch: 6/10 Iteration: 270 Train loss: 0.055\n",
      "Epoch: 6/10 Iteration: 275 Train loss: 0.062\n",
      "Val acc: 0.805\n",
      "Epoch: 6/10 Iteration: 280 Train loss: 0.059\n",
      "Epoch: 7/10 Iteration: 285 Train loss: 0.051\n",
      "Epoch: 7/10 Iteration: 290 Train loss: 0.056\n",
      "Epoch: 7/10 Iteration: 295 Train loss: 0.045\n",
      "Epoch: 7/10 Iteration: 300 Train loss: 0.033\n",
      "Val acc: 0.834\n",
      "Epoch: 7/10 Iteration: 305 Train loss: 0.050\n",
      "Epoch: 7/10 Iteration: 310 Train loss: 0.046\n",
      "Epoch: 7/10 Iteration: 315 Train loss: 0.037\n",
      "Epoch: 7/10 Iteration: 320 Train loss: 0.052\n",
      "Epoch: 8/10 Iteration: 325 Train loss: 0.064\n",
      "Val acc: 0.832\n",
      "Epoch: 8/10 Iteration: 330 Train loss: 0.046\n",
      "Epoch: 8/10 Iteration: 335 Train loss: 0.045\n",
      "Epoch: 8/10 Iteration: 340 Train loss: 0.025\n",
      "Epoch: 8/10 Iteration: 345 Train loss: 0.030\n",
      "Epoch: 8/10 Iteration: 350 Train loss: 0.056\n",
      "Val acc: 0.833\n",
      "Epoch: 8/10 Iteration: 355 Train loss: 0.035\n",
      "Epoch: 8/10 Iteration: 360 Train loss: 0.035\n",
      "Epoch: 9/10 Iteration: 365 Train loss: 0.058\n",
      "Epoch: 9/10 Iteration: 370 Train loss: 0.037\n",
      "Epoch: 9/10 Iteration: 375 Train loss: 0.073\n",
      "Val acc: 0.757\n",
      "Epoch: 9/10 Iteration: 380 Train loss: 0.075\n",
      "Epoch: 9/10 Iteration: 385 Train loss: 0.073\n",
      "Epoch: 9/10 Iteration: 390 Train loss: 0.065\n",
      "Epoch: 9/10 Iteration: 395 Train loss: 0.027\n",
      "Epoch: 9/10 Iteration: 400 Train loss: 0.032\n",
      "Val acc: 0.826\n"
     ]
    }
   ],
   "source": [
    "epochs = 10\n",
    "\n",
    "with graph.as_default():\n",
    "    saver = tf.train.Saver()\n",
    "\n",
    "with tf.Session(graph=graph) as sess:\n",
    "    sess.run(tf.global_variables_initializer())\n",
    "    iteration = 1\n",
    "    for e in range(epochs):\n",
    "        state = sess.run(initial_state)\n",
    "        \n",
    "        for ii, (x, y) in enumerate(get_batches(trn_x, trn_y, num_reviews_per_batch), 1):\n",
    "            feed = {inputs_: x,\n",
    "                    labels_: y,\n",
    "                    keep_prob: 0.5,\n",
    "                    initial_state: state}\n",
    "            loss, state, _ = sess.run([cost, final_state, optimizer], feed_dict=feed)\n",
    "            \n",
    "            if iteration%5==0:\n",
    "                print(\"Epoch: {}/{}\".format(e, epochs),\n",
    "                      \"Iteration: {}\".format(iteration),\n",
    "                      \"Train loss: {:.3f}\".format(loss))\n",
    "\n",
    "            if iteration%25==0:\n",
    "                val_acc = []\n",
    "                val_state = sess.run(cell.zero_state(num_reviews_per_batch, tf.float32))\n",
    "                for x, y in get_batches(val_x, val_y, num_reviews_per_batch):\n",
    "                    feed = {inputs_: x,\n",
    "                            labels_: y,\n",
    "                            keep_prob: 1,\n",
    "                            initial_state: val_state}\n",
    "                    batch_acc, val_state = sess.run([accuracy, final_state], feed_dict=feed)\n",
    "                    val_acc.append(batch_acc)\n",
    "                print(\"Val acc: {:.3f}\".format(np.mean(val_acc)))\n",
    "            iteration +=1\n",
    "    saver.save(sess, \"checkpoints/sentiment.ckpt\")"
   ]
  },
  {
   "cell_type": "markdown",
   "metadata": {
    "deletable": true,
    "editable": true
   },
   "source": [
    "## Testing"
   ]
  },
  {
   "cell_type": "code",
   "execution_count": 66,
   "metadata": {
    "collapsed": false,
    "deletable": true,
    "editable": true
   },
   "outputs": [
    {
     "name": "stdout",
     "output_type": "stream",
     "text": [
      "Test accuracy: 0.819\n"
     ]
    }
   ],
   "source": [
    "test_acc = []\n",
    "with tf.Session(graph=graph) as sess:\n",
    "    saver.restore(sess, tf.train.latest_checkpoint('checkpoints'))\n",
    "    test_state = sess.run(cell.zero_state(num_reviews_per_batch, tf.float32))\n",
    "    for ii, (x, y) in enumerate(get_batches(tst_x, tst_y, num_reviews_per_batch), 1):\n",
    "        feed = {inputs_: x,\n",
    "                labels_: y,\n",
    "                keep_prob: 1,\n",
    "                initial_state: test_state}\n",
    "        batch_acc, test_state = sess.run([accuracy, final_state], feed_dict=feed)\n",
    "        test_acc.append(batch_acc)\n",
    "    print(\"Test accuracy: {:.3f}\".format(np.mean(test_acc)))"
   ]
  },
  {
   "cell_type": "code",
   "execution_count": null,
   "metadata": {
    "collapsed": true
   },
   "outputs": [],
   "source": []
  }
 ],
 "metadata": {
  "anaconda-cloud": {},
  "kernelspec": {
   "display_name": "Python 3",
   "language": "python",
   "name": "python3"
  },
  "language_info": {
   "codemirror_mode": {
    "name": "ipython",
    "version": 3
   },
   "file_extension": ".py",
   "mimetype": "text/x-python",
   "name": "python",
   "nbconvert_exporter": "python",
   "pygments_lexer": "ipython3",
   "version": "3.6.1"
  }
 },
 "nbformat": 4,
 "nbformat_minor": 2
}
