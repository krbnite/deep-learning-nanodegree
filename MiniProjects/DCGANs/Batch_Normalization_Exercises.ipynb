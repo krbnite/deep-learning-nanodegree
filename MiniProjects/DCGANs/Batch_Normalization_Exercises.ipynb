{
 "cells": [
  {
   "cell_type": "markdown",
   "metadata": {
    "deletable": true,
    "editable": true
   },
   "source": [
    "# Batch Normalization – Practice"
   ]
  },
  {
   "cell_type": "markdown",
   "metadata": {
    "deletable": true,
    "editable": true
   },
   "source": [
    "Batch normalization is most useful when building deep neural networks. To demonstrate this, we'll create a convolutional neural network with 20 convolutional layers, followed by a fully connected layer. We'll use it to classify handwritten digits in the MNIST dataset, which should be familiar to you by now.\n",
    "\n",
    "This is **not** a good network for classfying MNIST digits. You could create a _much_ simpler network and get _better_ results. However, to give you hands-on experience with batch normalization, we had to make an example that was:\n",
    "1. Complicated enough that training would benefit from batch normalization.\n",
    "2. Simple enough that it would train quickly, since this is meant to be a short exercise just to give you some practice adding batch normalization.\n",
    "3. Simple enough that the architecture would be easy to understand without additional resources."
   ]
  },
  {
   "cell_type": "markdown",
   "metadata": {
    "deletable": true,
    "editable": true
   },
   "source": [
    "This notebook includes two versions of the network that you can edit. The first uses higher level functions from the `tf.layers` package. The second is the same network, but uses only lower level functions in the `tf.nn` package.\n",
    "\n",
    "1. [Batch Normalization with `tf.layers.batch_normalization`](#example_1)\n",
    "2. [Batch Normalization with `tf.nn.batch_normalization`](#example_2)"
   ]
  },
  {
   "cell_type": "markdown",
   "metadata": {
    "deletable": true,
    "editable": true
   },
   "source": [
    "The following cell loads TensorFlow, downloads the MNIST dataset if necessary, and loads it into an object named `mnist`. You'll need to run this cell before running anything else in the notebook."
   ]
  },
  {
   "cell_type": "code",
   "execution_count": 1,
   "metadata": {
    "collapsed": false,
    "deletable": true,
    "editable": true
   },
   "outputs": [
    {
     "name": "stdout",
     "output_type": "stream",
     "text": [
      "Extracting MNIST_data/train-images-idx3-ubyte.gz\n",
      "Extracting MNIST_data/train-labels-idx1-ubyte.gz\n",
      "Extracting MNIST_data/t10k-images-idx3-ubyte.gz\n",
      "Extracting MNIST_data/t10k-labels-idx1-ubyte.gz\n"
     ]
    }
   ],
   "source": [
    "import tensorflow as tf\n",
    "from tensorflow.examples.tutorials.mnist import input_data\n",
    "mnist = input_data.read_data_sets(\"MNIST_data/\", one_hot=True, reshape=False)"
   ]
  },
  {
   "cell_type": "markdown",
   "metadata": {
    "deletable": true,
    "editable": true
   },
   "source": [
    "# Batch Normalization using `tf.layers.batch_normalization`<a id=\"example_1\"></a>\n",
    "\n",
    "This version of the network uses `tf.layers` for almost everything, and expects you to implement batch normalization using [`tf.layers.batch_normalization`](https://www.tensorflow.org/api_docs/python/tf/layers/batch_normalization) "
   ]
  },
  {
   "cell_type": "markdown",
   "metadata": {
    "deletable": true,
    "editable": true
   },
   "source": [
    "We'll use the following function to create fully connected layers in our network. We'll create them with the specified number of neurons and a ReLU activation function.\n",
    "\n",
    "This version of the function does not include batch normalization."
   ]
  },
  {
   "cell_type": "code",
   "execution_count": 2,
   "metadata": {
    "collapsed": true,
    "deletable": true,
    "editable": true
   },
   "outputs": [],
   "source": [
    "\"\"\"\n",
    "DO NOT MODIFY THIS CELL\n",
    "\"\"\"\n",
    "def fully_connected(prev_layer, num_units):\n",
    "    \"\"\"\n",
    "    Create a fully connected layer with the given layer as input and the given number of neurons.\n",
    "    \n",
    "    :param prev_layer: Tensor\n",
    "        The Tensor that acts as input into this layer\n",
    "    :param num_units: int\n",
    "        The size of the layer. That is, the number of units, nodes, or neurons.\n",
    "    :returns Tensor\n",
    "        A new fully connected layer\n",
    "    \"\"\"\n",
    "    layer = tf.layers.dense(prev_layer, num_units, activation=tf.nn.relu)\n",
    "    return layer"
   ]
  },
  {
   "cell_type": "markdown",
   "metadata": {
    "deletable": true,
    "editable": true
   },
   "source": [
    "We'll use the following function to create convolutional layers in our network. They are very basic: we're always using a 3x3 kernel, ReLU activation functions, strides of 1x1 on layers with odd depths, and strides of 2x2 on layers with even depths. We aren't bothering with pooling layers at all in this network.\n",
    "\n",
    "This version of the function does not include batch normalization."
   ]
  },
  {
   "cell_type": "code",
   "execution_count": 3,
   "metadata": {
    "collapsed": true,
    "deletable": true,
    "editable": true
   },
   "outputs": [],
   "source": [
    "\"\"\"\n",
    "DO NOT MODIFY THIS CELL\n",
    "\"\"\"\n",
    "def conv_layer(prev_layer, layer_depth):\n",
    "    \"\"\"\n",
    "    Create a convolutional layer with the given layer as input.\n",
    "    \n",
    "    :param prev_layer: Tensor\n",
    "        The Tensor that acts as input into this layer\n",
    "    :param layer_depth: int\n",
    "        We'll set the strides and number of feature maps based on the layer's depth in the network.\n",
    "        This is *not* a good way to make a CNN, but it helps us create this example with very little code.\n",
    "    :returns Tensor\n",
    "        A new convolutional layer\n",
    "    \"\"\"\n",
    "    strides = 2 if layer_depth % 3 == 0 else 1\n",
    "    conv_layer = tf.layers.conv2d(prev_layer, layer_depth*4, 3, strides, 'same', activation=tf.nn.relu)\n",
    "    return conv_layer"
   ]
  },
  {
   "cell_type": "markdown",
   "metadata": {
    "deletable": true,
    "editable": true
   },
   "source": [
    "**Run the following cell**, along with the earlier cells (to load the dataset and define the necessary functions). \n",
    "\n",
    "This cell builds the network **without** batch normalization, then trains it on the MNIST dataset. It displays loss and accuracy data periodically while training."
   ]
  },
  {
   "cell_type": "code",
   "execution_count": 4,
   "metadata": {
    "collapsed": false,
    "deletable": true,
    "editable": true
   },
   "outputs": [
    {
     "name": "stdout",
     "output_type": "stream",
     "text": [
      "Batch:  0: Validation loss: 0.69103, Validation accuracy: 0.09860\n",
      "Batch: 25: Training loss: 0.38632, Training accuracy: 0.06250\n",
      "Batch: 50: Training loss: 0.32916, Training accuracy: 0.14062\n",
      "Batch: 75: Training loss: 0.33178, Training accuracy: 0.06250\n",
      "Batch: 100: Validation loss: 0.32534, Validation accuracy: 0.17980\n",
      "Batch: 125: Training loss: 0.32544, Training accuracy: 0.14062\n",
      "Batch: 150: Training loss: 0.32567, Training accuracy: 0.14062\n",
      "Batch: 175: Training loss: 0.32301, Training accuracy: 0.14062\n",
      "Batch: 200: Validation loss: 0.32626, Validation accuracy: 0.11000\n",
      "Batch: 225: Training loss: 0.32551, Training accuracy: 0.07812\n",
      "Batch: 250: Training loss: 0.32727, Training accuracy: 0.09375\n",
      "Batch: 275: Training loss: 0.32449, Training accuracy: 0.12500\n",
      "Batch: 300: Validation loss: 0.32564, Validation accuracy: 0.10020\n",
      "Batch: 325: Training loss: 0.32669, Training accuracy: 0.15625\n",
      "Batch: 350: Training loss: 0.32617, Training accuracy: 0.07812\n",
      "Batch: 375: Training loss: 0.32657, Training accuracy: 0.06250\n",
      "Batch: 400: Validation loss: 0.32537, Validation accuracy: 0.11260\n",
      "Batch: 425: Training loss: 0.32809, Training accuracy: 0.03125\n",
      "Batch: 450: Training loss: 0.32596, Training accuracy: 0.09375\n",
      "Batch: 475: Training loss: 0.32543, Training accuracy: 0.12500\n",
      "Batch: 500: Validation loss: 0.32579, Validation accuracy: 0.11260\n",
      "Batch: 525: Training loss: 0.32620, Training accuracy: 0.04688\n",
      "Batch: 550: Training loss: 0.32258, Training accuracy: 0.14062\n",
      "Batch: 575: Training loss: 0.32306, Training accuracy: 0.10938\n",
      "Batch: 600: Validation loss: 0.32588, Validation accuracy: 0.09900\n",
      "Batch: 625: Training loss: 0.32632, Training accuracy: 0.14062\n",
      "Batch: 650: Training loss: 0.32176, Training accuracy: 0.14062\n",
      "Batch: 675: Training loss: 0.32729, Training accuracy: 0.06250\n",
      "Batch: 700: Validation loss: 0.32614, Validation accuracy: 0.09240\n",
      "Batch: 725: Training loss: 0.32563, Training accuracy: 0.07812\n",
      "Batch: 750: Training loss: 0.32632, Training accuracy: 0.10938\n",
      "Batch: 775: Training loss: 0.32574, Training accuracy: 0.10938\n",
      "Final validation accuracy: 0.09900\n",
      "Final test accuracy: 0.10090\n",
      "Accuracy on 100 samples: 0.11\n"
     ]
    }
   ],
   "source": [
    "\"\"\"\n",
    "DO NOT MODIFY THIS CELL\n",
    "\"\"\"\n",
    "def train(num_batches, batch_size, learning_rate):\n",
    "    # Build placeholders for the input samples and labels \n",
    "    inputs = tf.placeholder(tf.float32, [None, 28, 28, 1])\n",
    "    labels = tf.placeholder(tf.float32, [None, 10])\n",
    "    \n",
    "    # Feed the inputs into a series of 20 convolutional layers \n",
    "    layer = inputs\n",
    "    for layer_i in range(1, 20):\n",
    "        layer = conv_layer(layer, layer_i)\n",
    "\n",
    "    # Flatten the output from the convolutional layers \n",
    "    orig_shape = layer.get_shape().as_list()\n",
    "    layer = tf.reshape(layer, shape=[-1, orig_shape[1] * orig_shape[2] * orig_shape[3]])\n",
    "\n",
    "    # Add one fully connected layer\n",
    "    layer = fully_connected(layer, 100)\n",
    "\n",
    "    # Create the output layer with 1 node for each \n",
    "    logits = tf.layers.dense(layer, 10)\n",
    "    \n",
    "    # Define loss and training operations\n",
    "    model_loss = tf.reduce_mean(tf.nn.sigmoid_cross_entropy_with_logits(logits=logits, labels=labels))\n",
    "    train_opt = tf.train.AdamOptimizer(learning_rate).minimize(model_loss)\n",
    "    \n",
    "    # Create operations to test accuracy\n",
    "    correct_prediction = tf.equal(tf.argmax(logits,1), tf.argmax(labels,1))\n",
    "    accuracy = tf.reduce_mean(tf.cast(correct_prediction, tf.float32))\n",
    "    \n",
    "    # Train and test the network\n",
    "    with tf.Session() as sess:\n",
    "        sess.run(tf.global_variables_initializer())\n",
    "        for batch_i in range(num_batches):\n",
    "            batch_xs, batch_ys = mnist.train.next_batch(batch_size)\n",
    "\n",
    "            # train this batch\n",
    "            sess.run(train_opt, {inputs: batch_xs, labels: batch_ys})\n",
    "            \n",
    "            # Periodically check the validation or training loss and accuracy\n",
    "            if batch_i % 100 == 0:\n",
    "                loss, acc = sess.run([model_loss, accuracy], {inputs: mnist.validation.images,\n",
    "                                                              labels: mnist.validation.labels})\n",
    "                print('Batch: {:>2}: Validation loss: {:>3.5f}, Validation accuracy: {:>3.5f}'.format(batch_i, loss, acc))\n",
    "            elif batch_i % 25 == 0:\n",
    "                loss, acc = sess.run([model_loss, accuracy], {inputs: batch_xs, labels: batch_ys})\n",
    "                print('Batch: {:>2}: Training loss: {:>3.5f}, Training accuracy: {:>3.5f}'.format(batch_i, loss, acc))\n",
    "\n",
    "        # At the end, score the final accuracy for both the validation and test sets\n",
    "        acc = sess.run(accuracy, {inputs: mnist.validation.images,\n",
    "                                  labels: mnist.validation.labels})\n",
    "        print('Final validation accuracy: {:>3.5f}'.format(acc))\n",
    "        acc = sess.run(accuracy, {inputs: mnist.test.images,\n",
    "                                  labels: mnist.test.labels})\n",
    "        print('Final test accuracy: {:>3.5f}'.format(acc))\n",
    "        \n",
    "        # Score the first 100 test images individually. This won't work if batch normalization isn't implemented correctly.\n",
    "        correct = 0\n",
    "        for i in range(100):\n",
    "            correct += sess.run(accuracy,feed_dict={inputs: [mnist.test.images[i]],\n",
    "                                                    labels: [mnist.test.labels[i]]})\n",
    "\n",
    "        print(\"Accuracy on 100 samples:\", correct/100)\n",
    "\n",
    "\n",
    "num_batches = 800\n",
    "batch_size = 64\n",
    "learning_rate = 0.002\n",
    "\n",
    "tf.reset_default_graph()\n",
    "with tf.Graph().as_default():\n",
    "    train(num_batches, batch_size, learning_rate)"
   ]
  },
  {
   "cell_type": "markdown",
   "metadata": {
    "deletable": true,
    "editable": true
   },
   "source": [
    "With this many layers, it's going to take a lot of iterations for this network to learn. By the time you're done training these 800 batches, your final test and validation accuracies probably won't be much better than 10%. (It will be different each time, but will most likely be less than 15%.)\n",
    "\n",
    "Using batch normalization, you'll be able to train this same network to over 90% in that same number of batches.\n",
    "\n",
    "\n",
    "# Add batch normalization\n",
    "\n",
    "We've copied the previous three cells to get you started. **Edit these cells** to add batch normalization to the network. For this exercise, you should use [`tf.layers.batch_normalization`](https://www.tensorflow.org/api_docs/python/tf/layers/batch_normalization) to handle most of the math, but you'll need to make a few other changes to your network to integrate batch normalization. You may want to refer back to the lesson notebook to remind yourself of important things, like how your graph operations need to know whether or not you are performing training or inference. \n",
    "\n",
    "If you get stuck, you can check out the `Batch_Normalization_Solutions` notebook to see how we did things."
   ]
  },
  {
   "cell_type": "markdown",
   "metadata": {
    "deletable": true,
    "editable": true
   },
   "source": [
    "**TODO:** Modify `fully_connected` to add batch normalization to the fully connected layers it creates. Feel free to change the function's parameters if it helps."
   ]
  },
  {
   "cell_type": "code",
   "execution_count": 5,
   "metadata": {
    "collapsed": true,
    "deletable": true,
    "editable": true
   },
   "outputs": [],
   "source": [
    "def fully_connected(prev_layer, num_units, use_batch_norm, is_training):\n",
    "    \"\"\"\n",
    "    Create a fully connectd layer with the given layer as input and the given number of neurons.\n",
    "    \n",
    "    :param prev_layer: Tensor\n",
    "        The Tensor that acts as input into this layer\n",
    "    :param num_units: int\n",
    "        The size of the layer. That is, the number of units, nodes, or neurons.\n",
    "    :returns Tensor\n",
    "        A new fully connected layer\n",
    "    \"\"\"\n",
    "    if use_batch_norm:\n",
    "        # Batch normalization uses weights as usual, but does NOT add a bias term. This is because \n",
    "        # its calculations include gamma and beta variables that make the bias term unnecessary.\n",
    "        # (See later in the notebook for more details.)\n",
    "        layer = tf.layers.dense(prev_layer, num_units, activation=None, use_bias=False)\n",
    "        layer = tf.layers.batch_normalization(layer, training=is_training)\n",
    "\n",
    "    else:\n",
    "        # When not using batch normalization, create a standard layer that multiplies\n",
    "        # the inputs and weights, adds a bias, and optionally passes the result \n",
    "        # through an activation function.  \n",
    "        layer = tf.layers.dense(prev_layer, num_units, activation=None)\n",
    "        \n",
    "    return tf.nn.relu(layer)"
   ]
  },
  {
   "cell_type": "markdown",
   "metadata": {
    "deletable": true,
    "editable": true
   },
   "source": [
    "**TODO:** Modify `conv_layer` to add batch normalization to the convolutional layers it creates. Feel free to change the function's parameters if it helps."
   ]
  },
  {
   "cell_type": "code",
   "execution_count": 6,
   "metadata": {
    "collapsed": true,
    "deletable": true,
    "editable": true
   },
   "outputs": [],
   "source": [
    "def conv_layer(prev_layer, layer_depth, use_batch_norm, is_training):\n",
    "    \"\"\"\n",
    "    Create a convolutional layer with the given layer as input.\n",
    "    \n",
    "    :param prev_layer: Tensor\n",
    "        The Tensor that acts as input into this layer\n",
    "    :param layer_depth: int\n",
    "        We'll set the strides and number of feature maps based on the layer's depth in the network.\n",
    "        This is *not* a good way to make a CNN, but it helps us create this example with very little code.\n",
    "    :returns Tensor\n",
    "        A new convolutional layer\n",
    "    \"\"\"\n",
    "    strides = 2 if layer_depth % 3 == 0 else 1\n",
    "    if use_batch_norm:\n",
    "        # Batch normalization uses weights as usual, but does NOT add a bias term. This is because \n",
    "        # its calculations include gamma and beta variables that make the bias term unnecessary.\n",
    "        # (See later in the notebook for more details.)\n",
    "        layer = tf.layers.conv2d(\n",
    "            prev_layer, \n",
    "            filters = layer_depth*4, \n",
    "            kernel_size = 3, \n",
    "            strides = strides, \n",
    "            padding = 'same', \n",
    "            activation = None,\n",
    "            use_bias=False)\n",
    "        layer = tf.layers.batch_normalization(\n",
    "            layer, \n",
    "            training = is_training)\n",
    "        \n",
    "    else:\n",
    "        # When not using batch normalization, create a standard layer that multiplies\n",
    "        # the inputs and weights, adds a bias, and optionally passes the result \n",
    "        # through an activation function.  \n",
    "        layer = tf.layers.conv2d(\n",
    "            prev_layer, \n",
    "            filters = layer_depth*4, \n",
    "            kernel_size = 3, \n",
    "            strides = strides, \n",
    "            padding = 'same', \n",
    "            activation = None)\n",
    "        \n",
    "    return tf.nn.relu(layer)"
   ]
  },
  {
   "cell_type": "markdown",
   "metadata": {
    "deletable": true,
    "editable": true
   },
   "source": [
    "**TODO:** Edit the `train` function to support batch normalization. You'll need to make sure the network knows whether or not it is training, and you'll need to make sure it updates and uses its population statistics correctly."
   ]
  },
  {
   "cell_type": "code",
   "execution_count": 7,
   "metadata": {
    "collapsed": false,
    "deletable": true,
    "editable": true
   },
   "outputs": [
    {
     "name": "stdout",
     "output_type": "stream",
     "text": [
      "Batch:  0: Validation loss: 0.69157, Validation accuracy: 0.10700\n",
      "Batch: 25: Training loss: 0.58819, Training accuracy: 0.09375\n",
      "Batch: 50: Training loss: 0.48575, Training accuracy: 0.14062\n",
      "Batch: 75: Training loss: 0.42267, Training accuracy: 0.12500\n",
      "Batch: 100: Validation loss: 0.38248, Validation accuracy: 0.09900\n",
      "Batch: 125: Training loss: 0.36959, Training accuracy: 0.04688\n",
      "Batch: 150: Training loss: 0.35604, Training accuracy: 0.06250\n",
      "Batch: 175: Training loss: 0.35303, Training accuracy: 0.04688\n",
      "Batch: 200: Validation loss: 0.33143, Validation accuracy: 0.14800\n",
      "Batch: 225: Training loss: 0.32725, Training accuracy: 0.20312\n",
      "Batch: 250: Training loss: 0.24304, Training accuracy: 0.53125\n",
      "Batch: 275: Training loss: 0.20293, Training accuracy: 0.59375\n",
      "Batch: 300: Validation loss: 0.23736, Validation accuracy: 0.53120\n",
      "Batch: 325: Training loss: 0.17999, Training accuracy: 0.65625\n",
      "Batch: 350: Training loss: 0.13989, Training accuracy: 0.78125\n",
      "Batch: 375: Training loss: 0.17406, Training accuracy: 0.75000\n",
      "Batch: 400: Validation loss: 0.18663, Validation accuracy: 0.69520\n",
      "Batch: 425: Training loss: 0.03640, Training accuracy: 0.93750\n",
      "Batch: 450: Training loss: 0.05067, Training accuracy: 0.92188\n",
      "Batch: 475: Training loss: 0.05342, Training accuracy: 0.89062\n",
      "Batch: 500: Validation loss: 0.06522, Validation accuracy: 0.90460\n",
      "Batch: 525: Training loss: 0.06206, Training accuracy: 0.90625\n",
      "Batch: 550: Training loss: 0.02235, Training accuracy: 0.96875\n",
      "Batch: 575: Training loss: 0.02810, Training accuracy: 0.95312\n",
      "Batch: 600: Validation loss: 0.02936, Validation accuracy: 0.95260\n",
      "Batch: 625: Training loss: 0.04695, Training accuracy: 0.89062\n",
      "Batch: 650: Training loss: 0.03475, Training accuracy: 0.90625\n",
      "Batch: 675: Training loss: 0.12430, Training accuracy: 0.85938\n",
      "Batch: 700: Validation loss: 0.02515, Validation accuracy: 0.96260\n",
      "Batch: 725: Training loss: 0.00911, Training accuracy: 0.98438\n",
      "Batch: 750: Training loss: 0.02122, Training accuracy: 0.95312\n",
      "Batch: 775: Training loss: 0.03366, Training accuracy: 0.93750\n",
      "Final validation accuracy: 0.96740\n",
      "Final test accuracy: 0.96740\n",
      "Accuracy on 100 samples: 1.0\n"
     ]
    }
   ],
   "source": [
    "def train(num_batches, batch_size, learning_rate, use_batch_norm):\n",
    "    # Build placeholders for the input samples and labels \n",
    "    inputs = tf.placeholder(tf.float32, [None, 28, 28, 1])\n",
    "    labels = tf.placeholder(tf.float32, [None, 10])\n",
    "    is_training = tf.placeholder(tf.bool)\n",
    "\n",
    "    # Feed the inputs into a series of 20 convolutional layers \n",
    "    layer = inputs\n",
    "    for layer_i in range(1, 20):\n",
    "        layer = conv_layer(layer, layer_i, use_batch_norm, is_training)\n",
    "\n",
    "    # Flatten the output from the convolutional layers \n",
    "    orig_shape = layer.get_shape().as_list()\n",
    "    layer = tf.reshape(layer, shape=[-1, orig_shape[1] * orig_shape[2] * orig_shape[3]])\n",
    "\n",
    "    # Add one fully connected layer\n",
    "    layer = fully_connected(layer, 100, use_batch_norm, is_training)\n",
    "\n",
    "    # Create the output layer with 1 node for each \n",
    "    logits = tf.layers.dense(layer, 10)\n",
    "    \n",
    "    # Define loss and training operations\n",
    "    model_loss = tf.reduce_mean(tf.nn.sigmoid_cross_entropy_with_logits(logits=logits, labels=labels))\n",
    "    \n",
    "    # Tell TensorFlow to update the population statistics while training\n",
    "    if use_batch_norm:\n",
    "        with tf.control_dependencies(tf.get_collection(tf.GraphKeys.UPDATE_OPS)):\n",
    "            train_opt = tf.train.AdamOptimizer(learning_rate).minimize(model_loss)\n",
    "    else:\n",
    "        train_opt = tf.train.AdamOptimizer(learning_rate).minimize(model_loss)\n",
    "        \n",
    "    # Create operations to test accuracy\n",
    "    correct_prediction = tf.equal(tf.argmax(logits,1), tf.argmax(labels,1))\n",
    "    accuracy = tf.reduce_mean(tf.cast(correct_prediction, tf.float32))\n",
    "    \n",
    "    # Train and test the network\n",
    "    with tf.Session() as sess:\n",
    "        sess.run(tf.global_variables_initializer())\n",
    "        for batch_i in range(num_batches):\n",
    "            batch_xs, batch_ys = mnist.train.next_batch(batch_size)\n",
    "\n",
    "            # train this batch\n",
    "            sess.run(train_opt, {inputs: batch_xs, labels: batch_ys, is_training: True})\n",
    "            \n",
    "            # Periodically check the validation or training loss and accuracy\n",
    "            if batch_i % 100 == 0:\n",
    "                loss, acc = sess.run([model_loss, accuracy], {inputs: mnist.validation.images,\n",
    "                                                              labels: mnist.validation.labels,\n",
    "                                                              is_training: False})\n",
    "                print('Batch: {:>2}: Validation loss: {:>3.5f}, Validation accuracy: {:>3.5f}'.format(batch_i, loss, acc))\n",
    "            elif batch_i % 25 == 0:\n",
    "                loss, acc = sess.run([model_loss, accuracy], {inputs: batch_xs, labels: batch_ys, is_training: False})\n",
    "                print('Batch: {:>2}: Training loss: {:>3.5f}, Training accuracy: {:>3.5f}'.format(batch_i, loss, acc))\n",
    "\n",
    "        # At the end, score the final accuracy for both the validation and test sets\n",
    "        acc = sess.run(accuracy, {inputs: mnist.validation.images,\n",
    "                                  labels: mnist.validation.labels, \n",
    "                                  is_training: False})\n",
    "        print('Final validation accuracy: {:>3.5f}'.format(acc))\n",
    "        acc = sess.run(accuracy, {inputs: mnist.test.images,\n",
    "                                  labels: mnist.test.labels,\n",
    "                                  is_training: False})\n",
    "        print('Final test accuracy: {:>3.5f}'.format(acc))\n",
    "        \n",
    "        # Score the first 100 test images individually, just to make sure batch normalization really worked\n",
    "        correct = 0\n",
    "        for i in range(100):\n",
    "            correct += sess.run(accuracy,feed_dict={inputs: [mnist.test.images[i]],\n",
    "                                                    labels: [mnist.test.labels[i]],\n",
    "                                                    is_training: False})\n",
    "\n",
    "        print(\"Accuracy on 100 samples:\", correct/100)\n",
    "\n",
    "\n",
    "num_batches = 800\n",
    "batch_size = 64\n",
    "learning_rate = 0.002\n",
    "\n",
    "tf.reset_default_graph()\n",
    "with tf.Graph().as_default():\n",
    "    train(num_batches, batch_size, learning_rate, use_batch_norm=True)"
   ]
  },
  {
   "cell_type": "markdown",
   "metadata": {
    "deletable": true,
    "editable": true
   },
   "source": [
    "With batch normalization, you should now get an accuracy over 90%. Notice also the last line of the output: `Accuracy on 100 samples`. If this value is low while everything else looks good, that means you did not implement batch normalization correctly. Specifically, it means you either did not calculate the population mean and variance while training, or you are not using those values during inference.\n",
    "\n",
    "# Batch Normalization using `tf.nn.batch_normalization`<a id=\"example_2\"></a>\n",
    "\n",
    "Most of the time you will be able to use higher level functions exclusively, but sometimes you may want to work at a lower level. For example, if you ever want to implement a new feature – something new enough that TensorFlow does not already include a high-level implementation of it, like batch normalization in an LSTM – then you may need to know these sorts of things.\n",
    "\n",
    "This version of the network uses `tf.nn` for almost everything, and expects you to implement batch normalization using [`tf.nn.batch_normalization`](https://www.tensorflow.org/api_docs/python/tf/nn/batch_normalization).\n",
    "\n",
    "**Optional TODO:** You can run the next three cells before you edit them just to see how the network performs without batch normalization. However, the results should be pretty much the same as you saw with the previous example before you added batch normalization. \n",
    "\n",
    "**TODO:** Modify `fully_connected` to add batch normalization to the fully connected layers it creates. Feel free to change the function's parameters if it helps.\n",
    "\n",
    "**Note:** For convenience, we continue to use `tf.layers.dense` for the `fully_connected` layer. By this point in the class, you should have no problem replacing that with matrix operations between the `prev_layer` and explicit weights and biases variables."
   ]
  },
  {
   "cell_type": "code",
   "execution_count": 15,
   "metadata": {
    "collapsed": true,
    "deletable": true,
    "editable": true
   },
   "outputs": [],
   "source": [
    "def fully_connected(prev_layer, num_units, is_training, use_batch_norm=True):\n",
    "    \"\"\"\n",
    "    Create a fully connectd layer with the given layer as input and the given number of neurons.\n",
    "    \n",
    "    :param prev_layer: Tensor\n",
    "        The Tensor that acts as input into this layer\n",
    "    :param num_units: int\n",
    "        The size of the layer. That is, the number of units, nodes, or neurons.\n",
    "    :returns Tensor\n",
    "        A new fully connected layer\n",
    "    \"\"\"\n",
    "    if use_batch_norm:\n",
    "        \n",
    "        layer = tf.layers.dense(prev_layer, num_units, activation=None, use_bias=False)\n",
    "        \n",
    "        # Batch normalization adds additional trainable variables: \n",
    "        # gamma (for scaling) and beta (for shifting).\n",
    "        gamma = tf.Variable(tf.ones([num_units]))\n",
    "        beta  = tf.Variable(tf.zeros([num_units]))\n",
    "        \n",
    "        # During training, we estimate the mean and stdDev of each batch and use them\n",
    "        # to batch normalize.  However, during test/validation we are performing inference\n",
    "        # and essentially want to use the population statistics for this.  So, during training\n",
    "        # we continually refine our estimate of the population statistics.\n",
    "        # By setting `trainable=False`, we tell TensorFlow not to modify these variables during\n",
    "        # back propagation. Instead, we will assign values to these variables ourselves. \n",
    "        pop_mean = tf.Variable(tf.zeros([num_units]), trainable=False)\n",
    "        pop_variance = tf.Variable(tf.ones([num_units]), trainable=False)\n",
    "        \n",
    "        # Hedge against division by zero\n",
    "        epsilon = 1e-3\n",
    "        \n",
    "    \n",
    "        def bntrain():\n",
    "            # Calculate the mean and variance for the data coming out of this layer's linear-combination step.\n",
    "            # The [0] defines an array of axes to calculate over.\n",
    "            batch_mean, batch_variance = tf.nn.moments(layer, [0])\n",
    "\n",
    "            # Calculate a moving average of the training data's mean and variance while training.\n",
    "            # These will be used during inference.\n",
    "            # Decay should be some number less than 1. tf.layers.batch_normalization uses the parameter\n",
    "            # \"momentum\" to accomplish this and defaults it to 0.99\n",
    "            decay = 0.99\n",
    "            train_mean = tf.assign(pop_mean, pop_mean * decay + batch_mean * (1 - decay))\n",
    "            train_variance = tf.assign(pop_variance, pop_variance * decay + batch_variance * (1 - decay))\n",
    "        \n",
    "            # The 'tf.control_dependencies' context tells TensorFlow it must calculate 'train_mean' \n",
    "            # and 'train_variance' before it calculates the 'tf.nn.batch_normalization' layer.\n",
    "            # This is necessary because the those two operations are not actually in the graph\n",
    "            # connecting the linear_output and batch_normalization layers, \n",
    "            # so TensorFlow would otherwise just skip them.\n",
    "            with tf.control_dependencies([train_mean, train_variance]):\n",
    "                return tf.nn.batch_normalization(layer, batch_mean, batch_variance, beta, gamma, epsilon)\n",
    "        def bninf():\n",
    "            return tf.nn.batch_normalization(layer, pop_mean, pop_variance, beta, gamma, epsilon)\n",
    "        \n",
    "        layer = tf.cond(is_training, bntrain, bninf)\n",
    "    \n",
    "    else:\n",
    "        layer = tf.layers.dense(prev_layer, num_units, activation=None)\n",
    "    \n",
    "    return tf.nn.relu(layer)"
   ]
  },
  {
   "cell_type": "markdown",
   "metadata": {
    "deletable": true,
    "editable": true
   },
   "source": [
    "**TODO:** Modify `conv_layer` to add batch normalization to the fully connected layers it creates. Feel free to change the function's parameters if it helps.\n",
    "\n",
    "**Note:** Unlike in the previous example that used `tf.layers`, adding batch normalization to these convolutional layers _does_ require some slight differences to what you did in `fully_connected`. "
   ]
  },
  {
   "cell_type": "code",
   "execution_count": 16,
   "metadata": {
    "collapsed": false,
    "deletable": true,
    "editable": true
   },
   "outputs": [],
   "source": [
    "def conv_layer(prev_layer, layer_depth, is_training, use_batch_norm=True):\n",
    "    \"\"\"\n",
    "    Create a convolutional layer with the given layer as input.\n",
    "    \n",
    "    :param prev_layer: Tensor\n",
    "        The Tensor that acts as input into this layer\n",
    "    :param layer_depth: int\n",
    "        We'll set the strides and number of feature maps based on the layer's depth in the network.\n",
    "        This is *not* a good way to make a CNN, but it helps us create this example with very little code.\n",
    "    :returns Tensor\n",
    "        A new convolutional layer\n",
    "    \"\"\"\n",
    "    strides = 2 if layer_depth % 3 == 0 else 1\n",
    "\n",
    "    # Channel Depths\n",
    "    in_channels = prev_layer.get_shape().as_list()[3]\n",
    "    out_channels = layer_depth*4\n",
    "    \n",
    "    weights = tf.Variable(\n",
    "        tf.truncated_normal([3, 3, in_channels, out_channels], stddev=0.05))\n",
    "    \n",
    "    if use_batch_norm:\n",
    "        layer = tf.nn.conv2d(prev_layer, weights, strides=[1,strides, strides, 1], padding='SAME')\n",
    "        gamma = tf.Variable(tf.ones([out_channels]))\n",
    "        beta  = tf.Variable(tf.zeros([out_channels]))\n",
    "        pop_mean = tf.Variable(tf.zeros([out_channels]), trainable=False)\n",
    "        pop_variance = tf.Variable(tf.ones([out_channels]), trainable=False)\n",
    "        epsilon = 1e-3\n",
    "        \n",
    "        \n",
    "        def bntrain():\n",
    "            decay = 0.99\n",
    "            batch_mean, batch_variance = tf.nn.moments(layer, axes=[0,1,2], keep_dims=False)\n",
    "            train_mean = tf.assign(pop_mean, pop_mean*decay + batch_mean*(1-decay))\n",
    "            train_variance = tf.assign(pop_variance, pop_variance*decay + batch_variance*(1-decay))\n",
    "            with tf.control_dependencies([train_mean, train_variance]):\n",
    "                return tf.nn.batch_normalization(layer, batch_mean, batch_variance, beta, gamma, epsilon)      \n",
    "        def bninf():\n",
    "            return tf.nn.batch_normalization(layer, pop_mean, pop_variance, beta, gamma, epsilon)\n",
    "        \n",
    "        layer = tf.cond(is_training, bntrain, bninf)\n",
    "    \n",
    "    else: \n",
    "        bias = tf.Variable(tf.zeros(out_channels))\n",
    "        layer = tf.nn.conv2d(prev_layer, weights, strides=[1,strides, strides, 1], padding='SAME')\n",
    "        layer = tf.nn.bias_add(layer, bias)\n",
    "\n",
    "    return tf.nn.relu(layer)"
   ]
  },
  {
   "cell_type": "markdown",
   "metadata": {
    "deletable": true,
    "editable": true
   },
   "source": [
    "**TODO:** Edit the `train` function to support batch normalization. You'll need to make sure the network knows whether or not it is training."
   ]
  },
  {
   "cell_type": "code",
   "execution_count": 17,
   "metadata": {
    "collapsed": false,
    "deletable": true,
    "editable": true
   },
   "outputs": [
    {
     "name": "stdout",
     "output_type": "stream",
     "text": [
      "Batch:  0: Validation loss: 0.69093, Validation accuracy: 0.08680\n",
      "Batch: 25: Training loss: 0.57794, Training accuracy: 0.09375\n",
      "Batch: 50: Training loss: 0.45564, Training accuracy: 0.07812\n",
      "Batch: 75: Training loss: 0.38744, Training accuracy: 0.07812\n",
      "Batch: 100: Validation loss: 0.35629, Validation accuracy: 0.09760\n",
      "Batch: 125: Training loss: 0.34274, Training accuracy: 0.06250\n",
      "Batch: 150: Training loss: 0.34832, Training accuracy: 0.09375\n",
      "Batch: 175: Training loss: 0.36838, Training accuracy: 0.07812\n",
      "Batch: 200: Validation loss: 0.50426, Validation accuracy: 0.11260\n",
      "Batch: 225: Training loss: 0.52002, Training accuracy: 0.07812\n",
      "Batch: 250: Training loss: 0.60343, Training accuracy: 0.14062\n",
      "Batch: 275: Training loss: 0.93644, Training accuracy: 0.12500\n",
      "Batch: 300: Validation loss: 0.91548, Validation accuracy: 0.11260\n",
      "Batch: 325: Training loss: 0.87270, Training accuracy: 0.09375\n",
      "Batch: 350: Training loss: 1.10631, Training accuracy: 0.10938\n",
      "Batch: 375: Training loss: 0.61530, Training accuracy: 0.21875\n",
      "Batch: 400: Validation loss: 0.20922, Validation accuracy: 0.61140\n",
      "Batch: 425: Training loss: 0.10461, Training accuracy: 0.81250\n",
      "Batch: 450: Training loss: 0.06454, Training accuracy: 0.90625\n",
      "Batch: 475: Training loss: 0.03852, Training accuracy: 0.93750\n",
      "Batch: 500: Validation loss: 0.06299, Validation accuracy: 0.89260\n",
      "Batch: 525: Training loss: 0.03430, Training accuracy: 0.95312\n",
      "Batch: 550: Training loss: 0.10048, Training accuracy: 0.84375\n",
      "Batch: 575: Training loss: 0.03658, Training accuracy: 0.93750\n",
      "Batch: 600: Validation loss: 0.04608, Validation accuracy: 0.94040\n",
      "Batch: 625: Training loss: 0.02812, Training accuracy: 0.95312\n",
      "Batch: 650: Training loss: 0.04930, Training accuracy: 0.93750\n",
      "Batch: 675: Training loss: 0.05411, Training accuracy: 0.93750\n",
      "Batch: 700: Validation loss: 0.04999, Validation accuracy: 0.93780\n",
      "Batch: 725: Training loss: 0.05434, Training accuracy: 0.90625\n",
      "Batch: 750: Training loss: 0.00293, Training accuracy: 1.00000\n",
      "Batch: 775: Training loss: 0.07499, Training accuracy: 0.90625\n",
      "Final validation accuracy: 0.96560\n",
      "Final test accuracy: 0.96170\n",
      "Accuracy on 100 samples: 0.96\n"
     ]
    }
   ],
   "source": [
    "def train(num_batches, batch_size, learning_rate, use_batch_norm=True):\n",
    "    # Build placeholders for the input samples and labels \n",
    "    inputs = tf.placeholder(tf.float32, [None, 28, 28, 1])\n",
    "    labels = tf.placeholder(tf.float32, [None, 10])\n",
    "\n",
    "    # Add placeholder to indicate whether or not we're training the model\n",
    "    is_training = tf.placeholder(tf.bool)\n",
    "\n",
    "    # Feed the inputs into a series of 20 convolutional layers \n",
    "    layer = inputs\n",
    "    for layer_i in range(1, 20):\n",
    "        layer = conv_layer(layer, layer_i, is_training)\n",
    "\n",
    "    # Flatten the output from the convolutional layers \n",
    "    orig_shape = layer.get_shape().as_list()\n",
    "    layer = tf.reshape(layer, shape=[-1, orig_shape[1] * orig_shape[2] * orig_shape[3]])\n",
    "\n",
    "    # Add one fully connected layer\n",
    "    layer = fully_connected(layer, 100, is_training)\n",
    "\n",
    "    # Create the output layer with 1 node for each \n",
    "    logits = tf.layers.dense(layer, 10)\n",
    "    \n",
    "    # Define loss and training operations\n",
    "    model_loss = tf.reduce_mean(tf.nn.sigmoid_cross_entropy_with_logits(logits=logits, labels=labels))\n",
    "    train_opt = tf.train.AdamOptimizer(learning_rate).minimize(model_loss)\n",
    "    \n",
    "    # Create operations to test accuracy\n",
    "    correct_prediction = tf.equal(tf.argmax(logits,1), tf.argmax(labels,1))\n",
    "    accuracy = tf.reduce_mean(tf.cast(correct_prediction, tf.float32))\n",
    "    \n",
    "    # Train and test the network\n",
    "    with tf.Session() as sess:\n",
    "        sess.run(tf.global_variables_initializer())\n",
    "        for batch_i in range(num_batches):\n",
    "            batch_xs, batch_ys = mnist.train.next_batch(batch_size)\n",
    "\n",
    "            # train this batch\n",
    "            sess.run(train_opt, {inputs: batch_xs, labels: batch_ys, is_training: True})\n",
    "            \n",
    "            # Periodically check the validation or training loss and accuracy\n",
    "            if batch_i % 100 == 0:\n",
    "                loss, acc = sess.run([model_loss, accuracy], {inputs: mnist.validation.images,\n",
    "                                                              labels: mnist.validation.labels,\n",
    "                                                              is_training: False})\n",
    "                print('Batch: {:>2}: Validation loss: {:>3.5f}, Validation accuracy: {:>3.5f}'.format(batch_i, loss, acc))\n",
    "            elif batch_i % 25 == 0:\n",
    "                loss, acc = sess.run([model_loss, accuracy], {inputs: batch_xs, labels: batch_ys, is_training: False})\n",
    "                print('Batch: {:>2}: Training loss: {:>3.5f}, Training accuracy: {:>3.5f}'.format(batch_i, loss, acc))\n",
    "\n",
    "        # At the end, score the final accuracy for both the validation and test sets\n",
    "        acc = sess.run(accuracy, {inputs: mnist.validation.images,\n",
    "                                  labels: mnist.validation.labels, \n",
    "                                  is_training: False})\n",
    "        print('Final validation accuracy: {:>3.5f}'.format(acc))\n",
    "        acc = sess.run(accuracy, {inputs: mnist.test.images,\n",
    "                                  labels: mnist.test.labels,\n",
    "                                  is_training: False})\n",
    "        print('Final test accuracy: {:>3.5f}'.format(acc))\n",
    "        \n",
    "        # Score the first 100 test images individually, just to make sure batch normalization really worked\n",
    "        correct = 0\n",
    "        for i in range(100):\n",
    "            correct += sess.run(accuracy,feed_dict={inputs: [mnist.test.images[i]],\n",
    "                                                    labels: [mnist.test.labels[i]],\n",
    "                                                    is_training: False})\n",
    "\n",
    "        print(\"Accuracy on 100 samples:\", correct/100)\n",
    "\n",
    "\n",
    "num_batches = 800\n",
    "batch_size = 64\n",
    "learning_rate = 0.002\n",
    "\n",
    "tf.reset_default_graph()\n",
    "with tf.Graph().as_default():\n",
    "    train(num_batches, batch_size, learning_rate)"
   ]
  },
  {
   "cell_type": "markdown",
   "metadata": {
    "deletable": true,
    "editable": true
   },
   "source": [
    "Once again, the model with batch normalization should reach an accuracy over 90%. There are plenty of details that can go wrong when implementing at this low level, so if you got it working - great job! If not, do not worry, just look at the `Batch_Normalization_Solutions` notebook to see what went wrong."
   ]
  },
  {
   "cell_type": "code",
   "execution_count": null,
   "metadata": {
    "collapsed": true,
    "deletable": true,
    "editable": true
   },
   "outputs": [],
   "source": []
  }
 ],
 "metadata": {
  "anaconda-cloud": {},
  "kernelspec": {
   "display_name": "Python 3",
   "language": "python",
   "name": "python3"
  },
  "language_info": {
   "codemirror_mode": {
    "name": "ipython",
    "version": 3
   },
   "file_extension": ".py",
   "mimetype": "text/x-python",
   "name": "python",
   "nbconvert_exporter": "python",
   "pygments_lexer": "ipython3",
   "version": "3.5.2"
  },
  "widgets": {
   "state": {},
   "version": "1.1.2"
  }
 },
 "nbformat": 4,
 "nbformat_minor": 2
}
