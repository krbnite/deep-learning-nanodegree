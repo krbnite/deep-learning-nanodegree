{
 "cells": [
  {
   "cell_type": "code",
   "execution_count": 6,
   "metadata": {
    "collapsed": false
   },
   "outputs": [],
   "source": [
    "import tensorflow.contrib.keras as keras\n",
    "Sequential = keras.models.Sequential\n",
    "Model = keras.models.Model\n",
    "Embedding = keras.layers.Embedding\n",
    "GRU = keras.layers.GRU\n",
    "get_file = keras.utils.get_file\n",
    "import tarfile\n",
    "import numpy as np"
   ]
  },
  {
   "cell_type": "code",
   "execution_count": 12,
   "metadata": {
    "collapsed": false
   },
   "outputs": [
    {
     "name": "stdout",
     "output_type": "stream",
     "text": [
      "--2017-06-10 16:47:40--  http://www.thespermwhale.com/jaseweston/babi/tasks_1-20_v1-2.tar.gz\n",
      "Resolving www.thespermwhale.com (www.thespermwhale.com)... 69.65.3.210\n",
      "Connecting to www.thespermwhale.com (www.thespermwhale.com)|69.65.3.210|:80... connected.\n",
      "HTTP request sent, awaiting response... 200 OK\n",
      "Length: 15719851 (15M) [application/x-gzip]\n",
      "Saving to: ‘tasks_1-20_v1-2.tar.gz.1’\n",
      "\n",
      "tasks_1-20_v1-2.tar 100%[===================>]  14.99M  10.3MB/s    in 1.5s    \n",
      "\n",
      "2017-06-10 16:47:42 (10.3 MB/s) - ‘tasks_1-20_v1-2.tar.gz.1’ saved [15719851/15719851]\n",
      "\n"
     ]
    }
   ],
   "source": [
    "!if [ ! -f 'tasks_1-20_v1-2.tar.gz' ]; then wget 'http://www.thespermwhale.com/jaseweston/babi/tasks_1-20_v1-2.tar.gz'; fi"
   ]
  },
  {
   "cell_type": "code",
   "execution_count": null,
   "metadata": {
    "collapsed": true
   },
   "outputs": [],
   "source": [
    "# extract data\n",
    "path = '/home/carnd/Krbn/Siraj/question-answering-systems/tasks_1-20_v1-2.tar.gz'\n",
    "\n",
    "# split data\n",
    "train_stories = get_stories(tar.extractfile(path.format('train')))\n",
    "test_stories = get_stories(tar.extractfile(path.format('test')))"
   ]
  },
  {
   "cell_type": "code",
   "execution_count": 15,
   "metadata": {
    "collapsed": false
   },
   "outputs": [
    {
     "name": "stdout",
     "output_type": "stream",
     "text": [
      "/home/carnd/Krbn/Siraj/question-answering-systems\r\n"
     ]
    }
   ],
   "source": [
    "#vectorize data\n",
    "inputs_train, queries_train, answers_train = vectorize(train_stories, word_idx, story_maxlen, query_maxlen)\n",
    "inputs_test, queries_test, answers_test = vectorize(test_stories, word_idx, story_maxlen, query_maxlen)"
   ]
  },
  {
   "cell_type": "code",
   "execution_count": null,
   "metadata": {
    "collapsed": true
   },
   "outputs": [],
   "source": [
    "# The Input Module (a GRU that runs on a sequence of word vectors)"
   ]
  }
 ],
 "metadata": {
  "kernelspec": {
   "display_name": "Python 3",
   "language": "python",
   "name": "python3"
  },
  "language_info": {
   "codemirror_mode": {
    "name": "ipython",
    "version": 3
   },
   "file_extension": ".py",
   "mimetype": "text/x-python",
   "name": "python",
   "nbconvert_exporter": "python",
   "pygments_lexer": "ipython3",
   "version": "3.5.2"
  },
  "widgets": {
   "state": {},
   "version": "1.1.2"
  }
 },
 "nbformat": 4,
 "nbformat_minor": 2
}
