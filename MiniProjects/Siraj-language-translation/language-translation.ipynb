{
 "cells": [
  {
   "cell_type": "markdown",
   "metadata": {},
   "source": [
    "# Language Translator (Sirajology)\n",
    "In this mini-project, I follow along w/ [Siraj's video](https://www.youtube.com/watch?v=nRBnh4qbPHI)\n",
    "\n",
    "* Data: We use a corpus of transcribed TED Talks, which has both English and French transcriptions. \n",
    "* Goal: Create a model like that used by [Google Translate](https://translate.google.com/) (called a [Neural Machine Translation System](https://github.com/neubig/nmt-tips)) that can translate from one to the other after training.\n",
    "* Tools\n",
    "    - Machine Learning / Neural Networks:  [TensorFlow](https://www.tensorflow.org/)\n",
    "    - Data Import:  [TensorFlow's data_utils class](https://github.com/tensorflow/models/blob/master/tutorials/rnn/translate/data_utils.py)\n"
   ]
  },
  {
   "cell_type": "code",
   "execution_count": 16,
   "metadata": {
    "collapsed": false
   },
   "outputs": [
    {
     "name": "stdout",
     "output_type": "stream",
     "text": [
      "/bin/sh: 1: [: nltk: unexpected operator\r\n"
     ]
    }
   ],
   "source": [
    "### Install Dependencies\n",
    "!if [ `conda list | grep \"^nltk\"`=='' ]; then conda install -y nltk; fi\n",
    "# This code worked to install... But once installed, throws an error.\n",
    "#!if [ `conda list | grep \"^six\"`=='' ]; then conda install six -y; fi"
   ]
  },
  {
   "cell_type": "code",
   "execution_count": 6,
   "metadata": {
    "collapsed": false
   },
   "outputs": [
    {
     "ename": "AttributeError",
     "evalue": "module 'tensorflow.python' has no attribute 'ops'",
     "output_type": "error",
     "traceback": [
      "\u001b[0;31m---------------------------------------------------------------------------\u001b[0m",
      "\u001b[0;31mAttributeError\u001b[0m                            Traceback (most recent call last)",
      "\u001b[0;32m<ipython-input-6-e5c14086d914>\u001b[0m in \u001b[0;36m<module>\u001b[0;34m()\u001b[0m\n\u001b[1;32m      2\u001b[0m \u001b[0;32mimport\u001b[0m \u001b[0mtensorflow\u001b[0m \u001b[0;32mas\u001b[0m \u001b[0mtf\u001b[0m\u001b[0;34m\u001b[0m\u001b[0m\n\u001b[1;32m      3\u001b[0m \u001b[0;31m#from\u001b[0m\u001b[0;34m\u001b[0m\u001b[0;34m\u001b[0m\u001b[0m\n\u001b[0;32m----> 4\u001b[0;31m \u001b[0;32mimport\u001b[0m \u001b[0mtensorflow\u001b[0m\u001b[0;34m.\u001b[0m\u001b[0mpython\u001b[0m\u001b[0;34m.\u001b[0m\u001b[0mops\u001b[0m \u001b[0;32mas\u001b[0m \u001b[0mops\u001b[0m \u001b[0;31m# import data_utils\u001b[0m\u001b[0;34m\u001b[0m\u001b[0m\n\u001b[0m\u001b[1;32m      5\u001b[0m \u001b[0;31m#import translation as tr   # helper class\u001b[0m\u001b[0;34m\u001b[0m\u001b[0;34m\u001b[0m\u001b[0m\n",
      "\u001b[0;31mAttributeError\u001b[0m: module 'tensorflow.python' has no attribute 'ops'"
     ]
    }
   ],
   "source": [
    "# Dependencies\n",
    "import tensorflow as tf\n",
    "#from \n",
    "import tensorflow.python.ops as ops # import data_utils\n",
    "#import translation as tr   # helper class\n",
    "\n",
    "# Jeez... I have issues w/ all the stuff Siraj imports..."
   ]
  },
  {
   "cell_type": "markdown",
   "metadata": {},
   "source": [
    "y"
   ]
  },
  {
   "cell_type": "code",
   "execution_count": null,
   "metadata": {
    "collapsed": true
   },
   "outputs": [],
   "source": []
  }
 ],
 "metadata": {
  "kernelspec": {
   "display_name": "Python 3",
   "language": "python",
   "name": "python3"
  },
  "language_info": {
   "codemirror_mode": {
    "name": "ipython",
    "version": 3
   },
   "file_extension": ".py",
   "mimetype": "text/x-python",
   "name": "python",
   "nbconvert_exporter": "python",
   "pygments_lexer": "ipython3",
   "version": "3.5.2"
  },
  "widgets": {
   "state": {},
   "version": "1.1.2"
  }
 },
 "nbformat": 4,
 "nbformat_minor": 2
}
