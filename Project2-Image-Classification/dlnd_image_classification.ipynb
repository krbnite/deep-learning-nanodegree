{
 "cells": [
  {
   "cell_type": "markdown",
   "metadata": {
    "collapsed": true,
    "deletable": true,
    "editable": true
   },
   "source": [
    "# Image Classification\n",
    "In this project, you'll classify images from the [CIFAR-10 dataset](https://www.cs.toronto.edu/~kriz/cifar.html).  The dataset consists of airplanes, dogs, cats, and other objects. You'll preprocess the images, then train a convolutional neural network on all the samples. The images need to be normalized and the labels need to be one-hot encoded.  You'll get to apply what you learned and build a convolutional, max pooling, dropout, and fully connected layers.  At the end, you'll get to see your neural network's predictions on the sample images.\n",
    "## Get the Data\n",
    "Run the following cell to download the [CIFAR-10 dataset for python](https://www.cs.toronto.edu/~kriz/cifar-10-python.tar.gz)."
   ]
  },
  {
   "cell_type": "code",
   "execution_count": 1,
   "metadata": {
    "collapsed": false,
    "deletable": true,
    "editable": true
   },
   "outputs": [
    {
     "name": "stdout",
     "output_type": "stream",
     "text": [
      "All files found!\n"
     ]
    }
   ],
   "source": [
    "\"\"\"\n",
    "DON'T MODIFY ANYTHING IN THIS CELL THAT IS BELOW THIS LINE\n",
    "\"\"\"\n",
    "from urllib.request import urlretrieve\n",
    "from os.path import isfile, isdir\n",
    "from tqdm import tqdm\n",
    "import problem_unittests as tests\n",
    "import tarfile\n",
    "\n",
    "cifar10_dataset_folder_path = 'cifar-10-batches-py'\n",
    "\n",
    "class DLProgress(tqdm):\n",
    "    last_block = 0\n",
    "\n",
    "    def hook(self, block_num=1, block_size=1, total_size=None):\n",
    "        self.total = total_size\n",
    "        self.update((block_num - self.last_block) * block_size)\n",
    "        self.last_block = block_num\n",
    "\n",
    "if not isfile('cifar-10-python.tar.gz'):\n",
    "    with DLProgress(unit='B', unit_scale=True, miniters=1, desc='CIFAR-10 Dataset') as pbar:\n",
    "        urlretrieve(\n",
    "            'https://www.cs.toronto.edu/~kriz/cifar-10-python.tar.gz',\n",
    "            'cifar-10-python.tar.gz',\n",
    "            pbar.hook)\n",
    "\n",
    "if not isdir(cifar10_dataset_folder_path):\n",
    "    with tarfile.open('cifar-10-python.tar.gz') as tar:\n",
    "        tar.extractall()\n",
    "        tar.close()\n",
    "\n",
    "\n",
    "tests.test_folder_path(cifar10_dataset_folder_path)"
   ]
  },
  {
   "cell_type": "markdown",
   "metadata": {
    "deletable": true,
    "editable": true
   },
   "source": [
    "## Explore the Data\n",
    "The dataset is broken into batches to prevent your machine from running out of memory.  The CIFAR-10 dataset consists of 5 batches, named `data_batch_1`, `data_batch_2`, etc.. Each batch contains the labels and images that are one of the following:\n",
    "* airplane\n",
    "* automobile\n",
    "* bird\n",
    "* cat\n",
    "* deer\n",
    "* dog\n",
    "* frog\n",
    "* horse\n",
    "* ship\n",
    "* truck\n",
    "\n",
    "Understanding a dataset is part of making predictions on the data.  Play around with the code cell below by changing the `batch_id` and `sample_id`. The `batch_id` is the id for a batch (1-5). The `sample_id` is the id for a image and label pair in the batch.\n",
    "\n",
    "Ask yourself \"What are all possible labels?\", \"What is the range of values for the image data?\", \"Are the labels in order or random?\".  Answers to questions like these will help you preprocess the data and end up with better predictions."
   ]
  },
  {
   "cell_type": "markdown",
   "metadata": {
    "deletable": true,
    "editable": true
   },
   "source": [
    "## KrbNote\n",
    "To play around with the raw data, import helper in iPython."
   ]
  },
  {
   "cell_type": "code",
   "execution_count": 2,
   "metadata": {
    "collapsed": false,
    "deletable": true,
    "editable": true
   },
   "outputs": [
    {
     "name": "stdout",
     "output_type": "stream",
     "text": [
      "\n",
      "Stats of batch 1:\n",
      "Samples: 10000\n",
      "Label Counts: {0: 1005, 1: 974, 2: 1032, 3: 1016, 4: 999, 5: 937, 6: 1030, 7: 1001, 8: 1025, 9: 981}\n",
      "First 20 Labels: [6, 9, 9, 4, 1, 1, 2, 7, 8, 3, 4, 7, 7, 2, 9, 9, 9, 3, 2, 6]\n",
      "\n",
      "Example of Image 5:\n",
      "Image - Min Value: 0 Max Value: 252\n",
      "Image - Shape: (32, 32, 3)\n",
      "Label - Label Id: 1 Name: automobile\n"
     ]
    },
    {
     "data": {
      "image/png": "[encoded data removed]",
      "text/plain": [
       "<matplotlib.figure.Figure at 0x7f47fb34dd68>"
      ]
     },
     "metadata": {
      "image/png": {
       "height": 250,
       "width": 253
      }
     },
     "output_type": "display_data"
    }
   ],
   "source": [
    "%matplotlib inline\n",
    "%config InlineBackend.figure_format = 'retina'\n",
    "\n",
    "import helper\n",
    "import numpy as np\n",
    "\n",
    "# Explore the dataset\n",
    "batch_id = 1\n",
    "sample_id = 5\n",
    "helper.display_stats(cifar10_dataset_folder_path, batch_id, sample_id)\n"
   ]
  },
  {
   "cell_type": "markdown",
   "metadata": {
    "deletable": true,
    "editable": true
   },
   "source": [
    "## Implement Preprocess Functions\n",
    "### Normalize\n",
    "In the cell below, implement the `normalize` function to take in image data, `x`, and return it as a normalized Numpy array. The values should be in the range of 0 to 1, inclusive.  The return object should be the same shape as `x`."
   ]
  },
  {
   "cell_type": "code",
   "execution_count": 3,
   "metadata": {
    "collapsed": false,
    "deletable": true,
    "editable": true
   },
   "outputs": [
    {
     "name": "stdout",
     "output_type": "stream",
     "text": [
      "Tests Passed\n"
     ]
    }
   ],
   "source": [
    "def normalize(x):\n",
    "    \"\"\"\n",
    "    Normalize a list of sample image data in the range of 0 to 1\n",
    "    : x: List of image data.  The image shape is (32, 32, 3)\n",
    "    : return: Numpy array of normalize data\n",
    "    \"\"\"\n",
    "    # TODO: Implement Function\n",
    "    x = np.array(x)\n",
    "    return x/255.\n",
    "\n",
    "\n",
    "\"\"\"\n",
    "DON'T MODIFY ANYTHING IN THIS CELL THAT IS BELOW THIS LINE\n",
    "\"\"\"\n",
    "tests.test_normalize(normalize)"
   ]
  },
  {
   "cell_type": "markdown",
   "metadata": {
    "deletable": true,
    "editable": true
   },
   "source": [
    "### One-hot encode\n",
    "Just like the previous code cell, you'll be implementing a function for preprocessing.  This time, you'll implement the `one_hot_encode` function. The input, `x`, are a list of labels.  Implement the function to return the list of labels as One-Hot encoded Numpy array.  The possible values for labels are 0 to 9. The one-hot encoding function should return the same encoding for each value between each call to `one_hot_encode`.  Make sure to save the map of encodings outside the function.\n",
    "\n",
    "Hint: Don't reinvent the wheel."
   ]
  },
  {
   "cell_type": "code",
   "execution_count": 4,
   "metadata": {
    "collapsed": false,
    "deletable": true,
    "editable": true
   },
   "outputs": [
    {
     "name": "stdout",
     "output_type": "stream",
     "text": [
      "Tests Passed\n"
     ]
    }
   ],
   "source": [
    "lab_to_hot = {\n",
    "    0: [1]+list(np.zeros(9,dtype='int32')),\n",
    "    1: [0,1]+list(np.zeros(8,dtype='int32')),\n",
    "    2: [0,0,1]+list(np.zeros(7,dtype='int32')),\n",
    "    3: [0,0,0,1]+list(np.zeros(6,dtype='int32')),\n",
    "    4: [0,0,0,0,1]+list(np.zeros(5,dtype='int32')),\n",
    "    5: list(np.zeros(5,dtype='int32'))+[1,0,0,0,0],\n",
    "    6: list(np.zeros(6,dtype='int32'))+[1,0,0,0],\n",
    "    7: list(np.zeros(7,dtype='int32'))+[1,0,0],\n",
    "    8: list(np.zeros(8,dtype='int32'))+[1,0],\n",
    "    9: list(np.zeros(9,dtype='int32'))+[1]\n",
    "    }\n",
    "\n",
    "def one_hot_encode(x):\n",
    "    \"\"\"\n",
    "    One hot encode a list of sample labels. Return a one-hot encoded vector for each label.\n",
    "    : x: List of sample Labels\n",
    "    : return: Numpy array of one-hot encoded labels\n",
    "    \"\"\"\n",
    "    # TODO: Implement Function\n",
    "    output=[lab_to_hot[label] for label in x]\n",
    "    return np.array(output)\n",
    "\n",
    "\n",
    "\"\"\"\n",
    "DON'T MODIFY ANYTHING IN THIS CELL THAT IS BELOW THIS LINE\n",
    "\"\"\"\n",
    "tests.test_one_hot_encode(one_hot_encode)"
   ]
  },
  {
   "cell_type": "markdown",
   "metadata": {
    "deletable": true,
    "editable": true
   },
   "source": [
    "### Randomize Data\n",
    "As you saw from exploring the data above, the order of the samples are randomized.  It doesn't hurt to randomize it again, but you don't need to for this dataset."
   ]
  },
  {
   "cell_type": "markdown",
   "metadata": {
    "deletable": true,
    "editable": true
   },
   "source": [
    "## Preprocess all the data and save it\n",
    "Running the code cell below will preprocess all the CIFAR-10 data and save it to file. The code below also uses 10% of the training data for validation."
   ]
  },
  {
   "cell_type": "code",
   "execution_count": 5,
   "metadata": {
    "collapsed": false,
    "deletable": true,
    "editable": true
   },
   "outputs": [],
   "source": [
    "\"\"\"\n",
    "DON'T MODIFY ANYTHING IN THIS CELL\n",
    "\"\"\"\n",
    "# Preprocess Training, Validation, and Testing Data\n",
    "helper.preprocess_and_save_data(cifar10_dataset_folder_path, normalize, one_hot_encode)"
   ]
  },
  {
   "cell_type": "markdown",
   "metadata": {
    "deletable": true,
    "editable": true
   },
   "source": [
    "# Check Point\n",
    "This is your first checkpoint.  If you ever decide to come back to this notebook or have to restart the notebook, you can start from here.  The preprocessed data has been saved to disk."
   ]
  },
  {
   "cell_type": "code",
   "execution_count": 1,
   "metadata": {
    "collapsed": false,
    "deletable": true,
    "editable": true
   },
   "outputs": [],
   "source": [
    "\"\"\"\n",
    "DON'T MODIFY ANYTHING IN THIS CELL\n",
    "\"\"\"\n",
    "import pickle\n",
    "import problem_unittests as tests\n",
    "import helper\n",
    "\n",
    "# Load the Preprocessed Validation data\n",
    "valid_features, valid_labels = pickle.load(open('preprocess_validation.p', mode='rb'))"
   ]
  },
  {
   "cell_type": "markdown",
   "metadata": {
    "deletable": true,
    "editable": true
   },
   "source": [
    "## Build the network\n",
    "For the neural network, you'll build each layer into a function.  Most of the code you've seen has been outside of functions. To test your code more thoroughly, we require that you put each layer in a function.  This allows us to give you better feedback and test for simple mistakes using our unittests before you submit your project.\n",
    "\n",
    ">**Note:** If you're finding it hard to dedicate enough time for this course each week, we've provided a small shortcut to this part of the project. In the next couple of problems, you'll have the option to use classes from the [TensorFlow Layers](https://www.tensorflow.org/api_docs/python/tf/layers) or [TensorFlow Layers (contrib)](https://www.tensorflow.org/api_guides/python/contrib.layers) packages to build each layer, except the layers you build in the \"Convolutional and Max Pooling Layer\" section.  TF Layers is similar to Keras's and TFLearn's abstraction to layers, so it's easy to pickup.\n",
    "\n",
    ">However, if you would like to get the most out of this course, try to solve all the problems _without_ using anything from the TF Layers packages. You **can** still use classes from other packages that happen to have the same name as ones you find in TF Layers! For example, instead of using the TF Layers version of the `conv2d` class, [tf.layers.conv2d](https://www.tensorflow.org/api_docs/python/tf/layers/conv2d), you would want to use the TF Neural Network version of `conv2d`, [tf.nn.conv2d](https://www.tensorflow.org/api_docs/python/tf/nn/conv2d). \n",
    "\n",
    "Let's begin!\n",
    "\n",
    "### Input\n",
    "The neural network needs to read the image data, one-hot encoded labels, and dropout keep probability. Implement the following functions\n",
    "* Implement `neural_net_image_input`\n",
    " * Return a [TF Placeholder](https://www.tensorflow.org/api_docs/python/tf/placeholder)\n",
    " * Set the shape using `image_shape` with batch size set to `None`.\n",
    " * Name the TensorFlow placeholder \"x\" using the TensorFlow `name` parameter in the [TF Placeholder](https://www.tensorflow.org/api_docs/python/tf/placeholder).\n",
    "* Implement `neural_net_label_input`\n",
    " * Return a [TF Placeholder](https://www.tensorflow.org/api_docs/python/tf/placeholder)\n",
    " * Set the shape using `n_classes` with batch size set to `None`.\n",
    " * Name the TensorFlow placeholder \"y\" using the TensorFlow `name` parameter in the [TF Placeholder](https://www.tensorflow.org/api_docs/python/tf/placeholder).\n",
    "* Implement `neural_net_keep_prob_input`\n",
    " * Return a [TF Placeholder](https://www.tensorflow.org/api_docs/python/tf/placeholder) for dropout keep probability.\n",
    " * Name the TensorFlow placeholder \"keep_prob\" using the TensorFlow `name` parameter in the [TF Placeholder](https://www.tensorflow.org/api_docs/python/tf/placeholder).\n",
    "\n",
    "These names will be used at the end of the project to load your saved model.\n",
    "\n",
    "Note: `None` for shapes in TensorFlow allow for a dynamic size."
   ]
  },
  {
   "cell_type": "code",
   "execution_count": 2,
   "metadata": {
    "collapsed": false,
    "deletable": true,
    "editable": true
   },
   "outputs": [
    {
     "name": "stdout",
     "output_type": "stream",
     "text": [
      "Image Input Tests Passed.\n",
      "Label Input Tests Passed.\n",
      "Keep Prob Tests Passed.\n"
     ]
    }
   ],
   "source": [
    "import tensorflow as tf\n",
    "\n",
    "def neural_net_image_input(image_shape):\n",
    "    \"\"\"\n",
    "    Return a Tensor for a bach of image input\n",
    "    : image_shape: Shape of the images\n",
    "    : return: Tensor for image input.\n",
    "    \"\"\"\n",
    "    img=image_shape\n",
    "    return tf.placeholder(tf.float32, shape=(None,img[0],img[1],img[2]), name=\"x\")\n",
    "\n",
    "\n",
    "def neural_net_label_input(n_classes):\n",
    "    \"\"\"\n",
    "    Return a Tensor for a batch of label input\n",
    "    : n_classes: Number of classes\n",
    "    : return: Tensor for label input.\n",
    "    \"\"\"\n",
    "    return tf.placeholder(tf.float32, shape=(None,n_classes), name=\"y\")\n",
    "\n",
    "\n",
    "def neural_net_keep_prob_input():\n",
    "    \"\"\"\n",
    "    Return a Tensor for keep probability\n",
    "    : return: Tensor for keep probability.\n",
    "    \"\"\"\n",
    "    return tf.placeholder(tf.float32, name=\"keep_prob\")\n",
    "\n",
    "\n",
    "\"\"\"\n",
    "DON'T MODIFY ANYTHING IN THIS CELL THAT IS BELOW THIS LINE\n",
    "\"\"\"\n",
    "tf.reset_default_graph()\n",
    "tests.test_nn_image_inputs(neural_net_image_input)\n",
    "tests.test_nn_label_inputs(neural_net_label_input)\n",
    "tests.test_nn_keep_prob_inputs(neural_net_keep_prob_input)"
   ]
  },
  {
   "cell_type": "markdown",
   "metadata": {
    "deletable": true,
    "editable": true
   },
   "source": [
    "### Convolution and Max Pooling Layer\n",
    "Convolution layers have a lot of success with images. For this code cell, you should implement the function `conv2d_maxpool` to apply convolution then max pooling:\n",
    "* Create the weight and bias using `conv_ksize`, `conv_num_outputs` and the shape of `x_tensor`.\n",
    "* Apply a convolution to `x_tensor` using weight and `conv_strides`.\n",
    " * We recommend you use same padding, but you're welcome to use any padding.\n",
    "* Add bias\n",
    "* Add a nonlinear activation to the convolution.\n",
    "* Apply Max Pooling using `pool_ksize` and `pool_strides`.\n",
    " * We recommend you use same padding, but you're welcome to use any padding.\n",
    "\n",
    "**Note:** You **can't** use [TensorFlow Layers](https://www.tensorflow.org/api_docs/python/tf/layers) or [TensorFlow Layers (contrib)](https://www.tensorflow.org/api_guides/python/contrib.layers) for **this** layer, but you can still use TensorFlow's [Neural Network](https://www.tensorflow.org/api_docs/python/tf/nn) package. You may still use the shortcut option for all the **other** layers."
   ]
  },
  {
   "cell_type": "code",
   "execution_count": 3,
   "metadata": {
    "collapsed": false,
    "deletable": true,
    "editable": true
   },
   "outputs": [
    {
     "name": "stdout",
     "output_type": "stream",
     "text": [
      "Tests Passed\n"
     ]
    }
   ],
   "source": [
    "import numpy as np\n",
    "def conv2d_maxpool(x_tensor, conv_num_outputs, conv_ksize, conv_strides, pool_ksize, pool_strides, padding='SAME',\n",
    "                  activation=None, keep_prob=None): \n",
    "    \"\"\"\n",
    "    Apply convolution then max pooling to x_tensor\n",
    "    :param x_tensor: TensorFlow Tensor\n",
    "    :param conv_num_outputs: Number of outputs for the convolutional layer\n",
    "    :param conv_ksize: kernal size 2-D Tuple for the convolutional layer\n",
    "    :param conv_strides: Stride 2-D Tuple for convolution\n",
    "    :param pool_ksize: kernal size 2-D Tuple for pool\n",
    "    :param pool_strides: Stride 2-D Tuple for pool\n",
    "    : return: A tensor that represents convolution and max pooling of x_tensor\n",
    "    \"\"\"\n",
    "    filt_h = conv_ksize[0];    filt_w = conv_ksize[1]\n",
    "    fstr_h = conv_strides[0];  fstr_w = conv_strides[1]\n",
    "    pool_h = pool_ksize[0];    pool_w = pool_ksize[1]\n",
    "    pstr_h = pool_strides[0];  pstr_w = pool_strides[1]\n",
    "    x_h = x_tensor.get_shape()[1].value\n",
    "    x_w = x_tensor.get_shape()[2].value\n",
    "    x_d = x_tensor.get_shape()[3].value\n",
    "    n_features = filt_h * filt_w * x_d\n",
    "    \n",
    "    #=======================================\n",
    "    # Layer Parameters\n",
    "    #=======================================\n",
    "    weights = tf.Variable(tf.truncated_normal([filt_h,filt_w,x_d,conv_num_outputs],\n",
    "                                               mean=0, stddev=np.sqrt(2.0/n_features) ))#0.1\n",
    "    #bias = tf.Variable(tf.truncated_normal([conv_num_outputs], mean=0, stddev=0.1))\n",
    "    bias = tf.Variable(tf.zeros([conv_num_outputs]))\n",
    "            \n",
    "    #=======================================\n",
    "    # Convolution Layer\n",
    "    #=======================================\n",
    "    conv_layer = tf.nn.conv2d( x_tensor, weights, strides=[1,fstr_h,fstr_w,1], padding=padding )\n",
    "    conv_layer = tf.nn.bias_add( conv_layer, bias )\n",
    "    \n",
    "    #=======================================\n",
    "    # Activation Function\n",
    "    #=======================================\n",
    "    if activation == 'relu':\n",
    "        conv_layer = tf.nn.relu(conv_layer)\n",
    "    elif activation == 'sigmoid':\n",
    "        conv_layer = tf.nn.sigmoid(conv_layer)\n",
    "    elif activation == 'tanh':\n",
    "        conv_layer = tf.nn.tanh(conv_layer)\n",
    "    elif activation == 'softplus':\n",
    "        conv_layer = tf.nn.softplus(conv_layer)\n",
    "    \n",
    "    #=======================================\n",
    "    # Max Pooling Option\n",
    "    #=======================================\n",
    "    conv_layer = tf.nn.max_pool( conv_layer, ksize=[1,pool_h,pool_w,1], \n",
    "                                strides=[1,pstr_h,pstr_w,1], padding='SAME' )\n",
    "    \n",
    "    #=======================================\n",
    "    # Drop Out Option\n",
    "    #=======================================\n",
    "    if keep_prob != None:\n",
    "        conv_layer = tf.nn.dropout(conv_layer, keep_prob)\n",
    "    \n",
    "    return conv_layer \n",
    "\n",
    "\n",
    "\n",
    "\"\"\"\n",
    "DON'T MODIFY ANYTHING IN THIS CELL THAT IS BELOW THIS LINE\n",
    "\"\"\"\n",
    "tests.test_con_pool(conv2d_maxpool)"
   ]
  },
  {
   "cell_type": "markdown",
   "metadata": {
    "deletable": true,
    "editable": true
   },
   "source": [
    "### Flatten Layer\n",
    "Implement the `flatten` function to change the dimension of `x_tensor` from a 4-D tensor to a 2-D tensor.  The output should be the shape (*Batch Size*, *Flattened Image Size*). Shortcut option: you can use classes from the [TensorFlow Layers](https://www.tensorflow.org/api_docs/python/tf/layers) or [TensorFlow Layers (contrib)](https://www.tensorflow.org/api_guides/python/contrib.layers) packages for this layer. For more of a challenge, only use other TensorFlow packages."
   ]
  },
  {
   "cell_type": "code",
   "execution_count": 4,
   "metadata": {
    "collapsed": false,
    "deletable": true,
    "editable": true
   },
   "outputs": [
    {
     "name": "stdout",
     "output_type": "stream",
     "text": [
      "Tests Passed\n"
     ]
    }
   ],
   "source": [
    "def flatten(x_tensor):\n",
    "    \"\"\"\n",
    "    Flatten x_tensor to (Batch Size, Flattened Image Size)\n",
    "    : x_tensor: A tensor of size (Batch Size, ...), where ... are the image dimensions.\n",
    "    : return: A tensor of size (Batch Size, Flattened Image Size).\n",
    "    \"\"\"\n",
    "    img_h = x_tensor.get_shape()[1].value\n",
    "    img_w = x_tensor.get_shape()[2].value\n",
    "    img_d = x_tensor.get_shape()[3].value\n",
    "    return tf.reshape(x_tensor,shape=(-1,img_h*img_w*img_d))\n",
    "\n",
    "\n",
    "\"\"\"\n",
    "DON'T MODIFY ANYTHING IN THIS CELL THAT IS BELOW THIS LINE\n",
    "\"\"\"\n",
    "tests.test_flatten(flatten)"
   ]
  },
  {
   "cell_type": "markdown",
   "metadata": {
    "deletable": true,
    "editable": true
   },
   "source": [
    "### A Little Extra Something:  Inflate Layer\n",
    "This reverse the flatten() operation."
   ]
  },
  {
   "cell_type": "code",
   "execution_count": 5,
   "metadata": {
    "collapsed": true,
    "deletable": true,
    "editable": true
   },
   "outputs": [],
   "source": [
    "def inflate(x_tensor, img_h,img_w, img_d):\n",
    "    \"\"\"\n",
    "    Inflate x_tensor to (Batch Size, height, width, depth)\n",
    "    : x_tensor: A tensor of size (Batch Size, fDim), where fDim is the flattened image dimension.\n",
    "    : return: A tensor of size (Batch Size, height, width, depth).\n",
    "    \"\"\"\n",
    "    img_f = x_tensor.get_shape()[1].value\n",
    "    assert img_f == img_h*img_w*img_d\n",
    "    \n",
    "    return tf.reshape(x_tensor,shape=(-1,img_h,img_w,img_d))\n",
    "\n"
   ]
  },
  {
   "cell_type": "markdown",
   "metadata": {
    "deletable": true,
    "editable": true
   },
   "source": [
    "### Fully-Connected Layer\n",
    "Implement the `fully_conn` function to apply a fully connected layer to `x_tensor` with the shape (*Batch Size*, *num_outputs*). Shortcut option: you can use classes from the [TensorFlow Layers](https://www.tensorflow.org/api_docs/python/tf/layers) or [TensorFlow Layers (contrib)](https://www.tensorflow.org/api_guides/python/contrib.layers) packages for this layer. For more of a challenge, only use other TensorFlow packages."
   ]
  },
  {
   "cell_type": "code",
   "execution_count": 6,
   "metadata": {
    "collapsed": false,
    "deletable": true,
    "editable": true
   },
   "outputs": [
    {
     "name": "stdout",
     "output_type": "stream",
     "text": [
      "Tests Passed\n"
     ]
    }
   ],
   "source": [
    "def fully_conn(x_tensor, num_outputs, activation=None, keep_prob=None):\n",
    "    \"\"\"\n",
    "    Apply a fully connected layer to x_tensor using weight and bias\n",
    "    : x_tensor: A 2-D tensor where the first dimension is batch size.\n",
    "    : num_outputs: The number of output that the new tensor should be.\n",
    "    : return: A 2-D tensor where the second dimension is num_outputs.\n",
    "    \"\"\"\n",
    "    img_hwd = x_tensor.get_shape()[1].value\n",
    "    n_features = img_hwd\n",
    "    \n",
    "    #=======================================\n",
    "    # Layer Parameters\n",
    "    #=======================================\n",
    "    weight = tf.Variable(tf.truncated_normal([img_hwd, num_outputs], mean=0, stddev=np.sqrt(2.0/n_features)))#0.1\n",
    "    #bias   = tf.Variable(tf.truncated_normal([num_outputs], mean=0, stddev=0.01))\n",
    "    bias   = tf.Variable(tf.zeros([num_outputs]))\n",
    "        \n",
    "    #=======================================\n",
    "    # Fully Connected Layer\n",
    "    #=======================================\n",
    "    fc_layer = tf.add(tf.matmul(x_tensor, weight), bias)\n",
    "    \n",
    "    #=======================================\n",
    "    # Activation Function\n",
    "    #=======================================\n",
    "    if activation=='relu':\n",
    "        fc_layer = tf.nn.relu(fc_layer)\n",
    "    elif activation=='sigmoid':\n",
    "        fc_layer = tf.nn.sigmoid(fc_layer)\n",
    "    elif activation=='tanh':\n",
    "        fc_layer = tf.nn.tanh(fc_layer)\n",
    "    elif activation=='softplus':\n",
    "        fc_layer = tf.nn.softplus(fc_layer)\n",
    "        \n",
    "    #=======================================\n",
    "    # Post-Layer Drop Out Option\n",
    "    #=======================================\n",
    "    if keep_prob != None:\n",
    "        fc_layer = tf.nn.dropout(fc_layer, keep_prob)\n",
    "       \n",
    "    return fc_layer\n",
    "\n",
    "\n",
    "\"\"\"\n",
    "DON'T MODIFY ANYTHING IN THIS CELL THAT IS BELOW THIS LINE\n",
    "\"\"\"\n",
    "tests.test_fully_conn(fully_conn)"
   ]
  },
  {
   "cell_type": "markdown",
   "metadata": {
    "deletable": true,
    "editable": true
   },
   "source": [
    "### Output Layer\n",
    "Implement the `output` function to apply a fully connected layer to `x_tensor` with the shape (*Batch Size*, *num_outputs*). Shortcut option: you can use classes from the [TensorFlow Layers](https://www.tensorflow.org/api_docs/python/tf/layers) or [TensorFlow Layers (contrib)](https://www.tensorflow.org/api_guides/python/contrib.layers) packages for this layer. For more of a challenge, only use other TensorFlow packages.\n",
    "\n",
    "**Note:** Activation, softmax, or cross entropy should **not** be applied to this."
   ]
  },
  {
   "cell_type": "code",
   "execution_count": 7,
   "metadata": {
    "collapsed": false,
    "deletable": true,
    "editable": true
   },
   "outputs": [
    {
     "name": "stdout",
     "output_type": "stream",
     "text": [
      "Tests Passed\n"
     ]
    }
   ],
   "source": [
    "def output(x_tensor, num_outputs):\n",
    "    \"\"\"\n",
    "    Apply a output layer to x_tensor using weight and bias\n",
    "    : x_tensor: A 2-D tensor where the first dimension is batch size.\n",
    "    : num_outputs: The number of output that the new tensor should be.\n",
    "    : return: A 2-D tensor where the second dimension is num_outputs.\n",
    "    \"\"\"\n",
    "    output_layer = fully_conn(x_tensor,num_outputs)\n",
    "    return output_layer\n",
    "\n",
    "\n",
    "\"\"\"\n",
    "DON'T MODIFY ANYTHING IN THIS CELL THAT IS BELOW THIS LINE\n",
    "\"\"\"\n",
    "tests.test_output(output)"
   ]
  },
  {
   "cell_type": "markdown",
   "metadata": {
    "deletable": true,
    "editable": true
   },
   "source": [
    "### Create Convolutional Model\n",
    "Implement the function `conv_net` to create a convolutional neural network model. The function takes in a batch of images, `x`, and outputs logits.  Use the layers you created above to create this model:\n",
    "\n",
    "* Apply 1, 2, or 3 Convolution and Max Pool layers\n",
    "* Apply a Flatten Layer\n",
    "* Apply 1, 2, or 3 Fully Connected Layers\n",
    "* Apply an Output Layer\n",
    "* Return the output\n",
    "* Apply [TensorFlow's Dropout](https://www.tensorflow.org/api_docs/python/tf/nn/dropout) to one or more layers in the model using `keep_prob`. \n",
    "\n",
    "**Note to Self**: the input images are 32x32x3."
   ]
  },
  {
   "cell_type": "code",
   "execution_count": 8,
   "metadata": {
    "collapsed": false,
    "deletable": true,
    "editable": true
   },
   "outputs": [
    {
     "data": {
      "text/plain": [
       "<tf.Tensor 'dropout_3/mul:0' shape=(?, 50) dtype=float32>"
      ]
     },
     "execution_count": 8,
     "metadata": {},
     "output_type": "execute_result"
    }
   ],
   "source": [
    "keep_prob=0.6\n",
    "x = neural_net_image_input((32, 32, 3))\n",
    "cl = conv2d_maxpool(x, conv_num_outputs=25, conv_ksize=(5,5), conv_strides=(1,1), \n",
    "         pool_ksize=(2,2), pool_strides=(2,2), activation='relu', keep_prob=keep_prob)\n",
    "cl = conv2d_maxpool(cl, conv_num_outputs=50, conv_ksize=(7,7), conv_strides=(1,1), \n",
    "        pool_ksize=(2,2), pool_strides=(2,2), activation='relu', keep_prob=keep_prob)\n",
    "cl = conv2d_maxpool(cl, conv_num_outputs=100, conv_ksize=(9,9), conv_strides=(1,1), \n",
    "           pool_ksize=(1,1), pool_strides=(1,1), activation='relu', keep_prob=keep_prob)\n",
    "fcl = flatten(cl)\n",
    "fcl = fully_conn(fcl,  50, activation='relu', keep_prob=keep_prob)#, keep_prob=0.8) # Drop Out on this layer is too expensive in epochs\n",
    "\n",
    "fcl\n"
   ]
  },
  {
   "cell_type": "code",
   "execution_count": 117,
   "metadata": {
    "collapsed": false,
    "deletable": true,
    "editable": true
   },
   "outputs": [
    {
     "name": "stdout",
     "output_type": "stream",
     "text": [
      "Neural Network Built!\n"
     ]
    }
   ],
   "source": [
    "def conv_net(x, keep_prob):\n",
    "    \"\"\"\n",
    "    Create a convolutional neural network model\n",
    "    : x: Placeholder tensor that holds image data.\n",
    "    : keep_prob: Placeholder tensor that hold dropout keep probability.\n",
    "    : return: Tensor that represents logits\n",
    "    \"\"\"\n",
    "\n",
    "    # TODO: Apply 1, 2, or 3 Convolution and Max Pool layers\n",
    "    #    Play around with different number of outputs, kernel size and stride\n",
    "    \n",
    "    # Keep_Prob by Layer Type\n",
    "    # -- change coefficients to experiment\n",
    "    # -- ultimately found not to have huge impact...\n",
    "    conv_kp = (7.0/5.0)*keep_prob\n",
    "    fc_kp = keep_prob  \n",
    "    \n",
    "    \n",
    "    # CL1: (b,32,32,3)-dim Tensor --> (b,,,)\n",
    "    #x=tf.nn.dropout(x,keep_prob)\n",
    "    cl = conv2d_maxpool(x, conv_num_outputs=50, conv_ksize=(5,5), conv_strides=(1,1), \n",
    "           pool_ksize=(2,2), pool_strides=(2,2), activation='relu', keep_prob=conv_kp)\n",
    "    \n",
    "    # CL2: (b,,,)-dim Tensor --> (b,,,)\n",
    "    #cl = tf.nn.dropout(cl,keep_prob)\n",
    "    cl = conv2d_maxpool(cl, conv_num_outputs=100, conv_ksize=(5,5), conv_strides=(1,1), \n",
    "           pool_ksize=(2,2), pool_strides=(2,2), activation='relu', keep_prob=conv_kp)\n",
    "    \n",
    "    # CL3: (b,,,)-dim Tensor --> (b,6,,)\n",
    "    #cl = tf.nn.dropout(cl,keep_prob)\n",
    "    #cl = conv2d_maxpool(cl, conv_num_outputs=1000, conv_ksize=(3,3), conv_strides=(1,1), \n",
    "    #       pool_ksize=(1,1), pool_strides=(1,1), activation='relu', keep_prob=conv_kp)\n",
    "\n",
    "    # TODO: Apply a Flatten Layer\n",
    "    # (b,,,) -->  (b,)\n",
    "    fcl = flatten(cl)\n",
    "    \n",
    "\n",
    "    # TODO: Apply 1, 2, or 3 Fully Connected Layers\n",
    "    #    Play around with different number of outputs\n",
    "    # (b,,,) -->  (b,)\n",
    "    fcl = fully_conn(fcl,  100, activation='sigmoid', keep_prob = fc_kp)#, keep_prob=0.8) # Drop Out on this layer is too expensive in epochs\n",
    "    \n",
    "    # 2nd Layer generally degrades performance (or at least doesn't seem to add much)......\n",
    "    #fcl = fully_conn(fcl,  30, activation='relu', keep_prob=fc_kp)\n",
    "        \n",
    "    # 3rd FCL totally not necessary\n",
    "    #fcl = fully_conn(fcl,  100, activation='sigmoid', keep_prob=keep_prob)\n",
    "    \n",
    "#400,200 (or no fcl)\n",
    "\n",
    "\n",
    "    \n",
    "    # TODO: Apply an Output Layer\n",
    "    #    Set this to the number of classes\n",
    "    # Function Definition from Above:\n",
    "    ol = output(fcl, 10)\n",
    "    \n",
    "    \n",
    "    # TODO: return output\n",
    "    return ol\n",
    "\n",
    "\n",
    "\"\"\"\n",
    "DON'T MODIFY ANYTHING IN THIS CELL THAT IS BELOW THIS LINE\n",
    "\"\"\"\n",
    "\n",
    "##############################\n",
    "## Build the Neural Network ##\n",
    "##############################\n",
    "\n",
    "# Remove previous weights, bias, inputs, etc..\n",
    "tf.reset_default_graph()\n",
    "\n",
    "# Inputs\n",
    "x = neural_net_image_input((32, 32, 3))\n",
    "y = neural_net_label_input(10)\n",
    "keep_prob = neural_net_keep_prob_input()\n",
    "\n",
    "# Model\n",
    "logits = conv_net(x, keep_prob)\n",
    "\n",
    "# Name logits Tensor, so that is can be loaded from disk after training\n",
    "logits = tf.identity(logits, name='logits')\n",
    "\n",
    "# Loss and Optimizer\n",
    "cost = tf.reduce_mean(tf.nn.softmax_cross_entropy_with_logits(logits=logits, labels=y))\n",
    "optimizer = tf.train.AdamOptimizer().minimize(cost)\n",
    "\n",
    "# Accuracy\n",
    "correct_pred = tf.equal(tf.argmax(logits, 1), tf.argmax(y, 1))\n",
    "accuracy = tf.reduce_mean(tf.cast(correct_pred, tf.float32), name='accuracy')\n",
    "\n",
    "tests.test_conv_net(conv_net)"
   ]
  },
  {
   "cell_type": "markdown",
   "metadata": {
    "deletable": true,
    "editable": true
   },
   "source": [
    "## Train the Neural Network\n",
    "### Single Optimization\n",
    "Implement the function `train_neural_network` to do a single optimization.  The optimization should use `optimizer` to optimize in `session` with a `feed_dict` of the following:\n",
    "* `x` for image input\n",
    "* `y` for labels\n",
    "* `keep_prob` for keep probability for dropout\n",
    "\n",
    "This function will be called for each batch, so `tf.global_variables_initializer()` has already been called.\n",
    "\n",
    "Note: Nothing needs to be returned. This function is only optimizing the neural network."
   ]
  },
  {
   "cell_type": "markdown",
   "metadata": {
    "deletable": true,
    "editable": true
   },
   "source": [
    "### List Comprehensions\n",
    "I implemented the one-hot encoder with a for loop initially.  Didn't matter until I went to test `train_neural_network` below.  Then it mattered big time.  Literally.  Suffered through a half hour before I interrupted the kernel b/c \"this can't be right!\"  Looked through my code and realized with horror I'd made a rookie move: for loop spotted!  I replaced the monstrosity with a list comprehension, then re-ran the cells, stopping here at `train_neural_network`.  With trepidation, my fingers made the next move: &lt;shift&gt;+&lt;enter&gt;...  Before I could look away, the cell completed -- test passed!  Moral of story: Whoa, list comprehensions are tachyonic."
   ]
  },
  {
   "cell_type": "code",
   "execution_count": 118,
   "metadata": {
    "collapsed": false,
    "deletable": true,
    "editable": true
   },
   "outputs": [
    {
     "name": "stdout",
     "output_type": "stream",
     "text": [
      "Tests Passed\n"
     ]
    }
   ],
   "source": [
    "def train_neural_network(session, optimizer, keep_probability, feature_batch, label_batch):\n",
    "    \"\"\"\n",
    "    Optimize the session on a batch of images and labels\n",
    "    : session: Current TensorFlow session\n",
    "    : optimizer: TensorFlow optimizer function\n",
    "    : keep_probability: keep probability\n",
    "    : feature_batch: Batch of Numpy image data\n",
    "    : label_batch: Batch of Numpy label data\n",
    "    \"\"\"\n",
    "    session.run(optimizer, feed_dict={\n",
    "                x: feature_batch,\n",
    "                y: label_batch,\n",
    "                keep_prob: keep_probability})\n",
    "\n",
    "\n",
    "\n",
    "\"\"\"\n",
    "DON'T MODIFY ANYTHING IN THIS CELL THAT IS BELOW THIS LINE\n",
    "\"\"\"\n",
    "tests.test_train_nn(train_neural_network)"
   ]
  },
  {
   "cell_type": "markdown",
   "metadata": {
    "deletable": true,
    "editable": true
   },
   "source": [
    "### Show Stats\n",
    "Implement the function `print_stats` to print loss and validation accuracy.  Use the global variables `valid_features` and `valid_labels` to calculate validation accuracy.  Use a keep probability of `1.0` to calculate the loss and validation accuracy."
   ]
  },
  {
   "cell_type": "markdown",
   "metadata": {
    "deletable": true,
    "editable": true
   },
   "source": [
    "**Note to Self**:  The global variables are defined above like so:\n",
    "<center>valid_features, valid_labels = pickle.load(open('preprocess_validation.p', mode='rb'))</center>"
   ]
  },
  {
   "cell_type": "code",
   "execution_count": 119,
   "metadata": {
    "collapsed": false,
    "deletable": true,
    "editable": true
   },
   "outputs": [],
   "source": [
    "def print_stats(session, feature_batch, label_batch, cost, accuracy):\n",
    "    \"\"\"\n",
    "    Print information about loss and validation accuracy\n",
    "    : session: Current TensorFlow session\n",
    "    : feature_batch: Batch of Numpy image data\n",
    "    : label_batch: Batch of Numpy label data\n",
    "    : cost: TensorFlow cost function\n",
    "    : accuracy: TensorFlow accuracy function\n",
    "    \"\"\"\n",
    "    valid_size = valid_features.shape[0]\n",
    "    loss = session.run( cost, feed_dict={\n",
    "            x: feature_batch, \n",
    "            y: label_batch, \n",
    "            keep_prob: 1.} )\n",
    "    acc  = session.run(accuracy, feed_dict={\n",
    "            x: valid_features,\n",
    "            y: valid_labels, \n",
    "            keep_prob: 1.})\n",
    "\n",
    "    print('Loss: {:>10.4f} Validation Accuracy: {:.6f}'.format(\n",
    "            loss,  acc))\n",
    "    \n",
    "    "
   ]
  },
  {
   "cell_type": "markdown",
   "metadata": {},
   "source": [
    "### Hyperparameters\n",
    "Tune the following parameters:\n",
    "* Set `epochs` to the number of iterations until the network stops learning or start overfitting\n",
    "* Set `batch_size` to the highest number that your machine has memory for.  Most people set them to common sizes of memory:\n",
    " * 64\n",
    " * 128\n",
    " * 256\n",
    " * ...\n",
    "* Set `keep_probability` to the probability of keeping a node using dropout"
   ]
  },
  {
   "cell_type": "code",
   "execution_count": 120,
   "metadata": {
    "collapsed": true,
    "deletable": true,
    "editable": true
   },
   "outputs": [],
   "source": [
    "epochs = 30\n",
    "batch_size = 32\n",
    "keep_probability = 0.5\n",
    "# Note: keep_prob is for conv layers, (2/3)*keep_probability for FC Layers"
   ]
  },
  {
   "cell_type": "markdown",
   "metadata": {
    "deletable": true,
    "editable": true
   },
   "source": [
    "### Train on a Single CIFAR-10 Batch\n",
    "Instead of training the neural network on all the CIFAR-10 batches of data, let's use a single batch. This should save time while you iterate on the model to get a better accuracy.  Once the final validation accuracy is 50% or greater, run the model on all the data in the next section."
   ]
  },
  {
   "cell_type": "code",
   "execution_count": 121,
   "metadata": {
    "collapsed": false,
    "deletable": true,
    "editable": true
   },
   "outputs": [
    {
     "name": "stdout",
     "output_type": "stream",
     "text": [
      "Checking the Training on a Single Batch...\n",
      "Epoch  1, CIFAR-10 Batch 1:  Loss:     1.7816 Validation Accuracy: 0.397400\n",
      "Epoch  2, CIFAR-10 Batch 1:  Loss:     1.6070 Validation Accuracy: 0.418400\n",
      "Epoch  3, CIFAR-10 Batch 1:  Loss:     1.4018 Validation Accuracy: 0.496200\n",
      "Epoch  4, CIFAR-10 Batch 1:  Loss:     1.2261 Validation Accuracy: 0.520600\n",
      "Epoch  5, CIFAR-10 Batch 1:  Loss:     0.9604 Validation Accuracy: 0.544000\n",
      "Epoch  6, CIFAR-10 Batch 1:  Loss:     0.9311 Validation Accuracy: 0.546200\n",
      "Epoch  7, CIFAR-10 Batch 1:  Loss:     0.7201 Validation Accuracy: 0.567800\n",
      "Epoch  8, CIFAR-10 Batch 1:  Loss:     0.7331 Validation Accuracy: 0.587600\n",
      "Epoch  9, CIFAR-10 Batch 1:  Loss:     0.6175 Validation Accuracy: 0.591400\n",
      "Epoch 10, CIFAR-10 Batch 1:  Loss:     0.4926 Validation Accuracy: 0.610600\n",
      "Epoch 11, CIFAR-10 Batch 1:  Loss:     0.4367 Validation Accuracy: 0.602200\n",
      "Epoch 12, CIFAR-10 Batch 1:  Loss:     0.4005 Validation Accuracy: 0.600200\n",
      "Epoch 13, CIFAR-10 Batch 1:  Loss:     0.3051 Validation Accuracy: 0.611400\n",
      "Epoch 14, CIFAR-10 Batch 1:  Loss:     0.3017 Validation Accuracy: 0.599800\n",
      "Epoch 15, CIFAR-10 Batch 1:  Loss:     0.2205 Validation Accuracy: 0.612400\n",
      "Epoch 16, CIFAR-10 Batch 1:  Loss:     0.2067 Validation Accuracy: 0.623200\n",
      "Epoch 17, CIFAR-10 Batch 1:  Loss:     0.2530 Validation Accuracy: 0.612800\n",
      "Epoch 18, CIFAR-10 Batch 1:  Loss:     0.2257 Validation Accuracy: 0.620200\n",
      "Epoch 19, CIFAR-10 Batch 1:  Loss:     0.1616 Validation Accuracy: 0.619200\n",
      "Epoch 20, CIFAR-10 Batch 1:  Loss:     0.2171 Validation Accuracy: 0.624400\n",
      "Epoch 21, CIFAR-10 Batch 1:  Loss:     0.1512 Validation Accuracy: 0.626400\n",
      "Epoch 22, CIFAR-10 Batch 1:  Loss:     0.1102 Validation Accuracy: 0.632400\n",
      "Epoch 23, CIFAR-10 Batch 1:  Loss:     0.1232 Validation Accuracy: 0.615600\n",
      "Epoch 24, CIFAR-10 Batch 1:  Loss:     0.1210 Validation Accuracy: 0.634600\n",
      "Epoch 25, CIFAR-10 Batch 1:  Loss:     0.1119 Validation Accuracy: 0.630800\n",
      "Epoch 26, CIFAR-10 Batch 1:  Loss:     0.0580 Validation Accuracy: 0.622800\n",
      "Epoch 27, CIFAR-10 Batch 1:  Loss:     0.0828 Validation Accuracy: 0.630800\n",
      "Epoch 28, CIFAR-10 Batch 1:  Loss:     0.0578 Validation Accuracy: 0.630200\n",
      "Epoch 29, CIFAR-10 Batch 1:  Loss:     0.0678 Validation Accuracy: 0.632800\n",
      "Epoch 30, CIFAR-10 Batch 1:  Loss:     0.0226 Validation Accuracy: 0.626200\n"
     ]
    }
   ],
   "source": [
    "\"\"\"\n",
    "DON'T MODIFY ANYTHING IN THIS CELL\n",
    "\"\"\"\n",
    "print('Checking the Training on a Single Batch...')\n",
    "with tf.Session() as sess:\n",
    "    # Initializing the variables\n",
    "    sess.run(tf.global_variables_initializer())\n",
    "    \n",
    "    # Training cycle\n",
    "    for epoch in range(epochs):\n",
    "        batch_i = 1\n",
    "        for batch_features, batch_labels in helper.load_preprocess_training_batch(batch_i, batch_size):\n",
    "            train_neural_network(sess, optimizer, keep_probability, batch_features, batch_labels)\n",
    "        print('Epoch {:>2}, CIFAR-10 Batch {}:  '.format(epoch + 1, batch_i), end='')\n",
    "        print_stats(sess, batch_features, batch_labels, cost, accuracy)"
   ]
  },
  {
   "cell_type": "markdown",
   "metadata": {
    "deletable": true,
    "editable": true
   },
   "source": [
    "### Fully Train the Model\n",
    "Now that you got a good accuracy with a single CIFAR-10 batch, try it with all five batches."
   ]
  },
  {
   "cell_type": "code",
   "execution_count": 123,
   "metadata": {
    "collapsed": false,
    "deletable": true,
    "editable": true
   },
   "outputs": [
    {
     "name": "stdout",
     "output_type": "stream",
     "text": [
      "Training...\n",
      "Epoch  1, CIFAR-10 Batch 1:  Loss:     1.7759 Validation Accuracy: 0.395800\n",
      "Epoch  1, CIFAR-10 Batch 2:  Loss:     1.3657 Validation Accuracy: 0.451600\n",
      "Epoch  1, CIFAR-10 Batch 3:  Loss:     1.1986 Validation Accuracy: 0.495000\n",
      "Epoch  1, CIFAR-10 Batch 4:  Loss:     1.5230 Validation Accuracy: 0.512600\n",
      "Epoch  1, CIFAR-10 Batch 5:  Loss:     1.4804 Validation Accuracy: 0.552800\n",
      "Epoch  2, CIFAR-10 Batch 1:  Loss:     1.2308 Validation Accuracy: 0.560200\n",
      "Epoch  2, CIFAR-10 Batch 2:  Loss:     0.8088 Validation Accuracy: 0.572600\n",
      "Epoch  2, CIFAR-10 Batch 3:  Loss:     0.8277 Validation Accuracy: 0.587000\n",
      "Epoch  2, CIFAR-10 Batch 4:  Loss:     1.0635 Validation Accuracy: 0.605400\n",
      "Epoch  2, CIFAR-10 Batch 5:  Loss:     1.3458 Validation Accuracy: 0.622800\n",
      "Epoch  3, CIFAR-10 Batch 1:  Loss:     0.9441 Validation Accuracy: 0.621800\n",
      "Epoch  3, CIFAR-10 Batch 2:  Loss:     0.4681 Validation Accuracy: 0.628200\n",
      "Epoch  3, CIFAR-10 Batch 3:  Loss:     0.5790 Validation Accuracy: 0.635200\n",
      "Epoch  3, CIFAR-10 Batch 4:  Loss:     0.6479 Validation Accuracy: 0.644200\n",
      "Epoch  3, CIFAR-10 Batch 5:  Loss:     1.3630 Validation Accuracy: 0.648200\n",
      "Epoch  4, CIFAR-10 Batch 1:  Loss:     0.8398 Validation Accuracy: 0.648400\n",
      "Epoch  4, CIFAR-10 Batch 2:  Loss:     0.4474 Validation Accuracy: 0.656600\n",
      "Epoch  4, CIFAR-10 Batch 3:  Loss:     0.6028 Validation Accuracy: 0.649200\n",
      "Epoch  4, CIFAR-10 Batch 4:  Loss:     0.6437 Validation Accuracy: 0.672800\n",
      "Epoch  4, CIFAR-10 Batch 5:  Loss:     1.1432 Validation Accuracy: 0.675200\n",
      "Epoch  5, CIFAR-10 Batch 1:  Loss:     0.6059 Validation Accuracy: 0.665800\n",
      "Epoch  5, CIFAR-10 Batch 2:  Loss:     0.5601 Validation Accuracy: 0.679800\n",
      "Epoch  5, CIFAR-10 Batch 3:  Loss:     0.3533 Validation Accuracy: 0.670000\n",
      "Epoch  5, CIFAR-10 Batch 4:  Loss:     0.5037 Validation Accuracy: 0.672800\n",
      "Epoch  5, CIFAR-10 Batch 5:  Loss:     1.0217 Validation Accuracy: 0.676400\n",
      "Epoch  6, CIFAR-10 Batch 1:  Loss:     0.5421 Validation Accuracy: 0.672200\n",
      "Epoch  6, CIFAR-10 Batch 2:  Loss:     0.5161 Validation Accuracy: 0.684000\n",
      "Epoch  6, CIFAR-10 Batch 3:  Loss:     0.4519 Validation Accuracy: 0.691600\n",
      "Epoch  6, CIFAR-10 Batch 4:  Loss:     0.5059 Validation Accuracy: 0.695400\n",
      "Epoch  6, CIFAR-10 Batch 5:  Loss:     0.7755 Validation Accuracy: 0.685800\n",
      "Epoch  7, CIFAR-10 Batch 1:  Loss:     0.3281 Validation Accuracy: 0.685600\n",
      "Epoch  7, CIFAR-10 Batch 2:  Loss:     0.4266 Validation Accuracy: 0.688200\n",
      "Epoch  7, CIFAR-10 Batch 3:  Loss:     0.2936 Validation Accuracy: 0.694000\n",
      "Epoch  7, CIFAR-10 Batch 4:  Loss:     0.5492 Validation Accuracy: 0.696600\n",
      "Epoch  7, CIFAR-10 Batch 5:  Loss:     0.7400 Validation Accuracy: 0.705600\n",
      "Epoch  8, CIFAR-10 Batch 1:  Loss:     0.6680 Validation Accuracy: 0.690600\n",
      "Epoch  8, CIFAR-10 Batch 2:  Loss:     0.3825 Validation Accuracy: 0.701200\n",
      "Epoch  8, CIFAR-10 Batch 3:  Loss:     0.2892 Validation Accuracy: 0.702200\n",
      "Epoch  8, CIFAR-10 Batch 4:  Loss:     0.6521 Validation Accuracy: 0.691800\n",
      "Epoch  8, CIFAR-10 Batch 5:  Loss:     0.6365 Validation Accuracy: 0.706000\n",
      "Epoch  9, CIFAR-10 Batch 1:  Loss:     0.4112 Validation Accuracy: 0.694200\n",
      "Epoch  9, CIFAR-10 Batch 2:  Loss:     0.3538 Validation Accuracy: 0.706600\n",
      "Epoch  9, CIFAR-10 Batch 3:  Loss:     0.2677 Validation Accuracy: 0.699200\n",
      "Epoch  9, CIFAR-10 Batch 4:  Loss:     0.4780 Validation Accuracy: 0.712600\n",
      "Epoch  9, CIFAR-10 Batch 5:  Loss:     0.6532 Validation Accuracy: 0.707200\n",
      "Epoch 10, CIFAR-10 Batch 1:  Loss:     0.2805 Validation Accuracy: 0.690800\n",
      "Epoch 10, CIFAR-10 Batch 2:  Loss:     0.3759 Validation Accuracy: 0.701000\n",
      "Epoch 10, CIFAR-10 Batch 3:  Loss:     0.2478 Validation Accuracy: 0.708400\n",
      "Epoch 10, CIFAR-10 Batch 4:  Loss:     0.3719 Validation Accuracy: 0.708600\n",
      "Epoch 10, CIFAR-10 Batch 5:  Loss:     0.5388 Validation Accuracy: 0.712000\n",
      "Epoch 11, CIFAR-10 Batch 1:  Loss:     0.2287 Validation Accuracy: 0.696600\n",
      "Epoch 11, CIFAR-10 Batch 2:  Loss:     0.3535 Validation Accuracy: 0.693400\n",
      "Epoch 11, CIFAR-10 Batch 3:  Loss:     0.3044 Validation Accuracy: 0.712400\n",
      "Epoch 11, CIFAR-10 Batch 4:  Loss:     0.4507 Validation Accuracy: 0.710400\n",
      "Epoch 11, CIFAR-10 Batch 5:  Loss:     0.5490 Validation Accuracy: 0.709200\n",
      "Epoch 12, CIFAR-10 Batch 1:  Loss:     0.2488 Validation Accuracy: 0.702400\n",
      "Epoch 12, CIFAR-10 Batch 2:  Loss:     0.3157 Validation Accuracy: 0.715800\n",
      "Epoch 12, CIFAR-10 Batch 3:  Loss:     0.2361 Validation Accuracy: 0.722400\n",
      "Epoch 12, CIFAR-10 Batch 4:  Loss:     0.3722 Validation Accuracy: 0.728800\n",
      "Epoch 12, CIFAR-10 Batch 5:  Loss:     0.5030 Validation Accuracy: 0.714400\n",
      "Epoch 13, CIFAR-10 Batch 1:  Loss:     0.1535 Validation Accuracy: 0.721400\n",
      "Epoch 13, CIFAR-10 Batch 2:  Loss:     0.3395 Validation Accuracy: 0.717000\n",
      "Epoch 13, CIFAR-10 Batch 3:  Loss:     0.2227 Validation Accuracy: 0.726200\n",
      "Epoch 13, CIFAR-10 Batch 4:  Loss:     0.3938 Validation Accuracy: 0.718200\n",
      "Epoch 13, CIFAR-10 Batch 5:  Loss:     0.4661 Validation Accuracy: 0.723800\n",
      "Epoch 14, CIFAR-10 Batch 1:  Loss:     0.1855 Validation Accuracy: 0.724400\n",
      "Epoch 14, CIFAR-10 Batch 2:  Loss:     0.2996 Validation Accuracy: 0.729200\n",
      "Epoch 14, CIFAR-10 Batch 3:  Loss:     0.1347 Validation Accuracy: 0.729600\n",
      "Epoch 14, CIFAR-10 Batch 4:  Loss:     0.2827 Validation Accuracy: 0.715200\n",
      "Epoch 14, CIFAR-10 Batch 5:  Loss:     0.3248 Validation Accuracy: 0.725400\n",
      "Epoch 15, CIFAR-10 Batch 1:  Loss:     0.2922 Validation Accuracy: 0.710800\n",
      "Epoch 15, CIFAR-10 Batch 2:  Loss:     0.2854 Validation Accuracy: 0.723800\n",
      "Epoch 15, CIFAR-10 Batch 3:  Loss:     0.2321 Validation Accuracy: 0.736400\n",
      "Epoch 15, CIFAR-10 Batch 4:  Loss:     0.4098 Validation Accuracy: 0.725600\n",
      "Epoch 15, CIFAR-10 Batch 5:  Loss:     0.3742 Validation Accuracy: 0.731800\n",
      "Epoch 16, CIFAR-10 Batch 1:  Loss:     0.2746 Validation Accuracy: 0.724400\n",
      "Epoch 16, CIFAR-10 Batch 2:  Loss:     0.3343 Validation Accuracy: 0.723200\n",
      "Epoch 16, CIFAR-10 Batch 3:  Loss:     0.1908 Validation Accuracy: 0.722200\n",
      "Epoch 16, CIFAR-10 Batch 4:  Loss:     0.1977 Validation Accuracy: 0.729200\n",
      "Epoch 16, CIFAR-10 Batch 5:  Loss:     0.3408 Validation Accuracy: 0.723400\n",
      "Epoch 17, CIFAR-10 Batch 1:  Loss:     0.1388 Validation Accuracy: 0.717600\n",
      "Epoch 17, CIFAR-10 Batch 2:  Loss:     0.4509 Validation Accuracy: 0.722200\n",
      "Epoch 17, CIFAR-10 Batch 3:  Loss:     0.1511 Validation Accuracy: 0.727400\n",
      "Epoch 17, CIFAR-10 Batch 4:  Loss:     0.2231 Validation Accuracy: 0.710800\n",
      "Epoch 17, CIFAR-10 Batch 5:  Loss:     0.3478 Validation Accuracy: 0.707000\n",
      "Epoch 18, CIFAR-10 Batch 1:  Loss:     0.2377 Validation Accuracy: 0.723600\n",
      "Epoch 18, CIFAR-10 Batch 2:  Loss:     0.2869 Validation Accuracy: 0.716200\n",
      "Epoch 18, CIFAR-10 Batch 3:  Loss:     0.3234 Validation Accuracy: 0.737400\n",
      "Epoch 18, CIFAR-10 Batch 4:  Loss:     0.1641 Validation Accuracy: 0.729400\n",
      "Epoch 18, CIFAR-10 Batch 5:  Loss:     0.3927 Validation Accuracy: 0.736800\n",
      "Epoch 19, CIFAR-10 Batch 1:  Loss:     0.1665 Validation Accuracy: 0.724200\n",
      "Epoch 19, CIFAR-10 Batch 2:  Loss:     0.2117 Validation Accuracy: 0.732000\n",
      "Epoch 19, CIFAR-10 Batch 3:  Loss:     0.2887 Validation Accuracy: 0.725400\n",
      "Epoch 19, CIFAR-10 Batch 4:  Loss:     0.2441 Validation Accuracy: 0.723400\n",
      "Epoch 19, CIFAR-10 Batch 5:  Loss:     0.5378 Validation Accuracy: 0.734600\n",
      "Epoch 20, CIFAR-10 Batch 1:  Loss:     0.1410 Validation Accuracy: 0.727000\n",
      "Epoch 20, CIFAR-10 Batch 2:  Loss:     0.2253 Validation Accuracy: 0.729000\n",
      "Epoch 20, CIFAR-10 Batch 3:  Loss:     0.1777 Validation Accuracy: 0.733000\n",
      "Epoch 20, CIFAR-10 Batch 4:  Loss:     0.2156 Validation Accuracy: 0.733000\n",
      "Epoch 20, CIFAR-10 Batch 5:  Loss:     0.5223 Validation Accuracy: 0.730800\n",
      "Epoch 21, CIFAR-10 Batch 1:  Loss:     0.1978 Validation Accuracy: 0.717200\n",
      "Epoch 21, CIFAR-10 Batch 2:  Loss:     0.4535 Validation Accuracy: 0.732800\n",
      "Epoch 21, CIFAR-10 Batch 3:  Loss:     0.1828 Validation Accuracy: 0.732400\n",
      "Epoch 21, CIFAR-10 Batch 4:  Loss:     0.2674 Validation Accuracy: 0.734200\n",
      "Epoch 21, CIFAR-10 Batch 5:  Loss:     0.3772 Validation Accuracy: 0.735600\n",
      "Epoch 22, CIFAR-10 Batch 1:  Loss:     0.0902 Validation Accuracy: 0.728200\n",
      "Epoch 22, CIFAR-10 Batch 2:  Loss:     0.3262 Validation Accuracy: 0.734400\n",
      "Epoch 22, CIFAR-10 Batch 3:  Loss:     0.1549 Validation Accuracy: 0.734000\n",
      "Epoch 22, CIFAR-10 Batch 4:  Loss:     0.2517 Validation Accuracy: 0.736600\n",
      "Epoch 22, CIFAR-10 Batch 5:  Loss:     0.4642 Validation Accuracy: 0.740200\n",
      "Epoch 23, CIFAR-10 Batch 1:  Loss:     0.1004 Validation Accuracy: 0.734400\n",
      "Epoch 23, CIFAR-10 Batch 2:  Loss:     0.1787 Validation Accuracy: 0.724400\n",
      "Epoch 23, CIFAR-10 Batch 3:  Loss:     0.1308 Validation Accuracy: 0.734400\n",
      "Epoch 23, CIFAR-10 Batch 4:  Loss:     0.2887 Validation Accuracy: 0.728200\n",
      "Epoch 23, CIFAR-10 Batch 5:  Loss:     0.4507 Validation Accuracy: 0.739200\n",
      "Epoch 24, CIFAR-10 Batch 1:  Loss:     0.1094 Validation Accuracy: 0.729600\n",
      "Epoch 24, CIFAR-10 Batch 2:  Loss:     0.1932 Validation Accuracy: 0.742400\n",
      "Epoch 24, CIFAR-10 Batch 3:  Loss:     0.1009 Validation Accuracy: 0.743000\n",
      "Epoch 24, CIFAR-10 Batch 4:  Loss:     0.5836 Validation Accuracy: 0.725800\n",
      "Epoch 24, CIFAR-10 Batch 5:  Loss:     0.3576 Validation Accuracy: 0.734800\n",
      "Epoch 25, CIFAR-10 Batch 1:  Loss:     0.2163 Validation Accuracy: 0.735600\n",
      "Epoch 25, CIFAR-10 Batch 2:  Loss:     0.2028 Validation Accuracy: 0.727200\n",
      "Epoch 25, CIFAR-10 Batch 3:  Loss:     0.0864 Validation Accuracy: 0.732200\n",
      "Epoch 25, CIFAR-10 Batch 4:  Loss:     0.2673 Validation Accuracy: 0.736600\n",
      "Epoch 25, CIFAR-10 Batch 5:  Loss:     0.4013 Validation Accuracy: 0.731400\n",
      "Epoch 26, CIFAR-10 Batch 1:  Loss:     0.2408 Validation Accuracy: 0.737600\n",
      "Epoch 26, CIFAR-10 Batch 2:  Loss:     0.1840 Validation Accuracy: 0.726400\n",
      "Epoch 26, CIFAR-10 Batch 3:  Loss:     0.1009 Validation Accuracy: 0.733400\n",
      "Epoch 26, CIFAR-10 Batch 4:  Loss:     0.2232 Validation Accuracy: 0.739800\n",
      "Epoch 26, CIFAR-10 Batch 5:  Loss:     0.3919 Validation Accuracy: 0.734600\n",
      "Epoch 27, CIFAR-10 Batch 1:  Loss:     0.1284 Validation Accuracy: 0.717000\n",
      "Epoch 27, CIFAR-10 Batch 2:  Loss:     0.1547 Validation Accuracy: 0.734800\n",
      "Epoch 27, CIFAR-10 Batch 3:  Loss:     0.1171 Validation Accuracy: 0.735200\n",
      "Epoch 27, CIFAR-10 Batch 4:  Loss:     0.2170 Validation Accuracy: 0.734200\n",
      "Epoch 27, CIFAR-10 Batch 5:  Loss:     0.5190 Validation Accuracy: 0.735600\n",
      "Epoch 28, CIFAR-10 Batch 1:  Loss:     0.0995 Validation Accuracy: 0.732400\n",
      "Epoch 28, CIFAR-10 Batch 2:  Loss:     0.2859 Validation Accuracy: 0.734200\n",
      "Epoch 28, CIFAR-10 Batch 3:  Loss:     0.1682 Validation Accuracy: 0.741800\n",
      "Epoch 28, CIFAR-10 Batch 4:  Loss:     0.2640 Validation Accuracy: 0.732400\n",
      "Epoch 28, CIFAR-10 Batch 5:  Loss:     0.3034 Validation Accuracy: 0.740200\n",
      "Epoch 29, CIFAR-10 Batch 1:  Loss:     0.1018 Validation Accuracy: 0.728400\n",
      "Epoch 29, CIFAR-10 Batch 2:  Loss:     0.1627 Validation Accuracy: 0.737000\n",
      "Epoch 29, CIFAR-10 Batch 3:  Loss:     0.1890 Validation Accuracy: 0.735600\n",
      "Epoch 29, CIFAR-10 Batch 4:  Loss:     0.2714 Validation Accuracy: 0.741800\n",
      "Epoch 29, CIFAR-10 Batch 5:  Loss:     0.2907 Validation Accuracy: 0.732400\n",
      "Epoch 30, CIFAR-10 Batch 1:  Loss:     0.0847 Validation Accuracy: 0.732200\n",
      "Epoch 30, CIFAR-10 Batch 2:  Loss:     0.3009 Validation Accuracy: 0.739800\n",
      "Epoch 30, CIFAR-10 Batch 3:  Loss:     0.2196 Validation Accuracy: 0.728800\n",
      "Epoch 30, CIFAR-10 Batch 4:  Loss:     0.2178 Validation Accuracy: 0.741600\n",
      "Epoch 30, CIFAR-10 Batch 5:  Loss:     0.3939 Validation Accuracy: 0.737400\n"
     ]
    }
   ],
   "source": [
    "\"\"\"\n",
    "DON'T MODIFY ANYTHING IN THIS CELL\n",
    "\"\"\"\n",
    "save_model_path = './image_classification'\n",
    "\n",
    "print('Training...')\n",
    "with tf.Session() as sess:\n",
    "    # Initializing the variables\n",
    "    sess.run(tf.global_variables_initializer())\n",
    "    \n",
    "    # Training cycle\n",
    "    for epoch in range(epochs):\n",
    "        # Loop over all batches\n",
    "        n_batches = 5\n",
    "        for batch_i in range(1, n_batches + 1):\n",
    "            for batch_features, batch_labels in helper.load_preprocess_training_batch(batch_i, batch_size):\n",
    "                train_neural_network(sess, optimizer, keep_probability, batch_features, batch_labels)\n",
    "            print('Epoch {:>2}, CIFAR-10 Batch {}:  '.format(epoch + 1, batch_i), end='')\n",
    "            print_stats(sess, batch_features, batch_labels, cost, accuracy)\n",
    "            \n",
    "    # Save Model\n",
    "    saver = tf.train.Saver()\n",
    "    save_path = saver.save(sess, save_model_path)"
   ]
  },
  {
   "cell_type": "markdown",
   "metadata": {
    "deletable": true,
    "editable": true
   },
   "source": [
    "# Checkpoint\n",
    "The model has been saved to disk.\n",
    "## Test Model\n",
    "Test your model against the test dataset.  This will be your final accuracy. You should have an accuracy greater than 50%. If you don't, keep tweaking the model architecture and parameters."
   ]
  },
  {
   "cell_type": "code",
   "execution_count": 124,
   "metadata": {
    "collapsed": false,
    "deletable": true,
    "editable": true
   },
   "outputs": [
    {
     "name": "stdout",
     "output_type": "stream",
     "text": [
      "Testing Accuracy: 0.7349241214057508\n",
      "\n"
     ]
    },
    {
     "data": {
      "image/png": "[encoded data removed]",
      "text/plain": [
       "<matplotlib.figure.Figure at 0x7fc536bf3f28>"
      ]
     },
     "metadata": {
      "image/png": {
       "height": 319,
       "width": 355
      }
     },
     "output_type": "display_data"
    }
   ],
   "source": [
    "\"\"\"\n",
    "DON'T MODIFY ANYTHING IN THIS CELL\n",
    "\"\"\"\n",
    "%matplotlib inline\n",
    "%config InlineBackend.figure_format = 'retina'\n",
    "\n",
    "import tensorflow as tf\n",
    "import pickle\n",
    "import helper\n",
    "import random\n",
    "\n",
    "# Set batch size if not already set\n",
    "try:\n",
    "    if batch_size:\n",
    "        pass\n",
    "except NameError:\n",
    "    batch_size = 64\n",
    "\n",
    "save_model_path = './image_classification'\n",
    "n_samples = 4\n",
    "top_n_predictions = 3\n",
    "\n",
    "def test_model():\n",
    "    \"\"\"\n",
    "    Test the saved model against the test dataset\n",
    "    \"\"\"\n",
    "\n",
    "    test_features, test_labels = pickle.load(open('preprocess_training.p', mode='rb'))\n",
    "    loaded_graph = tf.Graph()\n",
    "\n",
    "    with tf.Session(graph=loaded_graph) as sess:\n",
    "        # Load model\n",
    "        loader = tf.train.import_meta_graph(save_model_path + '.meta')\n",
    "        loader.restore(sess, save_model_path)\n",
    "\n",
    "        # Get Tensors from loaded model\n",
    "        loaded_x = loaded_graph.get_tensor_by_name('x:0')\n",
    "        loaded_y = loaded_graph.get_tensor_by_name('y:0')\n",
    "        loaded_keep_prob = loaded_graph.get_tensor_by_name('keep_prob:0')\n",
    "        loaded_logits = loaded_graph.get_tensor_by_name('logits:0')\n",
    "        loaded_acc = loaded_graph.get_tensor_by_name('accuracy:0')\n",
    "        \n",
    "        # Get accuracy in batches for memory limitations\n",
    "        test_batch_acc_total = 0\n",
    "        test_batch_count = 0\n",
    "        \n",
    "        for train_feature_batch, train_label_batch in helper.batch_features_labels(test_features, test_labels, batch_size):\n",
    "            test_batch_acc_total += sess.run(\n",
    "                loaded_acc,\n",
    "                feed_dict={loaded_x: train_feature_batch, loaded_y: train_label_batch, loaded_keep_prob: 1.0})\n",
    "            test_batch_count += 1\n",
    "\n",
    "        print('Testing Accuracy: {}\\n'.format(test_batch_acc_total/test_batch_count))\n",
    "\n",
    "        # Print Random Samples\n",
    "        random_test_features, random_test_labels = tuple(zip(*random.sample(list(zip(test_features, test_labels)), n_samples)))\n",
    "        random_test_predictions = sess.run(\n",
    "            tf.nn.top_k(tf.nn.softmax(loaded_logits), top_n_predictions),\n",
    "            feed_dict={loaded_x: random_test_features, loaded_y: random_test_labels, loaded_keep_prob: 1.0})\n",
    "        helper.display_image_predictions(random_test_features, random_test_labels, random_test_predictions)\n",
    "\n",
    "\n",
    "test_model()"
   ]
  },
  {
   "cell_type": "markdown",
   "metadata": {
    "deletable": true,
    "editable": true
   },
   "source": [
    "## Why 50-80% Accuracy?\n",
    "You might be wondering why you can't get an accuracy any higher. First things first, 50% isn't bad for a simple CNN.  Pure guessing would get you 10% accuracy. However, you might notice people are getting scores [well above 80%](http://rodrigob.github.io/are_we_there_yet/build/classification_datasets_results.html#43494641522d3130).  That's because we haven't taught you all there is to know about neural networks. We still need to cover a few more techniques.\n",
    "## Submitting This Project\n",
    "When submitting this project, make sure to run all the cells before saving the notebook.  Save the notebook file as \"dlnd_image_classification.ipynb\" and save it as a HTML file under \"File\" -> \"Download as\".  Include the \"helper.py\" and \"problem_unittests.py\" files in your submission."
   ]
  },
  {
   "cell_type": "code",
   "execution_count": null,
   "metadata": {
    "collapsed": true,
    "deletable": true,
    "editable": true
   },
   "outputs": [],
   "source": []
  },
  {
   "cell_type": "code",
   "execution_count": null,
   "metadata": {
    "collapsed": true,
    "deletable": true,
    "editable": true
   },
   "outputs": [],
   "source": []
  },
  {
   "cell_type": "code",
   "execution_count": null,
   "metadata": {
    "collapsed": true,
    "deletable": true,
    "editable": true
   },
   "outputs": [],
   "source": []
  },
  {
   "cell_type": "markdown",
   "metadata": {
    "deletable": true,
    "editable": true
   },
   "source": [
    "# Notes 2 Self\n",
    "CIFAR-10 has 60k 32x32x3 images.  Each training batch file has 10k images, which lies between 2<sup>13</sup> and 2<sup>14</sup>.\n",
    "\n",
    "### Batch Size\n",
    "Generally seems like the smaller my batch size, the better the validation accuracy...but only up to a point. For example, a batch size of 4 seems to perform terribly (stuck around 0.1), and though a batch size of 8 seem to climb, it does so slowly and with deceleration, eventually stagnating in a suboptimal region of the parameter space.  A batch size of 16 sometimes works pretty well, other times not so much.  Seems like somewhere in the range of 32-64 is an optimal batch size. However, this can make the training time extremely long if the network has too many weights to learn.\n",
    "\n",
    "So I Googled it and came to this [StackExchange](http://stats.stackexchange.com/questions/164876/tradeoff-batch-size-vs-number-of-iterations-to-train-a-neural-network) w/ this quote:\n",
    "\n",
    "\"The stochastic gradient descent method and its variants are algorithms of choice for many Deep Learning tasks. These methods operate in a small-batch regime wherein a fraction of the training data, usually 32--512 data points, is sampled to compute an approximation to the gradient. It has been observed in practice that when using a larger batch there is a significant degradation in the quality of the model, as measured by its ability to generalize. There have been some attempts to investigate the cause for this generalization drop in the large-batch regime, however the precise answer for this phenomenon is, hitherto unknown. In this paper, we present ample numerical evidence that supports the view that large-batch methods tend to converge to sharp minimizers of the training and testing functions -- and that sharp minima lead to poorer generalization. In contrast, small-batch methods consistently converge to flat minimizers, and our experiments support a commonly held view that this is due to the inherent noise in the gradient estimation. We also discuss several empirical strategies that help large-batch methods eliminate the generalization gap and conclude with a set of future research ideas and open questions.\"\n",
    "\n",
    "### Sensitivity of Initialization \n",
    "My model was performing terribly for a while, and it wasn't only because my AWS g2.2xlarge instanced hadn't been approved of by Amazon yet.  No matter what I did, my model was as good as a guess (10%) or worse!\n",
    "\n",
    "What the heck could be going on?  Turned out that my parameter initializations were too big.  After setting the stddev in my truncated_normal() expression to 0.1 things began to sky rocket...sort of.  Things actually became frustrating for a while:  though I was doing much better than a guess, it seemed no matter what I tried, my net would get stuck just under 0.5 validation accuracy. I tweaked and re-tweaked my convolutional layers, added more dense layers, removed layers, and even create the \"inflate function\" above so that I could toggle between convolutional and dense layers... But nothing.  Still under 0.5\n",
    "\n",
    "Solution? You guessed it: tweaked my initializations again and made them even smaller (0.01).  Things seemed better: I would occasionally fluctuate above 0.5, but only to drop again to somewhere just a nudge below.  Should I go smaller? Nope: 0.001 seemed to make things worse.  \n",
    "\n",
    "Ultimately, after a lot of reading, I set it to sqrt(2.0/n_features), which seems to be fairly common.  The initializations need to take on slightly different scales depending on the specifics going into the layer. For a convolutional layer, I presume this amounts to (filter area) x (input depth).   \n",
    "\n",
    "For example, for my first convolutional layer I use 5x5 filter over a 3-channel image, which means that the convolutional layer sees 5x5x3=75 incoming features.  This corresponds to stdev = sqrt(2.0/75) = 0.16.  However, if I choose an output depth of 16 on this layer, and a 7x7 filter on my next convolutional layer, then this layer sees an equivalent of 7x7x16=784 incoming features, which suggests an initialization of stedev = sqrt(2.0/784) = 0.05.\n",
    "\n",
    "\n",
    "### Keep Probability\n",
    "Seems that a KP of 0.5 has a low start (~0.1), but asteady, consistent growth in validation accuracy.  In contrast, a KP of 0.75 starts out with a validation accuaracy that is much higher (~0.3) and grows quickly at first, but then slows down quite a bit.  Given 50 epochs, both seem to perform about the same... A KP of 0.25 performs much worse, stagnating at no better than a guess.\n",
    "\n",
    "### Fully Connected Layers:  Wide, Narrow, Few, Many\n",
    "On my intial designs, I found that one really wide FCL will get your pretty far, pretty fast---then stagnate.  The best I could seem to do was a 0.5 validation accuracy.  If you keep it wide and add a second FCL, your net is basically doomed: learning becomes damn near impossible.  However, if you instead use two fairly narrow FCLs, then you get about the same performance as the one really wide FCL... In fact, the more I've experimented the more it seems like you really have to make that first FC Layer after the last conv layer pretty damn narrow; otherwise there are way too many weights to learn.\n",
    "\n",
    "Later on, I realized my biggest bottleneck was poorly designing the convolutional layers.  In fact, it seems a good design at the convolution stage dictates your model performances almost exclusively.  See section investigating whether or not FC Layers really help all that much.\n",
    "\n",
    "### Drop Out on the Visible Layer\n",
    "Apparently in the original paper, this was recommended.  I've implemented it...seems to work a little, but not much. Requires more epochs, likely because it's equivalent to discarding input data altogether...\n",
    "Some [useful tips](http://machinelearningmastery.com/dropout-regularization-deep-learning-models-keras/).\n",
    "\n",
    "\n",
    "### Drop Out on the Fully-Connected Layer\n",
    "This can be helpful, however there are definitely some precautions to take --- especially if you don't have a GPU, which was my issue for about a week!  For example, if you're using a global keep_prob of 0.5, and you apply drop out to the transition between the lasty convolutional layer and the first fully-connected layer you will need many, many epochs to see good results.  This is why I re-designed my layer functions to have keep_prob as an input parameter: it seemed necessary to allow the keep_prob to differ between that applied to the convolutional layers and that applied to the fully-connected layers. This gave a good compromise between the benefits of drop out on a FC layer and the run time required to get the validation accuaracy high up. However, it is only a part of the story.\n",
    "\n",
    "What I ultimately found is that the issue (aside from no GPU!) really has to do with that transition layer between the last convolutional layer and first fully-connected layer.  This transition can have a lot of weights, which can already demand quite some epochs in order to properly learn.  A drop out only adds to this, demanding even more epochs achieve desirable results (even with a keep_prob as  relaxed as 0.9).  I found that, timewise, it can be better to forgo dropout at this transition.  If one has two FC layers, then dropout can be applied between these two layers with less burned on the learning task. However, the first observation still applies:  (i) each time drop out is applied at a layer, it's likely one will require more epochs to successfully train the model; (ii) the more weights one drops per drop out, the more epochs one will likely need.  To balance drop out and number of epochs, one can play around with locally assigning different keep_probs to each transition layer, or one might choose a higher \"global\" keep_prob to apply to all layers. \n",
    "\n",
    "\n",
    "That all said, if all you care about it quickly getting the validation accuracy above 0.5, then taking out the second FC layer does dramatically more to improve the model's performance (e.g., it took 7 epochs on my final model w/o 2nd FCL). However, after getting above 0.50, it hangs around there for quite a while (still near 0.57 after 50 epochs).  \n",
    "\n",
    "This is slightly improved by applying drop out at each layer, but it seems like if you want to get higher than 0.60, you really might need the 2nd FCL.\n",
    "\n",
    "UPDATE:  Once my GPU was working on Amazon again, none of this really mattered!  The true lesson learned, then, is that your hardware can be your biggest bottleneck.  Improve your hardware, and you can explore more optimal regions of the parameter space.\n",
    "\n",
    "Another note:  Small batch sizes still apply.  It is amazing how much quicker (in terms of epoch) a batch size of 32 does than, say, a batch size of 128.  Heck, I even found that 32 performs exceptionally better than a batch size of 50 on my final model.\n",
    "\n",
    "### Are Fully-Connected Layers Worth It?\n",
    "My project is already pretty damn late, so even after designing several networks scoring 0.72 to 0.73 on validation and test I wasn't happy.  That's too close to 0.8, and way too close when your project's late anyway!\n",
    "\n",
    "The fully-connected layers bothered me during the various experimental phases I've gone through.  When I tweak a convolutional layer in a dramatic way, usually there is a noticeable effect on validation accuaracy.  But I found you can change quite a lot in the fully-connected portion of the graph (e.g., add or subtract a layer, use drop out or not) and maintain fairly similar results.\n",
    "\n",
    "Take the following design:  \n",
    "\n",
    "<center> 32x32x3 -> 16x16x25 -> 8x8x50 -> 8x8x100 = 6400 -> 50 </center>\n",
    "\n",
    "| Conv Layer | Outputs | Filter Size | Filter Stride | Pool Size | Pool Stride | Activation | Keep Prob |\n",
    "|------------|---------|-------------|---------------|-----------|-------------|------------|-----------|\n",
    "| CL1 | 25  | (5,5) | (1,1) | (2,2) | (2,2) | relu | 0.5 |\n",
    "| CL2 | 50  | (7,7) | (1,1) | (2,2) | (2,2) | relu | 0.5 |\n",
    "| CL3 | 100 | (3,3) | (1,1) | (1,1) | (1,1) | relu | 0.5 |\n",
    "\n",
    "| FC Layer | Outputs | Activation | Keep Prob |\n",
    "|----------|---------|------------|-----------|\n",
    "| FC1      | 50      | relu       | 0.5       |\n",
    "\n",
    "With the FC Layer, 50 epochs on one CIFAR batch w/ sub-batch size of 32 gives a validation accuracy of 0.553, and 0.639 without the layer.  Worse, if you use 10, 20, 30, or 40 outputs, the model gets stuck at a guess (0.105). If you use 100 outputs, you get back up to 0.607.  It is difficult to say if this would perform better or worse than the FCL-free model given more training.  200 outputs gets up to 0.610. 400 outputs, 0.630.\n",
    "\n",
    "Adding a second FC Layer just kills the performance, at least at 50 epochs.  I played around with this convolution design and a bunch of double FC-layer variations, and all reduced validation accuracy quite a bit.  This might be a case where better hardware and more waiting time improves things, but more than 50 epochs on the full CIFAR set gets pretty damn annoying to experiment with.\n",
    "\n",
    "\n",
    "\n",
    "    "
   ]
  },
  {
   "cell_type": "markdown",
   "metadata": {
    "collapsed": true,
    "deletable": true,
    "editable": true
   },
   "source": [
    "==========================================================================================\n",
    "\n",
    "At one point I swear my GPU stopped working... I wait for like 30 - 60 minutes per run.  It's terrible.\n",
    "\n",
    "### Some miscellaneous Nvidia-related files and directories I found:\n",
    "* nvidia-375 directory installed in /lib:  contains modprobe.conf\n",
    "* Tons of other nvidia files in /usr/bin:  nvidia-{bug-report.sh, cuda-mp-control, cuda-mps-server, debugdump, modprobe, persistencd, settings, smi, xconfig}\n",
    "* /usr/include/nvidia-375\n",
    "* /usr/lib/{nvidia, nvidia-367, nvidia-375, nvidia-375-prime}\n",
    "* /usr/lib32/libvdpau_nvidia.so, nvidia-367, nvidia-375} ...\n",
    "* /usr/local/cuda\n",
    "\n",
    "### How to get CPU/GPU info:\n",
    "* CPU Info:  cat /proc/cpuinfo:  Intel Xeon CPU E5-2650 (64-bit, 2.6 GHz)\n",
    "* GPU Info:  lspci -v:  Looks like it's a Nvidia GK104GL [Grid K520]\n",
    "* Apparently Nvidia GPU info is supposed to be held in /proc/driver/nvidia... But /proc/driver has no \"nvidia\" file or directory on my Udacity AMI...  [source](http://askubuntu.com/questions/5417/how-to-get-gpu-info)\n",
    "* Also, to get info about my Nvidia GPU, I should be able to type \"nvidia-smi\" at the command line. Instead I see \"NVIDIA-SMI has failed because it couldn't communicate with the NVIDIA driver. Make sure that the latest NVIDIA driver is installed and running.\"\n",
    "\n",
    "dpkg -l | grep nvidia <br/>\n",
    "ii  nvidia-367                  375.39-0ubuntu0.16 amd64              Transitional package for nvidia-375 <br/>\n",
    "ii  nvidia-367-dev              375.39-0ubuntu0.16 amd64              Transitional package for nvidia-375-dev <br/>\n",
    "ii  nvidia-375                  375.39-0ubuntu0.16 amd64              NVIDIA binary driver - version 375.39 <br/>\n",
    "ii  nvidia-375-dev              375.39-0ubuntu0.16 amd64              NVIDIA binary Xorg driver development files <br/>\n",
    "ii  nvidia-modprobe             367.48-0ubuntu1    amd64              Load the NVIDIA kernel driver and create device files <br/>\n",
    "ii  nvidia-opencl-icd-367       375.39-0ubuntu0.16 amd64              Transitional package for nvidia-opencl-icd-375 <br/>\n",
    "ii  nvidia-opencl-icd-375       375.39-0ubuntu0.16 amd64              NVIDIA OpenCL ICD <br/>\n",
    "ii  nvidia-prime                0.8.2              amd64              Tools to enable NVIDIA's Prime <br/>\n",
    "ii  nvidia-settings             367.48-0ubuntu1    amd64              Tool for configuring the NVIDIA graphics driver\n",
    "\n",
    "### Uninstalling/Reinstalling Nvidia stuff..\n",
    "Trying to run nvidia-smi led me to some helpful info [here](https://devtalk.nvidia.com/default/topic/1000340/cuda-setup-and-installation/-quot-nvidia-smi-has-failed-because-it-couldn-t-communicate-with-the-nvidia-driver-quot-ubuntu-16-04/) and [here](http://jackmorrison.me/2014/09/11/CUDA-on-AWS.html).\n",
    "\n",
    "\n",
    "I had a similar result to the OP [here](https://devtalk.nvidia.com/default/topic/1000340/cuda-setup-and-installation/-quot-nvidia-smi-has-failed-because-it-couldn-t-communicate-with-the-nvidia-driver-quot-ubuntu-16-04/) when I typed this command:\n",
    "dpkg -l | grep nvidia <br/>\n",
    "ii  nvidia-367                  375.39-0ubuntu0.16 amd64              Transitional package for nvidia-375 <br/>\n",
    "ii  nvidia-367-dev              375.39-0ubuntu0.16 amd64              Transitional package for nvidia-375-dev <br/>\n",
    "ii  nvidia-375                  375.39-0ubuntu0.16 amd64              NVIDIA binary driver - version 375.39 <br/>\n",
    "ii  nvidia-375-dev              375.39-0ubuntu0.16 amd64              NVIDIA binary Xorg driver development files <br/>\n",
    "ii  nvidia-modprobe             367.48-0ubuntu1    amd64              Load the NVIDIA kernel driver and create device files <br/>\n",
    "ii  nvidia-opencl-icd-367       375.39-0ubuntu0.16 amd64              Transitional package for nvidia-opencl-icd-375 <br/>\n",
    "ii  nvidia-opencl-icd-375       375.39-0ubuntu0.16 amd64              NVIDIA OpenCL ICD <br/>\n",
    "ii  nvidia-prime                0.8.2              amd64              Tools to enable NVIDIA's Prime <br/>\n",
    "ii  nvidia-settings             367.48-0ubuntu1    amd64              Tool for configuring the NVIDIA graphics driver\n",
    "\n",
    "The advice given:\n",
    "\"You seem to have a mix of driver components from several different drivers. This is a broken config.  Follow the steps in the [cuda linux install guide](http://docs.nvidia.com/cuda/cuda-installation-guide-linux/index.html#handle-uninstallation) to remove every last scrap of NVIDIA software from your machine.  Then stop, and read the above linked guide in its entirety.  Then pick either the runfile install method, or the package manager install method, and follow the instructions.\"\n",
    "\n",
    "---------------------------------\n",
    "\n",
    "If/when I remove all the Nvidia software, here are [some simple steps](http://jackmorrison.me/2014/09/11/CUDA-on-AWS.html) I might try first.\n",
    "\n",
    "I already figured out the GPU, but to follow the directions step-by-step I did it again a different way:\n",
    "1. DL'd ubuntu-drivers:  sudo apt install ubuntu-drivers-common\n",
    "2. sudo ubuntu-drivers devices\n",
    "\n",
    "```{code}\n",
    "== /sys/devices/pci0000:00/0000:00:03.0 ==\n",
    "modalias : pci:v000010DEd0000118Asv000010DEsd00001014bc03sc00i00\n",
    "vendor   : NVIDIA Corporation\n",
    "model    : GK104GL [GRID K520]\n",
    "driver   : xserver-xorg-video-nouveau - distro free builtin\n",
    "driver   : nvidia-340 - distro non-free recommended\n",
    "\n",
    "== cpu-microcode.py ==\n",
    "driver   : intel-microcode - distro non-free\n",
    "```\n",
    "\n",
    "To figure out what drivers are needed, the OS must be known:\n",
    "```{bash}\n",
    "uname -a\n",
    "Linux ip-172-31-69-77 4.4.0-66-generic #87-Ubuntu SMP Fri Mar 3 15:29:05 UTC 2017 x86_64 x86_64 x86_64 GNU/Linux\n",
    "\n",
    "cat /etc/*release*\n",
    "DISTRIB_ID=Ubuntu\n",
    "DISTRIB_RELEASE=16.04\n",
    "DISTRIB_CODENAME=xenial\n",
    "DISTRIB_DESCRIPTION=\"Ubuntu 16.04.1 LTS\"\n",
    "NAME=\"Ubuntu\"\n",
    "VERSION=\"16.04.1 LTS (Xenial Xerus)\"\n",
    "ID=ubuntu\n",
    "ID_LIKE=debian\n",
    "PRETTY_NAME=\"Ubuntu 16.04.1 LTS\"\n",
    "VERSION_ID=\"16.04\"\n",
    "HOME_URL=\"http://www.ubuntu.com/\"\n",
    "SUPPORT_URL=\"http://help.ubuntu.com/\"\n",
    "BUG_REPORT_URL=\"http://bugs.launchpad.net/ubuntu/\"\n",
    "VERSION_CODENAME=xenial\n",
    "UBUNTU_CODENAME=xenial\n",
    "```\n",
    "\n",
    "I think all that corresponds to these drivers: <br/>\n",
    "http://www.nvidia.com/download/driverResults.aspx/108586/en-us"
   ]
  },
  {
   "cell_type": "code",
   "execution_count": null,
   "metadata": {
    "collapsed": true,
    "deletable": true,
    "editable": true
   },
   "outputs": [],
   "source": []
  }
 ],
 "metadata": {
  "anaconda-cloud": {},
  "kernelspec": {
   "display_name": "Python 3",
   "language": "python",
   "name": "python3"
  },
  "language_info": {
   "codemirror_mode": {
    "name": "ipython",
    "version": 3
   },
   "file_extension": ".py",
   "mimetype": "text/x-python",
   "name": "python",
   "nbconvert_exporter": "python",
   "pygments_lexer": "ipython3",
   "version": "3.5.2"
  },
  "widgets": {
   "state": {},
   "version": "1.1.2"
  }
 },
 "nbformat": 4,
 "nbformat_minor": 0
}
