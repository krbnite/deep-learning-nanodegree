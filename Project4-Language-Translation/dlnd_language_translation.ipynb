{
 "cells": [
  {
   "cell_type": "markdown",
   "metadata": {
    "collapsed": true,
    "deletable": true,
    "editable": true
   },
   "source": [
    "# Language Translation\n",
    "In this project, you’re going to take a peek into the realm of neural network machine translation.  You’ll be training a sequence to sequence model on a dataset of English and French sentences that can translate new sentences from English to French.\n",
    "## Get the Data\n",
    "Since translating the whole language of English to French will take lots of time to train, we have provided you with a small portion of the English corpus."
   ]
  },
  {
   "cell_type": "code",
   "execution_count": 18,
   "metadata": {
    "collapsed": false,
    "deletable": true,
    "editable": true
   },
   "outputs": [],
   "source": [
    "\"\"\"\n",
    "DON'T MODIFY ANYTHING IN THIS CELL\n",
    "\"\"\"\n",
    "import helper\n",
    "import problem_unittests as tests\n",
    "\n",
    "source_path = 'data/small_vocab_en'\n",
    "target_path = 'data/small_vocab_fr'\n",
    "source_text = helper.load_data(source_path)\n",
    "target_text = helper.load_data(target_path)"
   ]
  },
  {
   "cell_type": "markdown",
   "metadata": {
    "deletable": true,
    "editable": true
   },
   "source": [
    "## Explore the Data\n",
    "Play around with view_sentence_range to view different parts of the data."
   ]
  },
  {
   "cell_type": "code",
   "execution_count": 2,
   "metadata": {
    "collapsed": false,
    "deletable": true,
    "editable": true
   },
   "outputs": [
    {
     "name": "stdout",
     "output_type": "stream",
     "text": [
      "Dataset Stats\n",
      "Roughly the number of unique words: 227\n",
      "Number of sentences: 137861\n",
      "Average number of words in a sentence: 13.225277634719028\n",
      "\n",
      "English sentences 0 to 10:\n",
      "new jersey is sometimes quiet during autumn , and it is snowy in april .\n",
      "the united states is usually chilly during july , and it is usually freezing in november .\n",
      "california is usually quiet during march , and it is usually hot in june .\n",
      "the united states is sometimes mild during june , and it is cold in september .\n",
      "your least liked fruit is the grape , but my least liked is the apple .\n",
      "his favorite fruit is the orange , but my favorite is the grape .\n",
      "paris is relaxing during december , but it is usually chilly in july .\n",
      "new jersey is busy during spring , and it is never hot in march .\n",
      "our least liked fruit is the lemon , but my least liked is the grape .\n",
      "the united states is sometimes busy during january , and it is sometimes warm in november .\n",
      "\n",
      "French sentences 0 to 10:\n",
      "new jersey est parfois calme pendant l' automne , et il est neigeux en avril .\n",
      "les états-unis est généralement froid en juillet , et il gèle habituellement en novembre .\n",
      "california est généralement calme en mars , et il est généralement chaud en juin .\n",
      "les états-unis est parfois légère en juin , et il fait froid en septembre .\n",
      "votre moins aimé fruit est le raisin , mais mon moins aimé est la pomme .\n",
      "son fruit préféré est l'orange , mais mon préféré est le raisin .\n",
      "paris est relaxant en décembre , mais il est généralement froid en juillet .\n",
      "new jersey est occupé au printemps , et il est jamais chaude en mars .\n",
      "notre fruit est moins aimé le citron , mais mon moins aimé est le raisin .\n",
      "les états-unis est parfois occupé en janvier , et il est parfois chaud en novembre .\n"
     ]
    }
   ],
   "source": [
    "view_sentence_range = (0, 10)\n",
    "\n",
    "\"\"\"\n",
    "DON'T MODIFY ANYTHING IN THIS CELL\n",
    "\"\"\"\n",
    "import numpy as np\n",
    "\n",
    "print('Dataset Stats')\n",
    "print('Roughly the number of unique words: {}'.format(len({word: None for word in source_text.split()})))\n",
    "\n",
    "sentences = source_text.split('\\n')\n",
    "word_counts = [len(sentence.split()) for sentence in sentences]\n",
    "print('Number of sentences: {}'.format(len(sentences)))\n",
    "print('Average number of words in a sentence: {}'.format(np.average(word_counts)))\n",
    "\n",
    "print()\n",
    "print('English sentences {} to {}:'.format(*view_sentence_range))\n",
    "print('\\n'.join(source_text.split('\\n')[view_sentence_range[0]:view_sentence_range[1]]))\n",
    "print()\n",
    "print('French sentences {} to {}:'.format(*view_sentence_range))\n",
    "print('\\n'.join(target_text.split('\\n')[view_sentence_range[0]:view_sentence_range[1]]))"
   ]
  },
  {
   "cell_type": "markdown",
   "metadata": {
    "deletable": true,
    "editable": true
   },
   "source": [
    "## Implement Preprocessing Function\n",
    "### Text to Word Ids\n",
    "As you did with other RNNs, you must turn the text into a number so the computer can understand it. In the function `text_to_ids()`, you'll turn `source_text` and `target_text` from words to ids.  However, you need to add the `<EOS>` word id at the end of `target_text`.  This will help the neural network predict when the sentence should end.\n",
    "\n",
    "You can get the `<EOS>` word id by doing:\n",
    "```python\n",
    "target_vocab_to_int['<EOS>']\n",
    "```\n",
    "You can get other word ids using `source_vocab_to_int` and `target_vocab_to_int`."
   ]
  },
  {
   "cell_type": "code",
   "execution_count": 3,
   "metadata": {
    "collapsed": false,
    "deletable": true,
    "editable": true
   },
   "outputs": [
    {
     "name": "stdout",
     "output_type": "stream",
     "text": [
      "Tests Passed\n"
     ]
    }
   ],
   "source": [
    "def text_to_ids(source_text, target_text, source_vocab_to_int, target_vocab_to_int):\n",
    "    \"\"\"\n",
    "    Convert source and target text to proper word ids\n",
    "    :param source_text: String that contains all the source text.\n",
    "    :param target_text: String that contains all the target text.\n",
    "    :param source_vocab_to_int: Dictionary to go from the source words to an id\n",
    "    :param target_vocab_to_int: Dictionary to go from the target words to an id\n",
    "    :return: A tuple of lists (source_id_text, target_id_text)\n",
    "    \"\"\"\n",
    "    # TODO: Implement Function\n",
    "    source_id_text = [\n",
    "        [source_vocab_to_int[word] for word in sentence.split()] for sentence in source_text.split('\\n')]\n",
    "    target_id_text = [\n",
    "        [target_vocab_to_int[word] for word in sentence.split()] + [target_vocab_to_int['<EOS>']]\n",
    "        for sentence in target_text.split('\\n')]\n",
    "\n",
    "    return source_id_text, target_id_text\n",
    "\n",
    "\"\"\"\n",
    "DON'T MODIFY ANYTHING IN THIS CELL THAT IS BELOW THIS LINE\n",
    "\"\"\"\n",
    "tests.test_text_to_ids(text_to_ids)"
   ]
  },
  {
   "cell_type": "code",
   "execution_count": null,
   "metadata": {
    "collapsed": true,
    "deletable": true,
    "editable": true
   },
   "outputs": [],
   "source": []
  },
  {
   "cell_type": "markdown",
   "metadata": {
    "deletable": true,
    "editable": true
   },
   "source": [
    "### Preprocess all the data and save it\n",
    "Running the code cell below will preprocess all the data and save it to file."
   ]
  },
  {
   "cell_type": "code",
   "execution_count": 4,
   "metadata": {
    "collapsed": false,
    "deletable": true,
    "editable": true
   },
   "outputs": [],
   "source": [
    "\"\"\"\n",
    "DON'T MODIFY ANYTHING IN THIS CELL\n",
    "\"\"\"\n",
    "helper.preprocess_and_save_data(source_path, target_path, text_to_ids)"
   ]
  },
  {
   "cell_type": "markdown",
   "metadata": {
    "deletable": true,
    "editable": true
   },
   "source": [
    "# Check Point\n",
    "This is your first checkpoint. If you ever decide to come back to this notebook or have to restart the notebook, you can start from here. The preprocessed data has been saved to disk."
   ]
  },
  {
   "cell_type": "code",
   "execution_count": 1,
   "metadata": {
    "collapsed": false,
    "deletable": true,
    "editable": true
   },
   "outputs": [],
   "source": [
    "\"\"\"\n",
    "DON'T MODIFY ANYTHING IN THIS CELL\n",
    "\"\"\"\n",
    "import numpy as np\n",
    "import helper\n",
    "import problem_unittests as tests\n",
    "\n",
    "(source_int_text, target_int_text), (source_vocab_to_int, target_vocab_to_int), _ = helper.load_preprocess()"
   ]
  },
  {
   "cell_type": "markdown",
   "metadata": {
    "deletable": true,
    "editable": true
   },
   "source": [
    "### Check the Version of TensorFlow and Access to GPU\n",
    "This will check to make sure you have the correct version of TensorFlow and access to a GPU"
   ]
  },
  {
   "cell_type": "code",
   "execution_count": 2,
   "metadata": {
    "collapsed": false,
    "deletable": true,
    "editable": true
   },
   "outputs": [
    {
     "name": "stdout",
     "output_type": "stream",
     "text": [
      "TensorFlow Version: 1.1.0\n",
      "Default GPU Device: /gpu:0\n"
     ]
    }
   ],
   "source": [
    "\"\"\"\n",
    "DON'T MODIFY ANYTHING IN THIS CELL\n",
    "\"\"\"\n",
    "from distutils.version import LooseVersion\n",
    "import warnings\n",
    "import tensorflow as tf\n",
    "from tensorflow.python.layers.core import Dense\n",
    "\n",
    "# Check TensorFlow Version\n",
    "assert LooseVersion(tf.__version__) >= LooseVersion('1.1'), 'Please use TensorFlow version 1.1 or newer'\n",
    "print('TensorFlow Version: {}'.format(tf.__version__))\n",
    "\n",
    "# Check for a GPU\n",
    "if not tf.test.gpu_device_name():\n",
    "    warnings.warn('No GPU found. Please use a GPU to train your neural network.')\n",
    "else:\n",
    "    print('Default GPU Device: {}'.format(tf.test.gpu_device_name()))"
   ]
  },
  {
   "cell_type": "markdown",
   "metadata": {
    "deletable": true,
    "editable": true
   },
   "source": [
    "## Build the Neural Network\n",
    "You'll build the components necessary to build a Sequence-to-Sequence model by implementing the following functions below:\n",
    "- `model_inputs`\n",
    "- `process_decoder_input`\n",
    "- `encoding_layer`\n",
    "- `decoding_layer_train`\n",
    "- `decoding_layer_infer`\n",
    "- `decoding_layer`\n",
    "- `seq2seq_model`\n",
    "\n",
    "### Input\n",
    "Implement the `model_inputs()` function to create TF Placeholders for the Neural Network. It should create the following placeholders:\n",
    "\n",
    "- Input text placeholder named \"input\" using the TF Placeholder name parameter with rank 2.\n",
    "- Targets placeholder with rank 2.\n",
    "- Learning rate placeholder with rank 0.\n",
    "- Keep probability placeholder named \"keep_prob\" using the TF Placeholder name parameter with rank 0.\n",
    "- Target sequence length placeholder named \"target_sequence_length\" with rank 1\n",
    "- Max target sequence length tensor named \"max_target_len\" getting its value from applying tf.reduce_max on the target_sequence_length placeholder. Rank 0.\n",
    "- Source sequence length placeholder named \"source_sequence_length\" with rank 1\n",
    "\n",
    "Return the placeholders in the following the tuple (input, targets, learning rate, keep probability, target sequence length, max target sequence length, source sequence length)"
   ]
  },
  {
   "cell_type": "code",
   "execution_count": 3,
   "metadata": {
    "collapsed": false,
    "deletable": true,
    "editable": true
   },
   "outputs": [
    {
     "name": "stdout",
     "output_type": "stream",
     "text": [
      "Tests Passed\n"
     ]
    }
   ],
   "source": [
    "def model_inputs():\n",
    "    \"\"\"\n",
    "    Create TF Placeholders for input, targets, learning rate, and lengths of source and target sequences.\n",
    "    :return: Tuple (input, targets, learning rate, keep probability, target sequence length,\n",
    "    max target sequence length, source sequence length)\n",
    "    \"\"\"\n",
    "    # TODO: Implement Function\n",
    "    input_text     = tf.placeholder(dtype=tf.int32, shape=[None,None], name=\"input\")\n",
    "    target_text    = tf.placeholder(dtype=tf.int32, shape=[None,None], name=\"target\")\n",
    "    learning_rate  = tf.placeholder(dtype=tf.float32, shape=None, name=\"learning_rate\")\n",
    "    keep_prob      = tf.placeholder(dtype=tf.float32, shape=None, name=\"keep_prob\")\n",
    "    target_sequence_length = tf.placeholder(dtype=tf.int32, shape=[None], name=\"target_sequence_length\")\n",
    "    max_target_len = tf.reduce_max(target_sequence_length, axis=0, name=\"max_target_len\")\n",
    "    source_sequence_length = tf.placeholder(dtype=tf.int32, shape=[None], name=\"source_sequence_length\")\n",
    "    return (input_text, target_text, learning_rate, keep_prob,\n",
    "           target_sequence_length, max_target_len, source_sequence_length)\n",
    "\n",
    "\n",
    "\"\"\"\n",
    "DON'T MODIFY ANYTHING IN THIS CELL THAT IS BELOW THIS LINE\n",
    "\"\"\"\n",
    "tests.test_model_inputs(model_inputs)"
   ]
  },
  {
   "cell_type": "markdown",
   "metadata": {
    "deletable": true,
    "editable": true
   },
   "source": [
    "### Process Decoder Input\n",
    "Implement `process_decoder_input` by removing the last word id from each batch in `target_data` and concat the GO ID to the begining of each batch."
   ]
  },
  {
   "cell_type": "code",
   "execution_count": 4,
   "metadata": {
    "collapsed": false,
    "deletable": true,
    "editable": true
   },
   "outputs": [
    {
     "name": "stdout",
     "output_type": "stream",
     "text": [
      "Tests Passed\n"
     ]
    }
   ],
   "source": [
    "def process_decoder_input(target_data, target_vocab_to_int, batch_size):\n",
    "    \"\"\"\n",
    "    Preprocess target data for encoding\n",
    "    :param target_data: Target Placehoder\n",
    "    :param target_vocab_to_int: Dictionary to go from the target words to an id\n",
    "    :param batch_size: Batch Size\n",
    "    :return: Preprocessed target data\n",
    "    \"\"\"\n",
    "    # TODO: Implement Function\n",
    "    ending = tf.strided_slice(target_data, begin=[0,0], end=[batch_size,-1], strides=[1,1]) \n",
    "    dec_input = tf.concat([tf.fill([batch_size, 1], target_vocab_to_int['<GO>']), ending], 1)\n",
    "\n",
    "    return dec_input\n",
    "\n",
    "\"\"\"\n",
    "DON'T MODIFY ANYTHING IN THIS CELL THAT IS BELOW THIS LINE\n",
    "\"\"\"\n",
    "tests.test_process_encoding_input(process_decoder_input)"
   ]
  },
  {
   "cell_type": "markdown",
   "metadata": {
    "deletable": true,
    "editable": true
   },
   "source": [
    "### Encoding\n",
    "Implement `encoding_layer()` to create a Encoder RNN layer:\n",
    " * Embed the encoder input using [`tf.contrib.layers.embed_sequence`](https://www.tensorflow.org/api_docs/python/tf/contrib/layers/embed_sequence)\n",
    " * Construct a [stacked](https://github.com/tensorflow/tensorflow/blob/6947f65a374ebf29e74bb71e36fd82760056d82c/tensorflow/docs_src/tutorials/recurrent.md#stacking-multiple-lstms) [`tf.contrib.rnn.LSTMCell`](https://www.tensorflow.org/api_docs/python/tf/contrib/rnn/LSTMCell) wrapped in a [`tf.contrib.rnn.DropoutWrapper`](https://www.tensorflow.org/api_docs/python/tf/contrib/rnn/DropoutWrapper)\n",
    " * Pass cell and embedded input to [`tf.nn.dynamic_rnn()`](https://www.tensorflow.org/api_docs/python/tf/nn/dynamic_rnn)"
   ]
  },
  {
   "cell_type": "code",
   "execution_count": 5,
   "metadata": {
    "collapsed": false,
    "deletable": true,
    "editable": true
   },
   "outputs": [
    {
     "data": {
      "text/plain": [
       "<module 'problem_unittests' from '/home/carnd/Krbn/deep-learning/language-translation/problem_unittests.py'>"
      ]
     },
     "execution_count": 5,
     "metadata": {},
     "output_type": "execute_result"
    }
   ],
   "source": [
    "from imp import reload\n",
    "reload(tests)"
   ]
  },
  {
   "cell_type": "code",
   "execution_count": 6,
   "metadata": {
    "collapsed": false,
    "deletable": true,
    "editable": true,
    "scrolled": false
   },
   "outputs": [],
   "source": [
    "# LSTM or GRU cells\n",
    "# Here I create a function that creates a single GRU or LSTM cell\n",
    "#   w/ optional dropout\n",
    "def single_RNN_cell(rnn_size, keep_prob=None, cell_type=\"LSTM\"):\n",
    "    \"\"\"\n",
    "    Create single RNN cell (LSTM or GRU) w/ optional dropout\n",
    "    :param rnn_size: RNN Size\n",
    "    :param keep_prob: Dropout keep probability\n",
    "    :param cell_type: \"LSTM\" (default) or \"GRU\" (not case sensitive)\n",
    "    \"\"\"\n",
    "    cell_type = cell_type.lower()[0]\n",
    "    if cell_type == \"l\":  \n",
    "        # LSTM CELL\n",
    "        single_cell = tf.contrib.rnn.LSTMCell(\n",
    "            rnn_size,\n",
    "            initializer = tf.random_uniform_initializer(-0.1, 0.1, seed=2)\n",
    "        )\n",
    "    else:          \n",
    "        #  GRU CELL\n",
    "        single_cell = tf.contrib.rnn.GRUCell(\n",
    "            rnn_size\n",
    "        )\n",
    "    if keep_prob != None:\n",
    "        single_cell = tf.contrib.rnn.DropoutWrapper(\n",
    "            single_cell, \n",
    "            output_keep_prob = keep_prob\n",
    "        )\n",
    "    return single_cell\n",
    "    "
   ]
  },
  {
   "cell_type": "code",
   "execution_count": 7,
   "metadata": {
    "collapsed": false,
    "deletable": true,
    "editable": true
   },
   "outputs": [
    {
     "name": "stdout",
     "output_type": "stream",
     "text": [
      "Tests Passed\n"
     ]
    }
   ],
   "source": [
    "# Here I allow the user to create an encoding layer based on LSTM cells,\n",
    "#   GRU cells, or both.  To use both, the user need to pass a list to\n",
    "#   cell_type that defines a pattern, e.g., if num_layers=10, cell_type=[\"l\",\"g\"]\n",
    "#   will produce an encoder cell of the form [\"l\", \"g\"]*5.\n",
    "def encoding_layer(\n",
    "    rnn_inputs, \n",
    "    rnn_size, \n",
    "    num_layers, \n",
    "    keep_prob, \n",
    "    source_sequence_length, \n",
    "    source_vocab_size, \n",
    "    encoding_embedding_size, \n",
    "    cell_type = \"LSTM\"):\n",
    "    \"\"\"\n",
    "    Create encoding layer\n",
    "    :param rnn_inputs: Inputs for the RNN\n",
    "    :param rnn_size: RNN Size\n",
    "    :param num_layers: Number of layers\n",
    "    :param keep_prob: Dropout keep probability\n",
    "    :param source_sequence_length: a list of the lengths of each sequence in the batch\n",
    "    :param source_vocab_size: vocabulary size of source data\n",
    "    :param encoding_embedding_size: embedding size of source data\n",
    "    :param cell_type: \"LSTM\" (default), \"GRU\", or list of these (not case sensitive)\n",
    "    :return: tuple (RNN output, RNN state)\n",
    "    \"\"\"\n",
    "    #---------------------------------\n",
    "    # TODO: Implement Function\n",
    "    #---------------------------------\n",
    "    \n",
    "    # Embed the Encoder Input Sequence\n",
    "    encoder_embedding = tf.contrib.layers.embed_sequence(\n",
    "        rnn_inputs, \n",
    "        source_vocab_size, \n",
    "        encoding_embedding_size\n",
    "    )\n",
    "    \n",
    "    # Encoder Cell is a Stacked (Multi-Layer) RNN Cell\n",
    "    if str(type(cell_type)) == \"<class 'str'>\": \n",
    "        cell_type = [cell_type]\n",
    "    if len(cell_type) == 1:\n",
    "        # Homogeneous Layers\n",
    "        cell_type = cell_type * num_layers\n",
    "    else:\n",
    "        # Heterogeneous Layers\n",
    "        N = len(cell_type)\n",
    "        M = int(np.ceil(num_layers/N))\n",
    "        cell_type = (cell_type * M)[0:num_layers]\n",
    "    encoder_cell = tf.contrib.rnn.MultiRNNCell(\n",
    "        [single_RNN_cell(rnn_size, keep_prob=keep_prob, cell_type=cell_type[i]) \n",
    "         for i in range(num_layers)]\n",
    "    ) \n",
    "    # \n",
    "    encoder_output, encoder_state = tf.nn.dynamic_rnn(\n",
    "        encoder_cell, \n",
    "        encoder_embedding, \n",
    "        sequence_length=source_sequence_length, \n",
    "        dtype=tf.float32\n",
    "    )\n",
    "    return encoder_output, encoder_state\n",
    "\n",
    "\"\"\"\n",
    "DON'T MODIFY ANYTHING IN THIS CELL THAT IS BELOW THIS LINE\n",
    "\"\"\"\n",
    "tests.test_encoding_layer(encoding_layer)"
   ]
  },
  {
   "cell_type": "markdown",
   "metadata": {
    "deletable": true,
    "editable": true
   },
   "source": [
    "### Decoding - Training\n",
    "Create a training decoding layer:\n",
    "* Create a [`tf.contrib.seq2seq.TrainingHelper`](https://www.tensorflow.org/api_docs/python/tf/contrib/seq2seq/TrainingHelper) \n",
    "* Create a [`tf.contrib.seq2seq.BasicDecoder`](https://www.tensorflow.org/api_docs/python/tf/contrib/seq2seq/BasicDecoder)\n",
    "* Obtain the decoder outputs from [`tf.contrib.seq2seq.dynamic_decode`](https://www.tensorflow.org/api_docs/python/tf/contrib/seq2seq/dynamic_decode)"
   ]
  },
  {
   "cell_type": "code",
   "execution_count": 8,
   "metadata": {
    "collapsed": false,
    "deletable": true,
    "editable": true
   },
   "outputs": [
    {
     "name": "stdout",
     "output_type": "stream",
     "text": [
      "Tests Passed\n"
     ]
    }
   ],
   "source": [
    "# NOTE:\n",
    "#   Seems like some of these inputs are red herrings... For example,\n",
    "#   keep_prob is applied at the single RNN cell level of the MultiRNN cell\n",
    "#   that makes up the decoder (dec_cell), which is an object that is \n",
    "#   presumably pre-existing since it is also an input argument to this\n",
    "#   function...  \n",
    "def decoding_layer_train(\n",
    "    encoder_state,            # Used in BasicDecoder\n",
    "    dec_cell,                 # Used in BasicDecoder\n",
    "    dec_embed_input,          # Used in TrainingHelper\n",
    "    target_sequence_length,   # Used in TrainingHelper\n",
    "    max_summary_length,       # Used in dynamic_decode\n",
    "    output_layer,             # Used in BasicDecoder (though given parameter description is weird)\n",
    "    keep_prob,                # NOT EXPLICITLY USED IN TrainingHelper, BasicDecoder, or dynamic_decode\n",
    "    parallel_iterations=32):  # Used in dynamic_decode\n",
    "    \"\"\"\n",
    "    Create a decoding layer for training\n",
    "    :param encoder_state: Encoder State\n",
    "    :param dec_cell: Decoder RNN Cell\n",
    "    :param dec_embed_input: Decoder embedded input\n",
    "    :param target_sequence_length: The lengths of each sequence in the target batch\n",
    "    :param max_summary_length: The length of the longest sequence in the batch\n",
    "    :param output_layer: Function to apply the output layer\n",
    "    :param keep_prob: Dropout keep probability\n",
    "    :param parallel_iterations: Argument passed to tf.while_loop\n",
    "    :return: BasicDecoderOutput containing training logits and sample_id\n",
    "    \"\"\"\n",
    "    # TODO: Implement Function\n",
    "    training_helper = tf.contrib.seq2seq.TrainingHelper(\n",
    "        inputs          = dec_embed_input,\n",
    "        sequence_length = target_sequence_length,\n",
    "        time_major      = False,\n",
    "        name            = \"training_helper\"\n",
    "    ) # RETURNED sample_ids are the argmax of the RNN output logits.\n",
    "    \n",
    "    training_decoder = tf.contrib.seq2seq.BasicDecoder(\n",
    "        cell          = dec_cell,\n",
    "        helper        = training_helper,\n",
    "        initial_state = encoder_state,\n",
    "        output_layer  = output_layer\n",
    "    ) # RETURNS:  (outputs, next_state, next_inputs, finished)\n",
    "    \n",
    "    training_decoder_output, _ = tf.contrib.seq2seq.dynamic_decode(\n",
    "        decoder            = training_decoder,\n",
    "        output_time_major  = False,\n",
    "        impute_finished    = True,\n",
    "        maximum_iterations = max_summary_length,\n",
    "        parallel_iterations= parallel_iterations\n",
    "    ) # RETURNS:  (final_outputs, final_state, final_sequence_lengths)\n",
    "    \n",
    "    return training_decoder_output\n",
    "\n",
    "\n",
    "\n",
    "\"\"\"\n",
    "DON'T MODIFY ANYTHING IN THIS CELL THAT IS BELOW THIS LINE\n",
    "\"\"\"\n",
    "tests.test_decoding_layer_train(decoding_layer_train)"
   ]
  },
  {
   "cell_type": "markdown",
   "metadata": {
    "deletable": true,
    "editable": true
   },
   "source": [
    "### Decoding - Inference\n",
    "Create inference decoder:\n",
    "* Create a [`tf.contrib.seq2seq.GreedyEmbeddingHelper`](https://www.tensorflow.org/api_docs/python/tf/contrib/seq2seq/GreedyEmbeddingHelper)\n",
    "* Create a [`tf.contrib.seq2seq.BasicDecoder`](https://www.tensorflow.org/api_docs/python/tf/contrib/seq2seq/BasicDecoder)\n",
    "* Obtain the decoder outputs from [`tf.contrib.seq2seq.dynamic_decode`](https://www.tensorflow.org/api_docs/python/tf/contrib/seq2seq/dynamic_decode)"
   ]
  },
  {
   "cell_type": "code",
   "execution_count": 9,
   "metadata": {
    "collapsed": false,
    "deletable": true,
    "editable": true,
    "scrolled": true
   },
   "outputs": [
    {
     "name": "stdout",
     "output_type": "stream",
     "text": [
      "Tests Passed\n"
     ]
    }
   ],
   "source": [
    "vocab_size = len(target_vocab_to_int)\n",
    "\n",
    "# NOTE:\n",
    "#   Again, it seems like some of these inputs are red herrings... \n",
    "#   keep_prob has the same issue as described in the note above. \n",
    "#   We also have vocab_size which is not explicitly used...\n",
    "def decoding_layer_infer(\n",
    "    encoder_state,               # Used in BasicDecoder\n",
    "    dec_cell,                    # Used in BasicDecoder\n",
    "    dec_embeddings,              # Used in GreedyEmbeddingHelper\n",
    "    start_of_sequence_id,        # Used in tf.tile (start_tokens)\n",
    "    end_of_sequence_id,          # Used in GreedyEmbeddingHelper\n",
    "    max_target_sequence_length,  # Used in dynamic_decode\n",
    "    vocab_size,  \n",
    "    output_layer,                # Used in BasicDecoder\n",
    "    batch_size,                  # Used in tf.tile (start_tokens)\n",
    "    keep_prob,\n",
    "    parallel_iterations=32):     # Used in dynamic_decode\n",
    "    \"\"\"\n",
    "    Create a decoding layer for inference\n",
    "    :param encoder_state: Encoder state\n",
    "    :param dec_cell: Decoder RNN Cell\n",
    "    :param dec_embeddings: Decoder embeddings\n",
    "    :param start_of_sequence_id: GO ID\n",
    "    :param end_of_sequence_id: EOS ID\n",
    "    :param max_target_sequence_length: Maximum length of target sequences\n",
    "    :param vocab_size: Size of decoder/target vocabulary\n",
    "    :param decoding_scope: TenorFlow Variable Scope for decoding\n",
    "    :param output_layer: Function to apply the output layer\n",
    "    :param batch_size: Batch size\n",
    "    :param keep_prob: Dropout keep probability\n",
    "    :param parallel_iterations: Argument passed to tf.while_loop\n",
    "    :return: BasicDecoderOutput containing inference logits and sample_id\n",
    "    \"\"\"\n",
    "    # TODO: Implement Function\n",
    "       \n",
    "    start_tokens = tf.tile(\n",
    "        #tf.constant([target_vocab_to_int['<GO>']], dtype=tf.int32), \n",
    "        tf.constant([start_of_sequence_id], dtype=tf.int32), \n",
    "        [batch_size], \n",
    "        name='start_tokens'\n",
    "    ) \n",
    "    # RETURNS new tensor by replicating its input tensor\n",
    "    #   (the tf.constant above) batch_size times.\n",
    "    \n",
    "    inference_helper = tf.contrib.seq2seq.GreedyEmbeddingHelper(\n",
    "        embedding    = dec_embeddings,\n",
    "        start_tokens = start_tokens,\n",
    "        #end_token    = target_vocab_to_int['<EOS>']\n",
    "        end_token    = end_of_sequence_id\n",
    "    ) \n",
    "    # A helper for use during inference. Uses the argmax of the output \n",
    "    #  (treated as logits) and passes the result through an embedding layer \n",
    "    #  to get the next input.\n",
    "\n",
    "    inference_decoder = tf.contrib.seq2seq.BasicDecoder(\n",
    "        cell          = dec_cell,\n",
    "        helper        = inference_helper,\n",
    "        initial_state = encoder_state,\n",
    "        output_layer  = output_layer\n",
    "    ) # RETURNS:  (outputs, next_state, next_inputs, finished)\n",
    "        \n",
    "    inference_decoder_output, _ = tf.contrib.seq2seq.dynamic_decode(\n",
    "        decoder             = inference_decoder,\n",
    "        impute_finished     = True,\n",
    "        maximum_iterations  = max_target_sequence_length,\n",
    "        parallel_iterations = parallel_iterations\n",
    "    ) # RETURNS:  (final_outputs, final_state, final_sequence_lengths)\n",
    "    \n",
    "    return inference_decoder_output\n",
    "\n",
    "\n",
    "\n",
    "\"\"\"\n",
    "DON'T MODIFY ANYTHING IN THIS CELL THAT IS BELOW THIS LINE\n",
    "\"\"\"\n",
    "tests.test_decoding_layer_infer(decoding_layer_infer)"
   ]
  },
  {
   "cell_type": "markdown",
   "metadata": {
    "deletable": true,
    "editable": true
   },
   "source": [
    "### Build the Decoding Layer\n",
    "Implement `decoding_layer()` to create a Decoder RNN layer.\n",
    "\n",
    "* Embed the target sequences\n",
    "* Construct the decoder LSTM cell (just like you constructed the encoder cell above)\n",
    "* Create an output layer to map the outputs of the decoder to the elements of our vocabulary\n",
    "* Use the your `decoding_layer_train(encoder_state, dec_cell, dec_embed_input, target_sequence_length, max_target_sequence_length, output_layer, keep_prob)` function to get the training logits.\n",
    "* Use your `decoding_layer_infer(encoder_state, dec_cell, dec_embeddings, start_of_sequence_id, end_of_sequence_id, max_target_sequence_length, vocab_size, output_layer, batch_size, keep_prob)` function to get the inference logits.\n",
    "\n",
    "Note: You'll need to use [tf.variable_scope](https://www.tensorflow.org/api_docs/python/tf/variable_scope) to share variables between training and inference."
   ]
  },
  {
   "cell_type": "code",
   "execution_count": 10,
   "metadata": {
    "collapsed": true,
    "deletable": true,
    "editable": true
   },
   "outputs": [],
   "source": [
    "# 64 (batch size), 22 (sequence length), 200 (embedding size)"
   ]
  },
  {
   "cell_type": "code",
   "execution_count": 11,
   "metadata": {
    "collapsed": false,
    "deletable": true,
    "editable": true
   },
   "outputs": [
    {
     "name": "stdout",
     "output_type": "stream",
     "text": [
      "Tests Passed\n"
     ]
    }
   ],
   "source": [
    "# NOTE:\n",
    "#   I noticed in the seq2seq code that the decoder and encoder embeddings are\n",
    "#   done differently...  \n",
    "#     * For the encoder embedding: \n",
    "#         embedding1 = tf.contrib.layers.embed_sequence(inputs, vocab_size, embedding_size)\n",
    "#     * For the decoder embedding:\n",
    "#         w_emb = tf.Variable(tf.random_uniform([vocab_size, embedding_size]))\n",
    "#         embedding2 = tf.nn.embedding_lookup(w_emb, inputs)\n",
    "#   \n",
    "#    The following code was used to compare the two embedding tensors:    \n",
    "#        vocab_size = len(target_vocab_to_int)\n",
    "#        inputs     = tf.placeholder(dtype=tf.int32, shape=[None,None], name=\"target\")\n",
    "#        embedding_size = 100\n",
    "#        e1 = tf.contrib.layers.embed_sequence(inputs, vocab_size, embedding_size)\n",
    "#        w_emb = tf.Variable(tf.random_uniform([vocab_size, embedding_size]))\n",
    "#        e2 = tf.nn.embedding_lookup(w_emb, inputs)\n",
    "#\n",
    "#    Results\n",
    "#        e1: <tf.Tensor 'EmbedSequence/embedding_lookup:0' shape=(?, ?, 100) dtype=float32>\n",
    "#        e2: <tf.Tensor 'embedding_lookup:0' shape=(?, ?, 100) dtype=float32>\n",
    "target_vocab_size = len(target_vocab_to_int)\n",
    "\n",
    "def decoding_layer(\n",
    "    dec_input,                   # Used to create embedding\n",
    "    encoder_state,               # Used in decoder_layer_train\n",
    "    target_sequence_length,      # Used in decoder_layer_train\n",
    "    max_target_sequence_length,  # Used in decoder_layer_train\n",
    "    rnn_size,                    # Used to create decoder cell\n",
    "    num_layers,                  # Used to create decoder cell\n",
    "    target_vocab_to_int,         # Used to get GO & EOS IDs\n",
    "    target_vocab_size,           # Used to create output layer, inference layer\n",
    "    batch_size,                  # Used in decoder_layer_infer\n",
    "    keep_prob,                   # Used to create decoder cell\n",
    "    decoding_embedding_size,     # Used to create embedding\n",
    "    cell_type = \"LSTM\",          # Used to create decoder cell\n",
    "    parallel_iterations=32):      \n",
    "    \"\"\"\n",
    "    Create decoding layer\n",
    "    :param dec_input: Decoder input\n",
    "    :param encoder_state: Encoder state\n",
    "    :param target_sequence_length: The lengths of each sequence in the target batch\n",
    "    :param max_target_sequence_length: Maximum length of target sequences\n",
    "    :param rnn_size: RNN Size\n",
    "    :param num_layers: Number of layers\n",
    "    :param target_vocab_to_int: Dictionary to go from the target words to an id\n",
    "    :param target_vocab_size: Size of target vocabulary\n",
    "    :param batch_size: The size of the batch\n",
    "    :param keep_prob: Dropout keep probability\n",
    "    :param cell_type: \"LSTM\" (default), \"GRU\", or list of these (not case sensitive)\n",
    "    :return: Tuple of (Training BasicDecoderOutput, Inference BasicDecoderOutput)\n",
    "    \"\"\"\n",
    "    # TODO: Implement Function\n",
    "    \n",
    "    # Embed Target Sequences (Decoder Inputs)\n",
    "    decoder_embedding = tf.Variable(\n",
    "        tf.random_uniform([target_vocab_size, decoding_embedding_size])\n",
    "    )\n",
    "    dec_embed_input = tf.nn.embedding_lookup(\n",
    "        decoder_embedding, \n",
    "        dec_input\n",
    "    )\n",
    "    \n",
    "    # Construct the Decoder Cell as a Stacked (Multi-Layer) RNN cell\n",
    "    #   -- project requests stacked LSTM cells, but I provided GRU and LSTM-GRU \n",
    "    #      hybrid options as well\n",
    "    #   -- w/ optional dropout feature \n",
    "    if str(type(cell_type)) == \"<class 'str'>\": \n",
    "        cell_type = [cell_type]\n",
    "    if len(cell_type) == 1:\n",
    "        # Homogeneous Layers\n",
    "        cell_type = cell_type * num_layers\n",
    "    else:\n",
    "        # Heterogeneous Layers\n",
    "        N = len(cell_type)\n",
    "        M = int(np.ceil(num_layers/N))\n",
    "        cell_type = (cell_type * M)[0:num_layers]\n",
    "    #-----------------------------------------------\n",
    "    dec_cell = tf.contrib.rnn.MultiRNNCell(\n",
    "        [single_RNN_cell(rnn_size, keep_prob=keep_prob, cell_type=cell_type[i]) \n",
    "         for i in range(num_layers)]\n",
    "    ) \n",
    "    \n",
    "    # Dense Output Layer:\n",
    "    #   Translates the decoder's output into a choice from the target vocabulary\n",
    "    #   at each time step.\n",
    "    output_layer = Dense(\n",
    "        target_vocab_size,\n",
    "        kernel_initializer = tf.truncated_normal_initializer(mean = 0.0, stddev=0.1)\n",
    "    )\n",
    "    \n",
    "    # Use the your decoding_layer_train() function to get the training logits.\n",
    "    with tf.variable_scope(\"decode\"):\n",
    "        training_output = decoding_layer_train(\n",
    "            encoder_state   = encoder_state, \n",
    "            dec_cell        = dec_cell, \n",
    "            dec_embed_input = dec_embed_input, \n",
    "            target_sequence_length = target_sequence_length, \n",
    "            max_summary_length     = max_target_sequence_length, \n",
    "            output_layer    = output_layer, \n",
    "            keep_prob       = keep_prob,\n",
    "            parallel_iterations    = parallel_iterations\n",
    "        ) \n",
    "\n",
    "    # Use your decoding_layer_infer() function to get the inference logits.\n",
    "    start_of_sequence_id = target_vocab_to_int['<GO>']\n",
    "    end_of_sequence_id   = target_vocab_to_int['<EOS>']\n",
    "    with tf.variable_scope(\"decode\", reuse=True):\n",
    "        inference_output = decoding_layer_infer(\n",
    "            encoder_state  = encoder_state, \n",
    "            dec_cell       = dec_cell, \n",
    "            #dec_embeddings = dec_embed_input, ########################uhhhh\n",
    "            dec_embeddings = decoder_embedding,\n",
    "            start_of_sequence_id = start_of_sequence_id, \n",
    "            end_of_sequence_id   = end_of_sequence_id, \n",
    "            max_target_sequence_length = max_target_sequence_length, \n",
    "            vocab_size   = target_vocab_size, \n",
    "            output_layer = output_layer, \n",
    "            batch_size   = batch_size, \n",
    "            keep_prob    = keep_prob,\n",
    "            parallel_iterations = parallel_iterations\n",
    "        )\n",
    "\n",
    "    return (training_output, inference_output)\n",
    "\n",
    "\n",
    "\n",
    "\"\"\"\n",
    "DON'T MODIFY ANYTHING IN THIS CELL THAT IS BELOW THIS LINE\n",
    "\"\"\"\n",
    "tests.test_decoding_layer(decoding_layer)"
   ]
  },
  {
   "cell_type": "markdown",
   "metadata": {
    "deletable": true,
    "editable": true
   },
   "source": [
    "### Build the Neural Network\n",
    "Apply the functions you implemented above to:\n",
    "\n",
    "- Apply embedding to the input data for the encoder.\n",
    "- Encode the input using your `encoding_layer(rnn_inputs, rnn_size, num_layers, keep_prob,  source_sequence_length, source_vocab_size, encoding_embedding_size)`.\n",
    "- Process target data using your `process_decoder_input(target_data, target_vocab_to_int, batch_size)` function.\n",
    "- Apply embedding to the target data for the decoder.\n",
    "- Decode the encoded input using your `decoding_layer(dec_input, enc_state, target_sequence_length, max_target_sentence_length, rnn_size, num_layers, target_vocab_to_int, target_vocab_size, batch_size, keep_prob, dec_embedding_size)` function."
   ]
  },
  {
   "cell_type": "code",
   "execution_count": 13,
   "metadata": {
    "collapsed": false,
    "deletable": true,
    "editable": true
   },
   "outputs": [
    {
     "name": "stdout",
     "output_type": "stream",
     "text": [
      "Tests Passed\n"
     ]
    }
   ],
   "source": [
    "def seq2seq_model(\n",
    "    input_data, \n",
    "    target_data, \n",
    "    keep_prob, \n",
    "    batch_size,\n",
    "    source_sequence_length, \n",
    "    target_sequence_length,\n",
    "    max_target_sentence_length,\n",
    "    source_vocab_size, \n",
    "    target_vocab_size,\n",
    "    enc_embedding_size, \n",
    "    dec_embedding_size,\n",
    "    rnn_size, \n",
    "    num_layers, \n",
    "    target_vocab_to_int):\n",
    "    \"\"\"\n",
    "    Build the Sequence-to-Sequence part of the neural network\n",
    "    :param input_data: Input placeholder\n",
    "    :param target_data: Target placeholder\n",
    "    :param keep_prob: Dropout keep probability placeholder\n",
    "    :param batch_size: Batch Size\n",
    "    :param source_sequence_length: Sequence Lengths of source sequences in the batch\n",
    "    :param target_sequence_length: Sequence Lengths of target sequences in the batch\n",
    "    :param source_vocab_size: Source vocabulary size\n",
    "    :param target_vocab_size: Target vocabulary size\n",
    "    :param enc_embedding_size: Decoder embedding size\n",
    "    :param dec_embedding_size: Encoder embedding size\n",
    "    :param rnn_size: RNN Size\n",
    "    :param num_layers: Number of layers\n",
    "    :param target_vocab_to_int: Dictionary to go from the target words to an id\n",
    "    :return: Tuple of (Training BasicDecoderOutput, Inference BasicDecoderOutput)\n",
    "    \"\"\"\n",
    "    # TODO: Implement Function\n",
    "    # Pass the input data through the encoder. \n",
    "    _, enc_state = encoding_layer(\n",
    "        input_data, \n",
    "        rnn_size, \n",
    "        num_layers, \n",
    "        keep_prob,\n",
    "        source_sequence_length,\n",
    "        source_vocab_size, \n",
    "        enc_embedding_size\n",
    "    )\n",
    "    \n",
    "    # Prepare the target sequences we'll feed to the decoder in training mode\n",
    "    dec_input = process_decoder_input(\n",
    "        target_data, \n",
    "        target_vocab_to_int, \n",
    "        batch_size\n",
    "    )\n",
    "\n",
    "    # Pass encoder state and decoder inputs to the decoders\n",
    "    training_decoder_output, inference_decoder_output = decoding_layer(\n",
    "        dec_input,\n",
    "        enc_state,\n",
    "        target_sequence_length,\n",
    "        max_target_sentence_length,\n",
    "        rnn_size,\n",
    "        num_layers, \n",
    "        target_vocab_to_int, \n",
    "        target_vocab_size,\n",
    "        batch_size,\n",
    "        keep_prob,\n",
    "        dec_embedding_size                                                                       \n",
    "    )       \n",
    "    \n",
    "    return training_decoder_output, inference_decoder_output\n",
    "    #return None, None\n",
    "\n",
    "\n",
    "\"\"\"\n",
    "DON'T MODIFY ANYTHING IN THIS CELL THAT IS BELOW THIS LINE\n",
    "\"\"\"\n",
    "tests.test_seq2seq_model(seq2seq_model)"
   ]
  },
  {
   "cell_type": "markdown",
   "metadata": {
    "deletable": true,
    "editable": true
   },
   "source": [
    "## Neural Network Training\n",
    "### Hyperparameters\n",
    "Tune the following parameters:\n",
    "\n",
    "- Set `epochs` to the number of epochs.\n",
    "- Set `batch_size` to the batch size.\n",
    "- Set `rnn_size` to the size of the RNNs.\n",
    "- Set `num_layers` to the number of layers.\n",
    "- Set `encoding_embedding_size` to the size of the embedding for the encoder.\n",
    "- Set `decoding_embedding_size` to the size of the embedding for the decoder.\n",
    "- Set `learning_rate` to the learning rate.\n",
    "- Set `keep_probability` to the Dropout keep probability\n",
    "- Set `display_step` to state how many steps between each debug output statement"
   ]
  },
  {
   "cell_type": "code",
   "execution_count": 30,
   "metadata": {
    "collapsed": true,
    "deletable": true,
    "editable": true
   },
   "outputs": [],
   "source": [
    "# Number of Epochs\n",
    "epochs = 30\n",
    "# Batch Size\n",
    "batch_size = 512\n",
    "# RNN Size\n",
    "rnn_size = 50\n",
    "# Number of Layers\n",
    "num_layers = 2\n",
    "# Embedding Size\n",
    "encoding_embedding_size = 50\n",
    "decoding_embedding_size = 50\n",
    "# Learning Rate\n",
    "learning_rate = 0.001\n",
    "# Dropout Keep Probability\n",
    "keep_probability = 0.8\n",
    "display_step = 50\n",
    "\n",
    "# I've gotten up to 0.9, but at the cost of training for a very long time...\n",
    "#   -- used rnnsize=40, batchsize=128"
   ]
  },
  {
   "cell_type": "markdown",
   "metadata": {
    "deletable": true,
    "editable": true
   },
   "source": [
    "### Build the Graph\n",
    "Build the graph using the neural network you implemented."
   ]
  },
  {
   "cell_type": "code",
   "execution_count": 31,
   "metadata": {
    "collapsed": false,
    "deletable": true,
    "editable": true
   },
   "outputs": [],
   "source": [
    "\"\"\"\n",
    "DON'T MODIFY ANYTHING IN THIS CELL\n",
    "\"\"\"\n",
    "save_path = 'checkpoints/dev'\n",
    "(source_int_text, target_int_text), (source_vocab_to_int, target_vocab_to_int), _ = helper.load_preprocess()\n",
    "max_target_sentence_length = max([len(sentence) for sentence in source_int_text])\n",
    "\n",
    "train_graph = tf.Graph()\n",
    "with train_graph.as_default():\n",
    "    input_data, targets, lr, keep_prob, target_sequence_length, max_target_sequence_length, source_sequence_length = model_inputs()\n",
    "\n",
    "    #sequence_length = tf.placeholder_with_default(max_target_sentence_length, None, name='sequence_length')\n",
    "    input_shape = tf.shape(input_data)\n",
    "\n",
    "    train_logits, inference_logits = seq2seq_model(tf.reverse(input_data, [-1]),\n",
    "                                                   targets,\n",
    "                                                   keep_prob,\n",
    "                                                   batch_size,\n",
    "                                                   source_sequence_length,\n",
    "                                                   target_sequence_length,\n",
    "                                                   max_target_sequence_length,\n",
    "                                                   len(source_vocab_to_int),\n",
    "                                                   len(target_vocab_to_int),\n",
    "                                                   encoding_embedding_size,\n",
    "                                                   decoding_embedding_size,\n",
    "                                                   rnn_size,\n",
    "                                                   num_layers,\n",
    "                                                   target_vocab_to_int)\n",
    "\n",
    "\n",
    "    training_logits = tf.identity(train_logits.rnn_output, name='logits')\n",
    "    inference_logits = tf.identity(inference_logits.sample_id, name='predictions')\n",
    "\n",
    "    masks = tf.sequence_mask(target_sequence_length, max_target_sequence_length, dtype=tf.float32, name='masks')\n",
    "\n",
    "    with tf.name_scope(\"optimization\"):\n",
    "        # Loss function\n",
    "        cost = tf.contrib.seq2seq.sequence_loss(\n",
    "            training_logits,\n",
    "            targets,\n",
    "            masks)\n",
    "\n",
    "        # Optimizer\n",
    "        optimizer = tf.train.AdamOptimizer(lr)\n",
    "\n",
    "        # Gradient Clipping\n",
    "        gradients = optimizer.compute_gradients(cost)\n",
    "        capped_gradients = [(tf.clip_by_value(grad, -1., 1.), var) for grad, var in gradients if grad is not None]\n",
    "        train_op = optimizer.apply_gradients(capped_gradients)\n"
   ]
  },
  {
   "cell_type": "markdown",
   "metadata": {
    "deletable": true,
    "editable": true
   },
   "source": [
    "Batch and pad the source and target sequences"
   ]
  },
  {
   "cell_type": "code",
   "execution_count": 32,
   "metadata": {
    "collapsed": true,
    "deletable": true,
    "editable": true
   },
   "outputs": [],
   "source": [
    "\"\"\"\n",
    "DON'T MODIFY ANYTHING IN THIS CELL\n",
    "\"\"\"\n",
    "def pad_sentence_batch(sentence_batch, pad_int):\n",
    "    \"\"\"Pad sentences with <PAD> so that each sentence of a batch has the same length\"\"\"\n",
    "    max_sentence = max([len(sentence) for sentence in sentence_batch])\n",
    "    return [sentence + [pad_int] * (max_sentence - len(sentence)) for sentence in sentence_batch]\n",
    "\n",
    "\n",
    "def get_batches(sources, targets, batch_size, source_pad_int, target_pad_int):\n",
    "    \"\"\"Batch targets, sources, and the lengths of their sentences together\"\"\"\n",
    "    for batch_i in range(0, len(sources)//batch_size):\n",
    "        start_i = batch_i * batch_size\n",
    "\n",
    "        # Slice the right amount for the batch\n",
    "        sources_batch = sources[start_i:start_i + batch_size]\n",
    "        targets_batch = targets[start_i:start_i + batch_size]\n",
    "\n",
    "        # Pad\n",
    "        pad_sources_batch = np.array(pad_sentence_batch(sources_batch, source_pad_int))\n",
    "        pad_targets_batch = np.array(pad_sentence_batch(targets_batch, target_pad_int))\n",
    "\n",
    "        # Need the lengths for the _lengths parameters\n",
    "        pad_targets_lengths = []\n",
    "        for target in pad_targets_batch:\n",
    "            pad_targets_lengths.append(len(target))\n",
    "\n",
    "        pad_source_lengths = []\n",
    "        for source in pad_sources_batch:\n",
    "            pad_source_lengths.append(len(source))\n",
    "\n",
    "        yield pad_sources_batch, pad_targets_batch, pad_source_lengths, pad_targets_lengths\n"
   ]
  },
  {
   "cell_type": "markdown",
   "metadata": {
    "deletable": true,
    "editable": true
   },
   "source": [
    "### Train\n",
    "Train the neural network on the preprocessed data. If you have a hard time getting a good loss, check the forms to see if anyone is having the same problem."
   ]
  },
  {
   "cell_type": "code",
   "execution_count": 33,
   "metadata": {
    "collapsed": false,
    "deletable": true,
    "editable": true,
    "scrolled": true
   },
   "outputs": [
    {
     "name": "stdout",
     "output_type": "stream",
     "text": [
      "Epoch   0 Batch   50/269 - Train Accuracy: 0.2815, Validation Accuracy: 0.3410, Loss: 3.6098\n",
      "Epoch   0 Batch  100/269 - Train Accuracy: 0.3225, Validation Accuracy: 0.3432, Loss: 3.1086\n",
      "Epoch   0 Batch  150/269 - Train Accuracy: 0.3287, Validation Accuracy: 0.3585, Loss: 2.9320\n",
      "Epoch   0 Batch  200/269 - Train Accuracy: 0.3163, Validation Accuracy: 0.3751, Loss: 2.8672\n",
      "Epoch   0 Batch  250/269 - Train Accuracy: 0.3532, Validation Accuracy: 0.4025, Loss: 2.7210\n",
      "Epoch   1 Batch   50/269 - Train Accuracy: 0.3981, Validation Accuracy: 0.4466, Loss: 2.5749\n",
      "Epoch   1 Batch  100/269 - Train Accuracy: 0.4475, Validation Accuracy: 0.4572, Loss: 2.3559\n",
      "Epoch   1 Batch  150/269 - Train Accuracy: 0.4368, Validation Accuracy: 0.4622, Loss: 2.3197\n",
      "Epoch   1 Batch  200/269 - Train Accuracy: 0.4220, Validation Accuracy: 0.4662, Loss: 2.3270\n",
      "Epoch   1 Batch  250/269 - Train Accuracy: 0.4321, Validation Accuracy: 0.4756, Loss: 2.2188\n",
      "Epoch   2 Batch   50/269 - Train Accuracy: 0.4530, Validation Accuracy: 0.4998, Loss: 2.1141\n",
      "Epoch   2 Batch  100/269 - Train Accuracy: 0.4955, Validation Accuracy: 0.5036, Loss: 1.8926\n",
      "Epoch   2 Batch  150/269 - Train Accuracy: 0.4841, Validation Accuracy: 0.5065, Loss: 1.8286\n",
      "Epoch   2 Batch  200/269 - Train Accuracy: 0.4629, Validation Accuracy: 0.5028, Loss: 1.7372\n",
      "Epoch   2 Batch  250/269 - Train Accuracy: 0.4025, Validation Accuracy: 0.4297, Loss: 1.5745\n",
      "Epoch   3 Batch   50/269 - Train Accuracy: 0.3486, Validation Accuracy: 0.3892, Loss: 1.4190\n",
      "Epoch   3 Batch  100/269 - Train Accuracy: 0.3741, Validation Accuracy: 0.3936, Loss: 1.2514\n",
      "Epoch   3 Batch  150/269 - Train Accuracy: 0.3925, Validation Accuracy: 0.4063, Loss: 1.2132\n",
      "Epoch   3 Batch  200/269 - Train Accuracy: 0.3768, Validation Accuracy: 0.4297, Loss: 1.1880\n",
      "Epoch   3 Batch  250/269 - Train Accuracy: 0.4134, Validation Accuracy: 0.4427, Loss: 1.1304\n",
      "Epoch   4 Batch   50/269 - Train Accuracy: 0.4414, Validation Accuracy: 0.4813, Loss: 1.0675\n",
      "Epoch   4 Batch  100/269 - Train Accuracy: 0.4491, Validation Accuracy: 0.4834, Loss: 0.9647\n",
      "Epoch   4 Batch  150/269 - Train Accuracy: 0.4857, Validation Accuracy: 0.5012, Loss: 0.9714\n",
      "Epoch   4 Batch  200/269 - Train Accuracy: 0.4528, Validation Accuracy: 0.4902, Loss: 0.9564\n",
      "Epoch   4 Batch  250/269 - Train Accuracy: 0.4878, Validation Accuracy: 0.5090, Loss: 0.9292\n",
      "Epoch   5 Batch   50/269 - Train Accuracy: 0.4858, Validation Accuracy: 0.5054, Loss: 0.8990\n",
      "Epoch   5 Batch  100/269 - Train Accuracy: 0.4887, Validation Accuracy: 0.5121, Loss: 0.8341\n",
      "Epoch   5 Batch  150/269 - Train Accuracy: 0.5212, Validation Accuracy: 0.5292, Loss: 0.8385\n",
      "Epoch   5 Batch  200/269 - Train Accuracy: 0.5726, Validation Accuracy: 0.5944, Loss: 0.8313\n",
      "Epoch   5 Batch  250/269 - Train Accuracy: 0.5750, Validation Accuracy: 0.6044, Loss: 0.8098\n",
      "Epoch   6 Batch   50/269 - Train Accuracy: 0.5808, Validation Accuracy: 0.6056, Loss: 0.7919\n",
      "Epoch   6 Batch  100/269 - Train Accuracy: 0.6137, Validation Accuracy: 0.6112, Loss: 0.7369\n",
      "Epoch   6 Batch  150/269 - Train Accuracy: 0.6105, Validation Accuracy: 0.6180, Loss: 0.7410\n",
      "Epoch   6 Batch  200/269 - Train Accuracy: 0.5999, Validation Accuracy: 0.6181, Loss: 0.7495\n",
      "Epoch   6 Batch  250/269 - Train Accuracy: 0.5963, Validation Accuracy: 0.6219, Loss: 0.7244\n",
      "Epoch   7 Batch   50/269 - Train Accuracy: 0.6089, Validation Accuracy: 0.6291, Loss: 0.7132\n",
      "Epoch   7 Batch  100/269 - Train Accuracy: 0.6415, Validation Accuracy: 0.6328, Loss: 0.6639\n",
      "Epoch   7 Batch  150/269 - Train Accuracy: 0.6347, Validation Accuracy: 0.6371, Loss: 0.6711\n",
      "Epoch   7 Batch  200/269 - Train Accuracy: 0.6201, Validation Accuracy: 0.6394, Loss: 0.6812\n",
      "Epoch   7 Batch  250/269 - Train Accuracy: 0.6188, Validation Accuracy: 0.6436, Loss: 0.6551\n",
      "Epoch   8 Batch   50/269 - Train Accuracy: 0.6215, Validation Accuracy: 0.6435, Loss: 0.6574\n",
      "Epoch   8 Batch  100/269 - Train Accuracy: 0.6646, Validation Accuracy: 0.6488, Loss: 0.6027\n",
      "Epoch   8 Batch  150/269 - Train Accuracy: 0.6484, Validation Accuracy: 0.6515, Loss: 0.6102\n",
      "Epoch   8 Batch  200/269 - Train Accuracy: 0.6347, Validation Accuracy: 0.6523, Loss: 0.6344\n",
      "Epoch   8 Batch  250/269 - Train Accuracy: 0.6368, Validation Accuracy: 0.6609, Loss: 0.6017\n",
      "Epoch   9 Batch   50/269 - Train Accuracy: 0.6323, Validation Accuracy: 0.6610, Loss: 0.6033\n",
      "Epoch   9 Batch  100/269 - Train Accuracy: 0.6748, Validation Accuracy: 0.6626, Loss: 0.5514\n",
      "Epoch   9 Batch  150/269 - Train Accuracy: 0.6645, Validation Accuracy: 0.6664, Loss: 0.5633\n",
      "Epoch   9 Batch  200/269 - Train Accuracy: 0.6518, Validation Accuracy: 0.6660, Loss: 0.5752\n",
      "Epoch   9 Batch  250/269 - Train Accuracy: 0.6539, Validation Accuracy: 0.6717, Loss: 0.5586\n",
      "Epoch  10 Batch   50/269 - Train Accuracy: 0.6534, Validation Accuracy: 0.6781, Loss: 0.5560\n",
      "Epoch  10 Batch  100/269 - Train Accuracy: 0.6948, Validation Accuracy: 0.6818, Loss: 0.5207\n",
      "Epoch  10 Batch  150/269 - Train Accuracy: 0.6777, Validation Accuracy: 0.6839, Loss: 0.5264\n",
      "Epoch  10 Batch  200/269 - Train Accuracy: 0.6642, Validation Accuracy: 0.6838, Loss: 0.5453\n",
      "Epoch  10 Batch  250/269 - Train Accuracy: 0.6674, Validation Accuracy: 0.6871, Loss: 0.5207\n",
      "Epoch  11 Batch   50/269 - Train Accuracy: 0.6686, Validation Accuracy: 0.6921, Loss: 0.5224\n",
      "Epoch  11 Batch  100/269 - Train Accuracy: 0.6985, Validation Accuracy: 0.6949, Loss: 0.4846\n",
      "Epoch  11 Batch  150/269 - Train Accuracy: 0.6911, Validation Accuracy: 0.6986, Loss: 0.4888\n",
      "Epoch  11 Batch  200/269 - Train Accuracy: 0.6877, Validation Accuracy: 0.6970, Loss: 0.5035\n",
      "Epoch  11 Batch  250/269 - Train Accuracy: 0.6752, Validation Accuracy: 0.6927, Loss: 0.4925\n",
      "Epoch  12 Batch   50/269 - Train Accuracy: 0.6786, Validation Accuracy: 0.7052, Loss: 0.4977\n",
      "Epoch  12 Batch  100/269 - Train Accuracy: 0.7175, Validation Accuracy: 0.7026, Loss: 0.4573\n",
      "Epoch  12 Batch  150/269 - Train Accuracy: 0.6974, Validation Accuracy: 0.7108, Loss: 0.4635\n",
      "Epoch  12 Batch  200/269 - Train Accuracy: 0.6988, Validation Accuracy: 0.7096, Loss: 0.4716\n",
      "Epoch  12 Batch  250/269 - Train Accuracy: 0.6881, Validation Accuracy: 0.7097, Loss: 0.4589\n",
      "Epoch  13 Batch   50/269 - Train Accuracy: 0.6851, Validation Accuracy: 0.7123, Loss: 0.4679\n",
      "Epoch  13 Batch  100/269 - Train Accuracy: 0.7283, Validation Accuracy: 0.7149, Loss: 0.4334\n",
      "Epoch  13 Batch  150/269 - Train Accuracy: 0.7034, Validation Accuracy: 0.7075, Loss: 0.4382\n",
      "Epoch  13 Batch  200/269 - Train Accuracy: 0.7170, Validation Accuracy: 0.7193, Loss: 0.4456\n",
      "Epoch  13 Batch  250/269 - Train Accuracy: 0.6995, Validation Accuracy: 0.7165, Loss: 0.4373\n",
      "Epoch  14 Batch   50/269 - Train Accuracy: 0.6970, Validation Accuracy: 0.7190, Loss: 0.4547\n",
      "Epoch  14 Batch  100/269 - Train Accuracy: 0.7398, Validation Accuracy: 0.7204, Loss: 0.4103\n",
      "Epoch  14 Batch  150/269 - Train Accuracy: 0.7117, Validation Accuracy: 0.7234, Loss: 0.4125\n",
      "Epoch  14 Batch  200/269 - Train Accuracy: 0.7213, Validation Accuracy: 0.7266, Loss: 0.4262\n",
      "Epoch  14 Batch  250/269 - Train Accuracy: 0.7092, Validation Accuracy: 0.7247, Loss: 0.4120\n",
      "Epoch  15 Batch   50/269 - Train Accuracy: 0.6997, Validation Accuracy: 0.7205, Loss: 0.4261\n",
      "Epoch  15 Batch  100/269 - Train Accuracy: 0.7445, Validation Accuracy: 0.7234, Loss: 0.3865\n",
      "Epoch  15 Batch  150/269 - Train Accuracy: 0.7144, Validation Accuracy: 0.7206, Loss: 0.3881\n",
      "Epoch  15 Batch  200/269 - Train Accuracy: 0.7093, Validation Accuracy: 0.7164, Loss: 0.4086\n",
      "Epoch  15 Batch  250/269 - Train Accuracy: 0.7162, Validation Accuracy: 0.7177, Loss: 0.3984\n",
      "Epoch  16 Batch   50/269 - Train Accuracy: 0.6920, Validation Accuracy: 0.7113, Loss: 0.4032\n",
      "Epoch  16 Batch  100/269 - Train Accuracy: 0.7399, Validation Accuracy: 0.7208, Loss: 0.3698\n",
      "Epoch  16 Batch  150/269 - Train Accuracy: 0.7377, Validation Accuracy: 0.7328, Loss: 0.3680\n",
      "Epoch  16 Batch  200/269 - Train Accuracy: 0.7274, Validation Accuracy: 0.7404, Loss: 0.3773\n",
      "Epoch  16 Batch  250/269 - Train Accuracy: 0.7346, Validation Accuracy: 0.7430, Loss: 0.3660\n",
      "Epoch  17 Batch   50/269 - Train Accuracy: 0.7147, Validation Accuracy: 0.7437, Loss: 0.3794\n",
      "Epoch  17 Batch  100/269 - Train Accuracy: 0.7728, Validation Accuracy: 0.7449, Loss: 0.3416\n",
      "Epoch  17 Batch  150/269 - Train Accuracy: 0.7596, Validation Accuracy: 0.7552, Loss: 0.3586\n",
      "Epoch  17 Batch  200/269 - Train Accuracy: 0.7488, Validation Accuracy: 0.7521, Loss: 0.3580\n",
      "Epoch  17 Batch  250/269 - Train Accuracy: 0.7563, Validation Accuracy: 0.7591, Loss: 0.3517\n",
      "Epoch  18 Batch   50/269 - Train Accuracy: 0.7464, Validation Accuracy: 0.7760, Loss: 0.3587\n",
      "Epoch  18 Batch  100/269 - Train Accuracy: 0.7914, Validation Accuracy: 0.7622, Loss: 0.3234\n",
      "Epoch  18 Batch  150/269 - Train Accuracy: 0.7739, Validation Accuracy: 0.7752, Loss: 0.3339\n",
      "Epoch  18 Batch  200/269 - Train Accuracy: 0.7714, Validation Accuracy: 0.7711, Loss: 0.3413\n",
      "Epoch  18 Batch  250/269 - Train Accuracy: 0.7832, Validation Accuracy: 0.7738, Loss: 0.3273\n",
      "Epoch  19 Batch   50/269 - Train Accuracy: 0.7710, Validation Accuracy: 0.7891, Loss: 0.3334\n",
      "Epoch  19 Batch  100/269 - Train Accuracy: 0.7982, Validation Accuracy: 0.7743, Loss: 0.3096\n",
      "Epoch  19 Batch  150/269 - Train Accuracy: 0.7963, Validation Accuracy: 0.7910, Loss: 0.3069\n",
      "Epoch  19 Batch  200/269 - Train Accuracy: 0.7952, Validation Accuracy: 0.7908, Loss: 0.3256\n",
      "Epoch  19 Batch  250/269 - Train Accuracy: 0.8036, Validation Accuracy: 0.7879, Loss: 0.3085\n",
      "Epoch  20 Batch   50/269 - Train Accuracy: 0.7877, Validation Accuracy: 0.8033, Loss: 0.3303\n",
      "Epoch  20 Batch  100/269 - Train Accuracy: 0.8142, Validation Accuracy: 0.7899, Loss: 0.2935\n",
      "Epoch  20 Batch  150/269 - Train Accuracy: 0.8069, Validation Accuracy: 0.8000, Loss: 0.3014\n",
      "Epoch  20 Batch  200/269 - Train Accuracy: 0.7986, Validation Accuracy: 0.7952, Loss: 0.3099\n",
      "Epoch  20 Batch  250/269 - Train Accuracy: 0.8024, Validation Accuracy: 0.7981, Loss: 0.3001\n",
      "Epoch  21 Batch   50/269 - Train Accuracy: 0.7937, Validation Accuracy: 0.8028, Loss: 0.3110\n",
      "Epoch  21 Batch  100/269 - Train Accuracy: 0.8228, Validation Accuracy: 0.7988, Loss: 0.2866\n",
      "Epoch  21 Batch  150/269 - Train Accuracy: 0.8144, Validation Accuracy: 0.7983, Loss: 0.2883\n",
      "Epoch  21 Batch  200/269 - Train Accuracy: 0.8078, Validation Accuracy: 0.7987, Loss: 0.2932\n",
      "Epoch  21 Batch  250/269 - Train Accuracy: 0.8087, Validation Accuracy: 0.8050, Loss: 0.2898\n",
      "Epoch  22 Batch   50/269 - Train Accuracy: 0.7976, Validation Accuracy: 0.8041, Loss: 0.2990\n",
      "Epoch  22 Batch  100/269 - Train Accuracy: 0.8292, Validation Accuracy: 0.7994, Loss: 0.2669\n",
      "Epoch  22 Batch  150/269 - Train Accuracy: 0.8134, Validation Accuracy: 0.8060, Loss: 0.2766\n",
      "Epoch  22 Batch  200/269 - Train Accuracy: 0.8077, Validation Accuracy: 0.8037, Loss: 0.2782\n",
      "Epoch  22 Batch  250/269 - Train Accuracy: 0.8172, Validation Accuracy: 0.8082, Loss: 0.2704\n",
      "Epoch  23 Batch   50/269 - Train Accuracy: 0.8063, Validation Accuracy: 0.8156, Loss: 0.2852\n",
      "Epoch  23 Batch  100/269 - Train Accuracy: 0.8333, Validation Accuracy: 0.8113, Loss: 0.2621\n",
      "Epoch  23 Batch  150/269 - Train Accuracy: 0.8200, Validation Accuracy: 0.8112, Loss: 0.2582\n",
      "Epoch  23 Batch  200/269 - Train Accuracy: 0.8154, Validation Accuracy: 0.8197, Loss: 0.2684\n",
      "Epoch  23 Batch  250/269 - Train Accuracy: 0.8265, Validation Accuracy: 0.8192, Loss: 0.2589\n",
      "Epoch  24 Batch   50/269 - Train Accuracy: 0.8120, Validation Accuracy: 0.8142, Loss: 0.2734\n",
      "Epoch  24 Batch  100/269 - Train Accuracy: 0.8305, Validation Accuracy: 0.8179, Loss: 0.2506\n",
      "Epoch  24 Batch  150/269 - Train Accuracy: 0.8246, Validation Accuracy: 0.8183, Loss: 0.2512\n",
      "Epoch  24 Batch  200/269 - Train Accuracy: 0.8199, Validation Accuracy: 0.8145, Loss: 0.2644\n",
      "Epoch  24 Batch  250/269 - Train Accuracy: 0.8326, Validation Accuracy: 0.8192, Loss: 0.2453\n",
      "Epoch  25 Batch   50/269 - Train Accuracy: 0.8044, Validation Accuracy: 0.8267, Loss: 0.2605\n",
      "Epoch  25 Batch  100/269 - Train Accuracy: 0.8416, Validation Accuracy: 0.8255, Loss: 0.2352\n",
      "Epoch  25 Batch  150/269 - Train Accuracy: 0.8290, Validation Accuracy: 0.8259, Loss: 0.2393\n",
      "Epoch  25 Batch  200/269 - Train Accuracy: 0.8191, Validation Accuracy: 0.8250, Loss: 0.2477\n",
      "Epoch  25 Batch  250/269 - Train Accuracy: 0.8350, Validation Accuracy: 0.8270, Loss: 0.2361\n",
      "Epoch  26 Batch   50/269 - Train Accuracy: 0.8172, Validation Accuracy: 0.8286, Loss: 0.2523\n",
      "Epoch  26 Batch  100/269 - Train Accuracy: 0.8358, Validation Accuracy: 0.8326, Loss: 0.2294\n",
      "Epoch  26 Batch  150/269 - Train Accuracy: 0.8316, Validation Accuracy: 0.8257, Loss: 0.2507\n",
      "Epoch  26 Batch  200/269 - Train Accuracy: 0.8198, Validation Accuracy: 0.8308, Loss: 0.2316\n",
      "Epoch  26 Batch  250/269 - Train Accuracy: 0.8406, Validation Accuracy: 0.8348, Loss: 0.2313\n",
      "Epoch  27 Batch   50/269 - Train Accuracy: 0.8197, Validation Accuracy: 0.8493, Loss: 0.2454\n",
      "Epoch  27 Batch  100/269 - Train Accuracy: 0.8525, Validation Accuracy: 0.8411, Loss: 0.2228\n",
      "Epoch  27 Batch  150/269 - Train Accuracy: 0.8402, Validation Accuracy: 0.8412, Loss: 0.2240\n",
      "Epoch  27 Batch  200/269 - Train Accuracy: 0.8318, Validation Accuracy: 0.8332, Loss: 0.2293\n",
      "Epoch  27 Batch  250/269 - Train Accuracy: 0.8509, Validation Accuracy: 0.8435, Loss: 0.2215\n",
      "Epoch  28 Batch   50/269 - Train Accuracy: 0.8232, Validation Accuracy: 0.8477, Loss: 0.2311\n",
      "Epoch  28 Batch  100/269 - Train Accuracy: 0.8662, Validation Accuracy: 0.8531, Loss: 0.2110\n",
      "Epoch  28 Batch  150/269 - Train Accuracy: 0.8440, Validation Accuracy: 0.8393, Loss: 0.2075\n",
      "Epoch  28 Batch  200/269 - Train Accuracy: 0.8514, Validation Accuracy: 0.8485, Loss: 0.2160\n",
      "Epoch  28 Batch  250/269 - Train Accuracy: 0.8562, Validation Accuracy: 0.8643, Loss: 0.2079\n",
      "Epoch  29 Batch   50/269 - Train Accuracy: 0.8305, Validation Accuracy: 0.8558, Loss: 0.2184\n",
      "Epoch  29 Batch  100/269 - Train Accuracy: 0.8688, Validation Accuracy: 0.8580, Loss: 0.1969\n",
      "Epoch  29 Batch  150/269 - Train Accuracy: 0.8586, Validation Accuracy: 0.8567, Loss: 0.2042\n",
      "Epoch  29 Batch  200/269 - Train Accuracy: 0.8564, Validation Accuracy: 0.8625, Loss: 0.2010\n",
      "Epoch  29 Batch  250/269 - Train Accuracy: 0.8759, Validation Accuracy: 0.8661, Loss: 0.2002\n",
      "Model Trained and Saved\n"
     ]
    }
   ],
   "source": [
    "\"\"\"\n",
    "DON'T MODIFY ANYTHING IN THIS CELL\n",
    "\"\"\"\n",
    "def get_accuracy(target, logits):\n",
    "    \"\"\"\n",
    "    Calculate accuracy\n",
    "    \"\"\"\n",
    "    max_seq = max(target.shape[1], logits.shape[1])\n",
    "    if max_seq - target.shape[1]:\n",
    "        target = np.pad(\n",
    "            target,\n",
    "            [(0,0),(0,max_seq - target.shape[1])],\n",
    "            'constant')\n",
    "    if max_seq - logits.shape[1]:\n",
    "        logits = np.pad(\n",
    "            logits,\n",
    "            [(0,0),(0,max_seq - logits.shape[1])],\n",
    "            'constant')\n",
    "\n",
    "    return np.mean(np.equal(target, logits))\n",
    "\n",
    "# Split data to training and validation sets\n",
    "train_source = source_int_text[batch_size:]\n",
    "train_target = target_int_text[batch_size:]\n",
    "valid_source = source_int_text[:batch_size]\n",
    "valid_target = target_int_text[:batch_size]\n",
    "(valid_sources_batch, valid_targets_batch, \n",
    " valid_sources_lengths, valid_targets_lengths ) = \\\n",
    "    next(get_batches(valid_source, valid_target, batch_size,\n",
    "                     source_vocab_to_int['<PAD>'], target_vocab_to_int['<PAD>']))   \n",
    "    \n",
    "with tf.Session(graph=train_graph) as sess:\n",
    "    sess.run(tf.global_variables_initializer())\n",
    "\n",
    "    for epoch_i in range(epochs):\n",
    "        for batch_i, (source_batch, target_batch, sources_lengths, targets_lengths) in enumerate(\n",
    "                get_batches(train_source, train_target, batch_size,\n",
    "                            source_vocab_to_int['<PAD>'],\n",
    "                            target_vocab_to_int['<PAD>'])):\n",
    "\n",
    "            _, loss = sess.run(\n",
    "                [train_op, cost],\n",
    "                {input_data: source_batch,\n",
    "                 targets: target_batch,\n",
    "                 lr: learning_rate,\n",
    "                 target_sequence_length: targets_lengths,\n",
    "                 source_sequence_length: sources_lengths,\n",
    "                 keep_prob: keep_probability})\n",
    "\n",
    "\n",
    "            if batch_i % display_step == 0 and batch_i > 0:\n",
    "\n",
    "\n",
    "                batch_train_logits = sess.run(\n",
    "                    inference_logits,\n",
    "                    {input_data: source_batch,\n",
    "                     source_sequence_length: sources_lengths,\n",
    "                     target_sequence_length: targets_lengths,\n",
    "                     keep_prob: 1.0})\n",
    "\n",
    "\n",
    "                batch_valid_logits = sess.run(\n",
    "                    inference_logits,\n",
    "                    {input_data: valid_sources_batch,\n",
    "                     source_sequence_length: valid_sources_lengths,\n",
    "                     target_sequence_length: valid_targets_lengths,\n",
    "                     keep_prob: 1.0})\n",
    "\n",
    "                train_acc = get_accuracy(target_batch, batch_train_logits)\n",
    "\n",
    "                valid_acc = get_accuracy(valid_targets_batch, batch_valid_logits)\n",
    "\n",
    "                print('Epoch {:>3} Batch {:>4}/{} - Train Accuracy: {:>6.4f}, Validation Accuracy: {:>6.4f}, Loss: {:>6.4f}'\n",
    "                      .format(epoch_i, batch_i, len(source_int_text) // batch_size, train_acc, valid_acc, loss))\n",
    "\n",
    "    # Save Model\n",
    "    saver = tf.train.Saver()\n",
    "    saver.save(sess, save_path)\n",
    "    print('Model Trained and Saved')"
   ]
  },
  {
   "cell_type": "markdown",
   "metadata": {
    "deletable": true,
    "editable": true
   },
   "source": [
    "### Save Parameters\n",
    "Save the `batch_size` and `save_path` parameters for inference."
   ]
  },
  {
   "cell_type": "code",
   "execution_count": 34,
   "metadata": {
    "collapsed": false,
    "deletable": true,
    "editable": true
   },
   "outputs": [],
   "source": [
    "\"\"\"\n",
    "DON'T MODIFY ANYTHING IN THIS CELL\n",
    "\"\"\"\n",
    "# Save parameters for checkpoint\n",
    "helper.save_params(save_path)"
   ]
  },
  {
   "cell_type": "markdown",
   "metadata": {
    "deletable": true,
    "editable": true
   },
   "source": [
    "# Checkpoint"
   ]
  },
  {
   "cell_type": "code",
   "execution_count": 1,
   "metadata": {
    "collapsed": false,
    "deletable": true,
    "editable": true
   },
   "outputs": [],
   "source": [
    "\"\"\"\n",
    "DON'T MODIFY ANYTHING IN THIS CELL\n",
    "\"\"\"\n",
    "import tensorflow as tf\n",
    "import numpy as np\n",
    "import helper\n",
    "import problem_unittests as tests\n",
    "\n",
    "_, (source_vocab_to_int, target_vocab_to_int), (source_int_to_vocab, target_int_to_vocab) = helper.load_preprocess()\n",
    "load_path = helper.load_params()"
   ]
  },
  {
   "cell_type": "markdown",
   "metadata": {
    "deletable": true,
    "editable": true
   },
   "source": [
    "## Sentence to Sequence\n",
    "To feed a sentence into the model for translation, you first need to preprocess it.  Implement the function `sentence_to_seq()` to preprocess new sentences.\n",
    "\n",
    "- Convert the sentence to lowercase\n",
    "- Convert words into ids using `vocab_to_int`\n",
    " - Convert words not in the vocabulary, to the `<UNK>` word id."
   ]
  },
  {
   "cell_type": "code",
   "execution_count": 28,
   "metadata": {
    "collapsed": false,
    "deletable": true,
    "editable": true
   },
   "outputs": [
    {
     "name": "stdout",
     "output_type": "stream",
     "text": [
      "Tests Passed\n"
     ]
    }
   ],
   "source": [
    "def sentence_to_seq(sentence, vocab_to_int):\n",
    "    \"\"\"\n",
    "    Convert a sentence to a sequence of ids\n",
    "    :param sentence: String\n",
    "    :param vocab_to_int: Dictionary to go from the words to an id\n",
    "    :return: List of word ids\n",
    "    \"\"\"\n",
    "    # TODO: Implement Function\n",
    "    sentence = sentence.lower().split()\n",
    "    id_seq = [vocab_to_int[word] \n",
    "              if word in list(vocab_to_int.keys()) else vocab_to_int['<UNK>'] \n",
    "              for word in sentence]\n",
    "    return id_seq\n",
    "\n",
    "\n",
    "\"\"\"\n",
    "DON'T MODIFY ANYTHING IN THIS CELL THAT IS BELOW THIS LINE\n",
    "\"\"\"\n",
    "tests.test_sentence_to_seq(sentence_to_seq)"
   ]
  },
  {
   "cell_type": "markdown",
   "metadata": {
    "deletable": true,
    "editable": true
   },
   "source": [
    "## Translate\n",
    "This will translate `translate_sentence` from English to French."
   ]
  },
  {
   "cell_type": "code",
   "execution_count": 30,
   "metadata": {
    "collapsed": false,
    "deletable": true,
    "editable": true
   },
   "outputs": [
    {
     "name": "stdout",
     "output_type": "stream",
     "text": [
      "INFO:tensorflow:Restoring parameters from checkpoints/dev\n",
      "Input\n",
      "  Word Ids:      [35, 69, 5, 71, 87, 199, 186]\n",
      "  English Words: ['he', 'saw', 'a', 'old', 'yellow', 'truck', '.']\n",
      "\n",
      "Prediction\n",
      "  Word Ids:      [187, 265, 25, 338, 322, 143, 159, 1]\n",
      "  French Words: il pas ce vieux camion vert . <EOS>\n"
     ]
    }
   ],
   "source": [
    "translate_sentence = 'he saw a old yellow truck .'\n",
    "\n",
    "\n",
    "\n",
    "# Batch Size\n",
    "batch_size = 512\n",
    "\n",
    "\n",
    "\"\"\"\n",
    "DON'T MODIFY ANYTHING IN THIS CELL\n",
    "\"\"\"\n",
    "translate_sentence = sentence_to_seq(translate_sentence, source_vocab_to_int)\n",
    "\n",
    "loaded_graph = tf.Graph()\n",
    "with tf.Session(graph=loaded_graph) as sess:\n",
    "    # Load saved model\n",
    "    loader = tf.train.import_meta_graph(load_path + '.meta')\n",
    "    loader.restore(sess, load_path)\n",
    "\n",
    "    input_data = loaded_graph.get_tensor_by_name('input:0')\n",
    "    logits = loaded_graph.get_tensor_by_name('predictions:0')\n",
    "    target_sequence_length = loaded_graph.get_tensor_by_name('target_sequence_length:0')\n",
    "    source_sequence_length = loaded_graph.get_tensor_by_name('source_sequence_length:0')\n",
    "    keep_prob = loaded_graph.get_tensor_by_name('keep_prob:0')\n",
    "\n",
    "    translate_logits = sess.run(logits, {input_data: [translate_sentence]*batch_size,\n",
    "                                         target_sequence_length: [len(translate_sentence)*2]*batch_size,\n",
    "                                         source_sequence_length: [len(translate_sentence)]*batch_size,\n",
    "                                         keep_prob: 1.0})[0]\n",
    "\n",
    "print('Input')\n",
    "print('  Word Ids:      {}'.format([i for i in translate_sentence]))\n",
    "print('  English Words: {}'.format([source_int_to_vocab[i] for i in translate_sentence]))\n",
    "\n",
    "print('\\nPrediction')\n",
    "print('  Word Ids:      {}'.format([i for i in translate_logits]))\n",
    "print('  French Words: {}'.format(\" \".join([target_int_to_vocab[i] for i in translate_logits])))\n"
   ]
  },
  {
   "cell_type": "markdown",
   "metadata": {
    "deletable": true,
    "editable": true
   },
   "source": [
    "## Imperfect Translation\n",
    "You might notice that some sentences translate better than others.  Since the dataset you're using only has a vocabulary of 227 English words of the thousands that you use, you're only going to see good results using these words.  For this project, you don't need a perfect translation. However, if you want to create a better translation model, you'll need better data.\n",
    "\n",
    "You can train on the [WMT10 French-English corpus](http://www.statmt.org/wmt10/training-giga-fren.tar).  This dataset has more vocabulary and richer in topics discussed.  However, this will take you days to train, so make sure you've a GPU and the neural network is performing well on dataset we provided.  Just make sure you play with the WMT10 corpus after you've submitted this project.\n",
    "## Submitting This Project\n",
    "When submitting this project, make sure to run all the cells before saving the notebook. Save the notebook file as \"dlnd_language_translation.ipynb\" and save it as a HTML file under \"File\" -> \"Download as\". Include the \"helper.py\" and \"problem_unittests.py\" files in your submission."
   ]
  }
 ],
 "metadata": {
  "anaconda-cloud": {},
  "kernelspec": {
   "display_name": "Python 3",
   "language": "python",
   "name": "python3"
  },
  "language_info": {
   "codemirror_mode": {
    "name": "ipython",
    "version": 3
   },
   "file_extension": ".py",
   "mimetype": "text/x-python",
   "name": "python",
   "nbconvert_exporter": "python",
   "pygments_lexer": "ipython3",
   "version": "3.5.2"
  },
  "widgets": {
   "state": {},
   "version": "1.1.2"
  }
 },
 "nbformat": 4,
 "nbformat_minor": 0
}
